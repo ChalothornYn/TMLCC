{
 "cells": [
  {
   "cell_type": "markdown",
   "id": "5441f24d",
   "metadata": {
    "id": "FMocjx8yhin6"
   },
   "source": [
    "# TMLCC 2021"
   ]
  },
  {
   "cell_type": "markdown",
   "id": "87e575f0",
   "metadata": {
    "id": "6xLXyiJUh_hz"
   },
   "source": [
    "## Loading Data"
   ]
  },
  {
   "cell_type": "code",
   "execution_count": 6,
   "id": "d2e90fa3",
   "metadata": {
    "id": "VPAn4CR-R8Qp"
   },
   "outputs": [],
   "source": [
    "import pandas as pd\n",
    "\n",
    "# Loading train.csv\n",
    "df_raw = pd.read_csv('new_train.csv')"
   ]
  },
  {
   "cell_type": "code",
   "execution_count": 7,
   "id": "b7b9d012",
   "metadata": {
    "colab": {
     "base_uri": "https://localhost:8080/",
     "height": 240
    },
    "id": "-cmLNTeSh00r",
    "outputId": "26d20d13-092b-49f6-f4b3-f7b930e5a37c",
    "scrolled": true
   },
   "outputs": [
    {
     "data": {
      "text/html": [
       "<div>\n",
       "<style scoped>\n",
       "    .dataframe tbody tr th:only-of-type {\n",
       "        vertical-align: middle;\n",
       "    }\n",
       "\n",
       "    .dataframe tbody tr th {\n",
       "        vertical-align: top;\n",
       "    }\n",
       "\n",
       "    .dataframe thead th {\n",
       "        text-align: right;\n",
       "    }\n",
       "</style>\n",
       "<table border=\"1\" class=\"dataframe\">\n",
       "  <thead>\n",
       "    <tr style=\"text-align: right;\">\n",
       "      <th></th>\n",
       "      <th>MOFname</th>\n",
       "      <th>volume</th>\n",
       "      <th>weight</th>\n",
       "      <th>density</th>\n",
       "      <th>surface_area</th>\n",
       "      <th>void_fraction</th>\n",
       "      <th>void_volume</th>\n",
       "      <th>functional_groups</th>\n",
       "      <th>metal_linker</th>\n",
       "      <th>organic_linker1</th>\n",
       "      <th>organic_linker2</th>\n",
       "      <th>topology</th>\n",
       "      <th>CO2/N2_selectivity</th>\n",
       "      <th>heat_adsorption_CO2</th>\n",
       "      <th>CO2_working_capacity</th>\n",
       "    </tr>\n",
       "  </thead>\n",
       "  <tbody>\n",
       "    <tr>\n",
       "      <th>0</th>\n",
       "      <td>mof_unit_1</td>\n",
       "      <td>1116.667429</td>\n",
       "      <td>875.240600</td>\n",
       "      <td>1.301526</td>\n",
       "      <td>0.00</td>\n",
       "      <td>0.07899</td>\n",
       "      <td>0.0607</td>\n",
       "      <td>COOH-OEt</td>\n",
       "      <td>3</td>\n",
       "      <td>4</td>\n",
       "      <td>11</td>\n",
       "      <td>pcu</td>\n",
       "      <td>22.864166</td>\n",
       "      <td>6.786041</td>\n",
       "      <td>105.284502</td>\n",
       "    </tr>\n",
       "    <tr>\n",
       "      <th>1</th>\n",
       "      <td>mof_unit_2</td>\n",
       "      <td>2769.503842</td>\n",
       "      <td>2211.697211</td>\n",
       "      <td>1.326090</td>\n",
       "      <td>603.61</td>\n",
       "      <td>0.13794</td>\n",
       "      <td>0.1040</td>\n",
       "      <td>F-OMe</td>\n",
       "      <td>10</td>\n",
       "      <td>44</td>\n",
       "      <td>57</td>\n",
       "      <td>etb</td>\n",
       "      <td>33.616780</td>\n",
       "      <td>7.147286</td>\n",
       "      <td>101.224774</td>\n",
       "    </tr>\n",
       "    <tr>\n",
       "      <th>2</th>\n",
       "      <td>mof_unit_3</td>\n",
       "      <td>1089.818728</td>\n",
       "      <td>773.687960</td>\n",
       "      <td>1.178856</td>\n",
       "      <td>788.50</td>\n",
       "      <td>0.14874</td>\n",
       "      <td>0.1262</td>\n",
       "      <td>OMe-COOH</td>\n",
       "      <td>2</td>\n",
       "      <td>22</td>\n",
       "      <td>24</td>\n",
       "      <td>pcu</td>\n",
       "      <td>19.263726</td>\n",
       "      <td>6.347967</td>\n",
       "      <td>118.987011</td>\n",
       "    </tr>\n",
       "    <tr>\n",
       "      <th>3</th>\n",
       "      <td>mof_unit_4</td>\n",
       "      <td>2205.198301</td>\n",
       "      <td>1304.638720</td>\n",
       "      <td>0.982408</td>\n",
       "      <td>1441.53</td>\n",
       "      <td>0.21814</td>\n",
       "      <td>0.2220</td>\n",
       "      <td>H-SO3H</td>\n",
       "      <td>9</td>\n",
       "      <td>17</td>\n",
       "      <td>24</td>\n",
       "      <td>sra</td>\n",
       "      <td>25.701377</td>\n",
       "      <td>6.190085</td>\n",
       "      <td>187.626004</td>\n",
       "    </tr>\n",
       "    <tr>\n",
       "      <th>4</th>\n",
       "      <td>mof_unit_5</td>\n",
       "      <td>1137.800963</td>\n",
       "      <td>901.736120</td>\n",
       "      <td>1.316020</td>\n",
       "      <td>0.00</td>\n",
       "      <td>0.07778</td>\n",
       "      <td>0.0591</td>\n",
       "      <td>NHMe-OH</td>\n",
       "      <td>2</td>\n",
       "      <td>1</td>\n",
       "      <td>22</td>\n",
       "      <td>pcu</td>\n",
       "      <td>30.001838</td>\n",
       "      <td>6.478063</td>\n",
       "      <td>79.210001</td>\n",
       "    </tr>\n",
       "  </tbody>\n",
       "</table>\n",
       "</div>"
      ],
      "text/plain": [
       "      MOFname       volume       weight   density  surface_area  \\\n",
       "0  mof_unit_1  1116.667429   875.240600  1.301526          0.00   \n",
       "1  mof_unit_2  2769.503842  2211.697211  1.326090        603.61   \n",
       "2  mof_unit_3  1089.818728   773.687960  1.178856        788.50   \n",
       "3  mof_unit_4  2205.198301  1304.638720  0.982408       1441.53   \n",
       "4  mof_unit_5  1137.800963   901.736120  1.316020          0.00   \n",
       "\n",
       "   void_fraction  void_volume functional_groups  metal_linker  \\\n",
       "0        0.07899       0.0607          COOH-OEt             3   \n",
       "1        0.13794       0.1040             F-OMe            10   \n",
       "2        0.14874       0.1262          OMe-COOH             2   \n",
       "3        0.21814       0.2220            H-SO3H             9   \n",
       "4        0.07778       0.0591           NHMe-OH             2   \n",
       "\n",
       "   organic_linker1  organic_linker2 topology  CO2/N2_selectivity  \\\n",
       "0                4               11      pcu           22.864166   \n",
       "1               44               57      etb           33.616780   \n",
       "2               22               24      pcu           19.263726   \n",
       "3               17               24      sra           25.701377   \n",
       "4                1               22      pcu           30.001838   \n",
       "\n",
       "   heat_adsorption_CO2  CO2_working_capacity  \n",
       "0             6.786041            105.284502  \n",
       "1             7.147286            101.224774  \n",
       "2             6.347967            118.987011  \n",
       "3             6.190085            187.626004  \n",
       "4             6.478063             79.210001  "
      ]
     },
     "execution_count": 7,
     "metadata": {},
     "output_type": "execute_result"
    }
   ],
   "source": [
    "# Show dataframe\n",
    "df_raw.head()"
   ]
  },
  {
   "cell_type": "code",
   "execution_count": 4,
   "id": "57938edc",
   "metadata": {
    "id": "pnNpXoXUiSHE"
   },
   "outputs": [],
   "source": [
    "# Change column name\n",
    "df = df_raw.rename(columns = {'volume [A^3]' : 'volume', 'weight [u]' : 'weight','surface_area [m^2/g]' : 'surface_area', 'void_volume [cm^3/g]' : 'void_volume', 'heat_adsorption_CO2_P0.15bar_T298K [kcal/mol]' : 'heat_adsorption_CO2_P0.15bar_T298K', 'CO2_working_capacity [mL/g]' : 'CO2_working_capacity'})"
   ]
  },
  {
   "cell_type": "code",
   "execution_count": 5,
   "id": "f690a3c8",
   "metadata": {
    "colab": {
     "base_uri": "https://localhost:8080/",
     "height": 223
    },
    "id": "YEviIWerifiM",
    "outputId": "cd569441-1382-41ef-b63c-a668a0b8ee2b"
   },
   "outputs": [
    {
     "data": {
      "text/html": [
       "<div>\n",
       "<style scoped>\n",
       "    .dataframe tbody tr th:only-of-type {\n",
       "        vertical-align: middle;\n",
       "    }\n",
       "\n",
       "    .dataframe tbody tr th {\n",
       "        vertical-align: top;\n",
       "    }\n",
       "\n",
       "    .dataframe thead th {\n",
       "        text-align: right;\n",
       "    }\n",
       "</style>\n",
       "<table border=\"1\" class=\"dataframe\">\n",
       "  <thead>\n",
       "    <tr style=\"text-align: right;\">\n",
       "      <th></th>\n",
       "      <th>MOFname</th>\n",
       "      <th>volume</th>\n",
       "      <th>weight</th>\n",
       "      <th>density</th>\n",
       "      <th>surface_area</th>\n",
       "      <th>void_fraction</th>\n",
       "      <th>void_volume</th>\n",
       "      <th>functional_groups</th>\n",
       "      <th>metal_linker</th>\n",
       "      <th>organic_linker1</th>\n",
       "      <th>organic_linker2</th>\n",
       "      <th>topology</th>\n",
       "      <th>CO2/N2_selectivity</th>\n",
       "      <th>heat_adsorption_CO2</th>\n",
       "      <th>CO2_working_capacity</th>\n",
       "    </tr>\n",
       "  </thead>\n",
       "  <tbody>\n",
       "    <tr>\n",
       "      <th>0</th>\n",
       "      <td>mof_unit_1</td>\n",
       "      <td>1116.667429</td>\n",
       "      <td>875.240600</td>\n",
       "      <td>1.301526</td>\n",
       "      <td>0.00</td>\n",
       "      <td>0.07899</td>\n",
       "      <td>0.0607</td>\n",
       "      <td>COOH-OEt</td>\n",
       "      <td>3</td>\n",
       "      <td>4</td>\n",
       "      <td>11</td>\n",
       "      <td>pcu</td>\n",
       "      <td>22.864166</td>\n",
       "      <td>6.786041</td>\n",
       "      <td>105.284502</td>\n",
       "    </tr>\n",
       "    <tr>\n",
       "      <th>1</th>\n",
       "      <td>mof_unit_2</td>\n",
       "      <td>2769.503842</td>\n",
       "      <td>2211.697211</td>\n",
       "      <td>1.326090</td>\n",
       "      <td>603.61</td>\n",
       "      <td>0.13794</td>\n",
       "      <td>0.1040</td>\n",
       "      <td>F-OMe</td>\n",
       "      <td>10</td>\n",
       "      <td>44</td>\n",
       "      <td>57</td>\n",
       "      <td>etb</td>\n",
       "      <td>33.616780</td>\n",
       "      <td>7.147286</td>\n",
       "      <td>101.224774</td>\n",
       "    </tr>\n",
       "    <tr>\n",
       "      <th>2</th>\n",
       "      <td>mof_unit_3</td>\n",
       "      <td>1089.818728</td>\n",
       "      <td>773.687960</td>\n",
       "      <td>1.178856</td>\n",
       "      <td>788.50</td>\n",
       "      <td>0.14874</td>\n",
       "      <td>0.1262</td>\n",
       "      <td>OMe-COOH</td>\n",
       "      <td>2</td>\n",
       "      <td>22</td>\n",
       "      <td>24</td>\n",
       "      <td>pcu</td>\n",
       "      <td>19.263726</td>\n",
       "      <td>6.347967</td>\n",
       "      <td>118.987011</td>\n",
       "    </tr>\n",
       "    <tr>\n",
       "      <th>3</th>\n",
       "      <td>mof_unit_4</td>\n",
       "      <td>2205.198301</td>\n",
       "      <td>1304.638720</td>\n",
       "      <td>0.982408</td>\n",
       "      <td>1441.53</td>\n",
       "      <td>0.21814</td>\n",
       "      <td>0.2220</td>\n",
       "      <td>H-SO3H</td>\n",
       "      <td>9</td>\n",
       "      <td>17</td>\n",
       "      <td>24</td>\n",
       "      <td>sra</td>\n",
       "      <td>25.701377</td>\n",
       "      <td>6.190085</td>\n",
       "      <td>187.626004</td>\n",
       "    </tr>\n",
       "    <tr>\n",
       "      <th>4</th>\n",
       "      <td>mof_unit_5</td>\n",
       "      <td>1137.800963</td>\n",
       "      <td>901.736120</td>\n",
       "      <td>1.316020</td>\n",
       "      <td>0.00</td>\n",
       "      <td>0.07778</td>\n",
       "      <td>0.0591</td>\n",
       "      <td>NHMe-OH</td>\n",
       "      <td>2</td>\n",
       "      <td>1</td>\n",
       "      <td>22</td>\n",
       "      <td>pcu</td>\n",
       "      <td>30.001838</td>\n",
       "      <td>6.478063</td>\n",
       "      <td>79.210001</td>\n",
       "    </tr>\n",
       "  </tbody>\n",
       "</table>\n",
       "</div>"
      ],
      "text/plain": [
       "      MOFname       volume       weight   density  surface_area  \\\n",
       "0  mof_unit_1  1116.667429   875.240600  1.301526          0.00   \n",
       "1  mof_unit_2  2769.503842  2211.697211  1.326090        603.61   \n",
       "2  mof_unit_3  1089.818728   773.687960  1.178856        788.50   \n",
       "3  mof_unit_4  2205.198301  1304.638720  0.982408       1441.53   \n",
       "4  mof_unit_5  1137.800963   901.736120  1.316020          0.00   \n",
       "\n",
       "   void_fraction  void_volume functional_groups  metal_linker  \\\n",
       "0        0.07899       0.0607          COOH-OEt             3   \n",
       "1        0.13794       0.1040             F-OMe            10   \n",
       "2        0.14874       0.1262          OMe-COOH             2   \n",
       "3        0.21814       0.2220            H-SO3H             9   \n",
       "4        0.07778       0.0591           NHMe-OH             2   \n",
       "\n",
       "   organic_linker1  organic_linker2 topology  CO2/N2_selectivity  \\\n",
       "0                4               11      pcu           22.864166   \n",
       "1               44               57      etb           33.616780   \n",
       "2               22               24      pcu           19.263726   \n",
       "3               17               24      sra           25.701377   \n",
       "4                1               22      pcu           30.001838   \n",
       "\n",
       "   heat_adsorption_CO2  CO2_working_capacity  \n",
       "0             6.786041            105.284502  \n",
       "1             7.147286            101.224774  \n",
       "2             6.347967            118.987011  \n",
       "3             6.190085            187.626004  \n",
       "4             6.478063             79.210001  "
      ]
     },
     "execution_count": 5,
     "metadata": {},
     "output_type": "execute_result"
    }
   ],
   "source": [
    "# Show dataframe after chaning column name\n",
    "df.head()"
   ]
  },
  {
   "cell_type": "markdown",
   "id": "12f8c5bc",
   "metadata": {
    "id": "hMaM8Agli8AC"
   },
   "source": [
    "## Cleaning data"
   ]
  },
  {
   "cell_type": "code",
   "execution_count": 32,
   "id": "2f9232b4",
   "metadata": {
    "colab": {
     "base_uri": "https://localhost:8080/"
    },
    "id": "Q7c_gziai9sG",
    "outputId": "ca183cce-fccf-4941-ad47-f632a146158d"
   },
   "outputs": [
    {
     "data": {
      "text/plain": [
       "MOFname                    0\n",
       "volume                     0\n",
       "weight                     0\n",
       "density                    0\n",
       "surface_area               0\n",
       "void_fraction              0\n",
       "void_volume                0\n",
       "functional_groups        323\n",
       "metal_linker               0\n",
       "organic_linker1            0\n",
       "organic_linker2            0\n",
       "topology                   0\n",
       "CO2/N2_selectivity         0\n",
       "heat_adsorption_CO2     2087\n",
       "CO2_working_capacity       0\n",
       "dtype: int64"
      ]
     },
     "execution_count": 32,
     "metadata": {},
     "output_type": "execute_result"
    }
   ],
   "source": [
    "# Show sum of NULL for each column\n",
    "df.isnull().sum()"
   ]
  },
  {
   "cell_type": "code",
   "execution_count": 33,
   "id": "f2631986",
   "metadata": {
    "colab": {
     "base_uri": "https://localhost:8080/"
    },
    "id": "1WcG-XyqjIXU",
    "outputId": "33018366-acf8-4716-fe0b-b507af3638a8"
   },
   "outputs": [
    {
     "data": {
      "text/plain": [
       "array([ 3, 10,  2,  9,  4,  1, 12], dtype=int64)"
      ]
     },
     "execution_count": 33,
     "metadata": {},
     "output_type": "execute_result"
    }
   ],
   "source": [
    "# Check uniqe (Distinct)\n",
    "df['metal_linker'].unique()"
   ]
  },
  {
   "cell_type": "code",
   "execution_count": 34,
   "id": "d9edb189",
   "metadata": {
    "colab": {
     "base_uri": "https://localhost:8080/"
    },
    "id": "1WcG-XyqjIXU",
    "outputId": "33018366-acf8-4716-fe0b-b507af3638a8"
   },
   "outputs": [
    {
     "data": {
      "text/plain": [
       "array([ 3, 10,  2,  9,  4,  1, 12], dtype=int64)"
      ]
     },
     "execution_count": 34,
     "metadata": {},
     "output_type": "execute_result"
    }
   ],
   "source": [
    "# Check uniqe (Dixstinct)\n",
    "df['metal_linker'].unique()"
   ]
  },
  {
   "cell_type": "code",
   "execution_count": 35,
   "id": "812213d5",
   "metadata": {
    "colab": {
     "base_uri": "https://localhost:8080/"
    },
    "id": "1WcG-XyqjIXU",
    "outputId": "33018366-acf8-4716-fe0b-b507af3638a8"
   },
   "outputs": [
    {
     "data": {
      "text/plain": [
       "array([ 3, 10,  2,  9,  4,  1, 12], dtype=int64)"
      ]
     },
     "execution_count": 35,
     "metadata": {},
     "output_type": "execute_result"
    }
   ],
   "source": [
    "# Check uniqe (Distinct)\n",
    "df['metal_linker'].unique()"
   ]
  },
  {
   "cell_type": "code",
   "execution_count": 37,
   "id": "931ec9c2",
   "metadata": {
    "colab": {
     "base_uri": "https://localhost:8080/"
    },
    "id": "56MOYIA6mWgw",
    "outputId": "fb229abc-41bf-4a98-d40b-50b28dc86615",
    "scrolled": false
   },
   "outputs": [
    {
     "data": {
      "text/plain": [
       "MOFname                 0\n",
       "volume                  0\n",
       "weight                  0\n",
       "density                 0\n",
       "surface_area            0\n",
       "void_fraction           0\n",
       "void_volume             0\n",
       "functional_groups       0\n",
       "metal_linker            0\n",
       "organic_linker1         0\n",
       "organic_linker2         0\n",
       "topology                0\n",
       "CO2/N2_selectivity      0\n",
       "heat_adsorption_CO2     0\n",
       "CO2_working_capacity    0\n",
       "dtype: int64"
      ]
     },
     "execution_count": 37,
     "metadata": {},
     "output_type": "execute_result"
    }
   ],
   "source": [
    "# Clean na from selected columns\n",
    "df['functional_groups'].fillna(value = 'empty',inplace=True)\n",
    "df.dropna(inplace=True)\n",
    "df.isnull().sum()"
   ]
  },
  {
   "cell_type": "code",
   "execution_count": null,
   "id": "d3d5c1b0",
   "metadata": {},
   "outputs": [],
   "source": []
  }
 ],
 "metadata": {
  "kernelspec": {
   "display_name": "TMLCC",
   "language": "python",
   "name": "tmlcc"
  },
  "language_info": {
   "codemirror_mode": {
    "name": "ipython",
    "version": 3
   },
   "file_extension": ".py",
   "mimetype": "text/x-python",
   "name": "python",
   "nbconvert_exporter": "python",
   "pygments_lexer": "ipython3",
   "version": "3.7.9"
  }
 },
 "nbformat": 4,
 "nbformat_minor": 5
}
