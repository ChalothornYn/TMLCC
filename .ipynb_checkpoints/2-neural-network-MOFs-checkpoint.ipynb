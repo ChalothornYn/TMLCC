{
 "cells": [
  {
   "cell_type": "markdown",
   "metadata": {
    "cell_id": "00000-bbcdf087-b579-4e38-a913-3414cca25faa",
    "deepnote_cell_type": "markdown",
    "tags": []
   },
   "source": [
    "# Machine Learning CO<sub>2</sub> Working Capacity of MOFs"
   ]
  },
  {
   "cell_type": "markdown",
   "metadata": {
    "cell_id": "00001-174fa7eb-993d-48e0-a0a2-85a1f7e43e3c",
    "deepnote_cell_type": "markdown",
    "tags": []
   },
   "source": [
    "โดย รังสิมันต์ เกษแก้ว <br>\n",
    "มหาวิทยาลัยแห่งซูริค <br>\n",
    "E-mail: rangsiman1993@gmail.com"
   ]
  },
  {
   "cell_type": "markdown",
   "metadata": {
    "cell_id": "00002-7da60b53-0058-48e8-8bd0-cd1f67d542dc",
    "deepnote_cell_type": "markdown",
    "tags": []
   },
   "source": [
    "## 0. Import packages"
   ]
  },
  {
   "cell_type": "code",
   "execution_count": null,
   "metadata": {
    "cell_id": "00003-33c47028-73cd-4ce3-94bc-fd342dff0d11",
    "deepnote_cell_type": "code",
    "deepnote_to_be_reexecuted": false,
    "executionInfo": {
     "elapsed": 568,
     "status": "ok",
     "timestamp": 1626879744327,
     "user": {
      "displayName": "Rangsiman",
      "photoUrl": "https://lh3.googleusercontent.com/a-/AOh14Ghrx1oKpguOx-cYNgdxV7f3KiO9I6z1viS7Fhy_uw=s64",
      "userId": "07053109212140093737"
     },
     "user_tz": -120
    },
    "execution_millis": 601,
    "execution_start": 1633172163878,
    "id": "lb_EA4nGHyBc",
    "source_hash": "e05d773b"
   },
   "outputs": [],
   "source": [
    "# import standard scientific libraries\n",
    "import os\n",
    "import math\n",
    "import numpy as np\n",
    "import pandas as pd\n",
    "\n",
    "# import ML models from scikit-learn\n",
    "# from sklearn.linear_model import LinearRegression\n",
    "# from sklearn.kernel_ridge import KernelRidge\n",
    "# from sklearn.gaussian_process import GaussianProcessRegressor\n",
    "# from sklearn import svm\n",
    "# from sklearn.preprocessing import PolynomialFeatures\n",
    "from sklearn.metrics import mean_absolute_error"
   ]
  },
  {
   "cell_type": "markdown",
   "metadata": {
    "cell_id": "00004-7dc4d806-2ffb-4066-a4d1-c036cfd476ba",
    "deepnote_cell_type": "markdown",
    "tags": []
   },
   "source": [
    "## 1. Import the data"
   ]
  },
  {
   "cell_type": "code",
   "execution_count": null,
   "metadata": {
    "cell_id": "00005-628ecd2d-d699-4073-a2fb-0ebf5bba07e0",
    "deepnote_cell_type": "code",
    "deepnote_to_be_reexecuted": false,
    "execution_millis": 3,
    "execution_start": 1633172164493,
    "source_hash": "d33ac5ac"
   },
   "outputs": [],
   "source": [
    "pd.set_option('max_columns', None)\n",
    "pd.set_option(\"display.precision\", 8)\n",
    "\n",
    "dataset = \"./\""
   ]
  },
  {
   "cell_type": "markdown",
   "metadata": {
    "cell_id": "00006-3a0733bd-f8cf-465c-9605-76e1603beb33",
    "deepnote_cell_type": "markdown",
    "tags": []
   },
   "source": [
    "เนื่องจากในโปรเจ็คนี้เป็นการสาธิตการรัน Machine Learning ดังนั้นจึงจะขอดึงข้อมูล MOFs แค่ 20,000 โครงสร้างแรกเท่านั้น !!!"
   ]
  },
  {
   "cell_type": "code",
   "execution_count": null,
   "metadata": {
    "cell_id": "00007-418cbbb1-52e2-459b-8fe1-2da788f32e5e",
    "deepnote_cell_type": "code",
    "deepnote_to_be_reexecuted": false,
    "executionInfo": {
     "elapsed": 3,
     "status": "ok",
     "timestamp": 1626879743762,
     "user": {
      "displayName": "Rangsiman",
      "photoUrl": "https://lh3.googleusercontent.com/a-/AOh14Ghrx1oKpguOx-cYNgdxV7f3KiO9I6z1viS7Fhy_uw=s64",
      "userId": "07053109212140093737"
     },
     "user_tz": -120
    },
    "execution_millis": 192,
    "execution_start": 1633172164505,
    "id": "UaVIeDWdBsd3",
    "source_hash": "fb1ab093"
   },
   "outputs": [
    {
     "data": {
      "text/plain": [
       "(20000, 14)"
      ]
     },
     "execution_count": 3,
     "metadata": {},
     "output_type": "execute_result"
    }
   ],
   "source": [
    "train = pd.read_csv(dataset + \"train.csv\")[:20000]\n",
    "train.shape"
   ]
  },
  {
   "cell_type": "code",
   "execution_count": null,
   "metadata": {
    "cell_id": "00008-d38fe1bf-2d23-409c-b3b2-fd074ed76d45",
    "deepnote_cell_type": "code",
    "deepnote_to_be_reexecuted": false,
    "execution_millis": 106,
    "execution_start": 1633172164701,
    "source_hash": "9f7399ba",
    "tags": []
   },
   "outputs": [
    {
     "data": {
      "application/vnd.deepnote.dataframe.v2+json": {
       "column_count": 14,
       "columns": [
        {
         "dtype": "object",
         "name": "MOFname",
         "stats": {
          "categories": [
           {
            "count": 1,
            "name": "mof_unit_884"
           },
           {
            "count": 1,
            "name": "mof_unit_1631"
           },
           {
            "count": 16,
            "name": "16 others"
           }
          ],
          "nan_count": 0,
          "unique_count": 18
         }
        },
        {
         "dtype": "float64",
         "name": "volume [A^3]",
         "stats": {
          "histogram": [
           {
            "bin_end": 2202.6166256999995,
            "bin_start": 1688.3387329999998,
            "count": 5
           },
           {
            "bin_end": 2716.8945183999995,
            "bin_start": 2202.6166256999995,
            "count": 1
           },
           {
            "bin_end": 3231.1724110999994,
            "bin_start": 2716.8945183999995,
            "count": 1
           },
           {
            "bin_end": 3745.4503037999993,
            "bin_start": 3231.1724110999994,
            "count": 0
           },
           {
            "bin_end": 4259.728196499999,
            "bin_start": 3745.4503037999993,
            "count": 4
           },
           {
            "bin_end": 4774.006089199999,
            "bin_start": 4259.728196499999,
            "count": 1
           },
           {
            "bin_end": 5288.283981899999,
            "bin_start": 4774.006089199999,
            "count": 1
           },
           {
            "bin_end": 5802.561874599999,
            "bin_start": 5288.283981899999,
            "count": 0
           },
           {
            "bin_end": 6316.839767299999,
            "bin_start": 5802.561874599999,
            "count": 4
           },
           {
            "bin_end": 6831.117659999999,
            "bin_start": 6316.839767299999,
            "count": 1
           }
          ],
          "max": "6831.117659999999",
          "min": "1688.3387329999998",
          "nan_count": 0,
          "unique_count": 18
         }
        },
        {
         "dtype": "float64",
         "name": "weight [u]",
         "stats": {
          "histogram": [
           {
            "bin_end": 1603.7759420000002,
            "bin_start": 1308.4206800000002,
            "count": 2
           },
           {
            "bin_end": 1899.131204,
            "bin_start": 1603.7759420000002,
            "count": 0
           },
           {
            "bin_end": 2194.486466,
            "bin_start": 1899.131204,
            "count": 3
           },
           {
            "bin_end": 2489.841728,
            "bin_start": 2194.486466,
            "count": 4
           },
           {
            "bin_end": 2785.19699,
            "bin_start": 2489.841728,
            "count": 1
           },
           {
            "bin_end": 3080.5522519999995,
            "bin_start": 2785.19699,
            "count": 2
           },
           {
            "bin_end": 3375.9075139999995,
            "bin_start": 3080.5522519999995,
            "count": 1
           },
           {
            "bin_end": 3671.2627759999996,
            "bin_start": 3375.9075139999995,
            "count": 2
           },
           {
            "bin_end": 3966.6180379999996,
            "bin_start": 3671.2627759999996,
            "count": 0
           },
           {
            "bin_end": 4261.9733,
            "bin_start": 3966.6180379999996,
            "count": 3
           }
          ],
          "max": "4261.9733",
          "min": "1308.4206800000002",
          "nan_count": 0,
          "unique_count": 18
         }
        },
        {
         "dtype": "float64",
         "name": "surface_area [m^2/g]",
         "stats": {
          "histogram": [
           {
            "bin_end": -1.4,
            "bin_start": -1.5,
            "count": 0
           },
           {
            "bin_end": -1.3,
            "bin_start": -1.4,
            "count": 0
           },
           {
            "bin_end": -1.2,
            "bin_start": -1.3,
            "count": 0
           },
           {
            "bin_end": -1.1,
            "bin_start": -1.2,
            "count": 0
           },
           {
            "bin_end": -1,
            "bin_start": -1.1,
            "count": 0
           },
           {
            "bin_end": -0.8999999999999999,
            "bin_start": -1,
            "count": 18
           },
           {
            "bin_end": -0.7999999999999999,
            "bin_start": -0.8999999999999999,
            "count": 0
           },
           {
            "bin_end": -0.7,
            "bin_start": -0.7999999999999999,
            "count": 0
           },
           {
            "bin_end": -0.6,
            "bin_start": -0.7,
            "count": 0
           },
           {
            "bin_end": -0.5,
            "bin_start": -0.6,
            "count": 0
           }
          ],
          "max": "-1.0",
          "min": "-1.0",
          "nan_count": 0,
          "unique_count": 1
         }
        },
        {
         "dtype": "float64",
         "name": "void_fraction",
         "stats": {
          "histogram": [
           {
            "bin_end": -1.4,
            "bin_start": -1.5,
            "count": 0
           },
           {
            "bin_end": -1.3,
            "bin_start": -1.4,
            "count": 0
           },
           {
            "bin_end": -1.2,
            "bin_start": -1.3,
            "count": 0
           },
           {
            "bin_end": -1.1,
            "bin_start": -1.2,
            "count": 0
           },
           {
            "bin_end": -1,
            "bin_start": -1.1,
            "count": 0
           },
           {
            "bin_end": -0.8999999999999999,
            "bin_start": -1,
            "count": 18
           },
           {
            "bin_end": -0.7999999999999999,
            "bin_start": -0.8999999999999999,
            "count": 0
           },
           {
            "bin_end": -0.7,
            "bin_start": -0.7999999999999999,
            "count": 0
           },
           {
            "bin_end": -0.6,
            "bin_start": -0.7,
            "count": 0
           },
           {
            "bin_end": -0.5,
            "bin_start": -0.6,
            "count": 0
           }
          ],
          "max": "-1.0",
          "min": "-1.0",
          "nan_count": 0,
          "unique_count": 1
         }
        },
        {
         "dtype": "float64",
         "name": "void_volume [cm^3/g]",
         "stats": {
          "histogram": [
           {
            "bin_end": -0.4,
            "bin_start": -0.5,
            "count": 0
           },
           {
            "bin_end": -0.3,
            "bin_start": -0.4,
            "count": 0
           },
           {
            "bin_end": -0.19999999999999996,
            "bin_start": -0.3,
            "count": 0
           },
           {
            "bin_end": -0.09999999999999998,
            "bin_start": -0.19999999999999996,
            "count": 0
           },
           {
            "bin_end": 0,
            "bin_start": -0.09999999999999998,
            "count": 0
           },
           {
            "bin_end": 0.10000000000000009,
            "bin_start": 0,
            "count": 18
           },
           {
            "bin_end": 0.20000000000000007,
            "bin_start": 0.10000000000000009,
            "count": 0
           },
           {
            "bin_end": 0.30000000000000004,
            "bin_start": 0.20000000000000007,
            "count": 0
           },
           {
            "bin_end": 0.4,
            "bin_start": 0.30000000000000004,
            "count": 0
           },
           {
            "bin_end": 0.5,
            "bin_start": 0.4,
            "count": 0
           }
          ],
          "max": "0.0",
          "min": "0.0",
          "nan_count": 0,
          "unique_count": 1
         }
        },
        {
         "dtype": "object",
         "name": "functional_groups",
         "stats": {
          "categories": [
           {
            "count": 2,
            "name": "COOH-NO2"
           },
           {
            "count": 2,
            "name": "NO2-HCO"
           },
           {
            "count": 14,
            "name": "14 others"
           }
          ],
          "nan_count": 0,
          "unique_count": 16
         }
        },
        {
         "dtype": "int64",
         "name": "metal_linker",
         "stats": {
          "histogram": [
           {
            "bin_end": 3.6,
            "bin_start": 3.5,
            "count": 0
           },
           {
            "bin_end": 3.7,
            "bin_start": 3.6,
            "count": 0
           },
           {
            "bin_end": 3.8,
            "bin_start": 3.7,
            "count": 0
           },
           {
            "bin_end": 3.9,
            "bin_start": 3.8,
            "count": 0
           },
           {
            "bin_end": 4,
            "bin_start": 3.9,
            "count": 0
           },
           {
            "bin_end": 4.1,
            "bin_start": 4,
            "count": 18
           },
           {
            "bin_end": 4.2,
            "bin_start": 4.1,
            "count": 0
           },
           {
            "bin_end": 4.3,
            "bin_start": 4.2,
            "count": 0
           },
           {
            "bin_end": 4.4,
            "bin_start": 4.3,
            "count": 0
           },
           {
            "bin_end": 4.5,
            "bin_start": 4.4,
            "count": 0
           }
          ],
          "max": "4",
          "min": "4",
          "nan_count": 0,
          "unique_count": 1
         }
        },
        {
         "dtype": "int64",
         "name": "organic_linker1",
         "stats": {
          "histogram": [
           {
            "bin_end": 2.6,
            "bin_start": 1,
            "count": 4
           },
           {
            "bin_end": 4.2,
            "bin_start": 2.6,
            "count": 2
           },
           {
            "bin_end": 5.800000000000001,
            "bin_start": 4.2,
            "count": 1
           },
           {
            "bin_end": 7.4,
            "bin_start": 5.800000000000001,
            "count": 8
           },
           {
            "bin_end": 9,
            "bin_start": 7.4,
            "count": 0
           },
           {
            "bin_end": 10.600000000000001,
            "bin_start": 9,
            "count": 0
           },
           {
            "bin_end": 12.200000000000001,
            "bin_start": 10.600000000000001,
            "count": 1
           },
           {
            "bin_end": 13.8,
            "bin_start": 12.200000000000001,
            "count": 1
           },
           {
            "bin_end": 15.4,
            "bin_start": 13.8,
            "count": 0
           },
           {
            "bin_end": 17,
            "bin_start": 15.4,
            "count": 1
           }
          ],
          "max": "17",
          "min": "1",
          "nan_count": 0,
          "unique_count": 9
         }
        },
        {
         "dtype": "int64",
         "name": "organic_linker2",
         "stats": {
          "histogram": [
           {
            "bin_end": 9,
            "bin_start": 7,
            "count": 1
           },
           {
            "bin_end": 11,
            "bin_start": 9,
            "count": 2
           },
           {
            "bin_end": 13,
            "bin_start": 11,
            "count": 2
           },
           {
            "bin_end": 15,
            "bin_start": 13,
            "count": 0
           },
           {
            "bin_end": 17,
            "bin_start": 15,
            "count": 1
           },
           {
            "bin_end": 19,
            "bin_start": 17,
            "count": 3
           },
           {
            "bin_end": 21,
            "bin_start": 19,
            "count": 1
           },
           {
            "bin_end": 23,
            "bin_start": 21,
            "count": 2
           },
           {
            "bin_end": 25,
            "bin_start": 23,
            "count": 0
           },
           {
            "bin_end": 27,
            "bin_start": 25,
            "count": 6
           }
          ],
          "max": "27",
          "min": "7",
          "nan_count": 0,
          "unique_count": 10
         }
        },
        {
         "dtype": "object",
         "name": "topology",
         "stats": {
          "categories": [
           {
            "count": 18,
            "name": "acs"
           }
          ],
          "nan_count": 0,
          "unique_count": 1
         }
        },
        {
         "dtype": "float64",
         "name": "CO2/N2_selectivity",
         "stats": {
          "histogram": [
           {
            "bin_end": 87.053115412,
            "bin_start": 62.91884658,
            "count": 1
           },
           {
            "bin_end": 111.187384244,
            "bin_start": 87.053115412,
            "count": 0
           },
           {
            "bin_end": 135.321653076,
            "bin_start": 111.187384244,
            "count": 2
           },
           {
            "bin_end": 159.455921908,
            "bin_start": 135.321653076,
            "count": 2
           },
           {
            "bin_end": 183.59019074,
            "bin_start": 159.455921908,
            "count": 4
           },
           {
            "bin_end": 207.724459572,
            "bin_start": 183.59019074,
            "count": 4
           },
           {
            "bin_end": 231.858728404,
            "bin_start": 207.724459572,
            "count": 2
           },
           {
            "bin_end": 255.992997236,
            "bin_start": 231.858728404,
            "count": 1
           },
           {
            "bin_end": 280.127266068,
            "bin_start": 255.992997236,
            "count": 0
           },
           {
            "bin_end": 304.2615349,
            "bin_start": 280.127266068,
            "count": 2
           }
          ],
          "max": "304.2615349",
          "min": "62.91884658",
          "nan_count": 0,
          "unique_count": 18
         }
        },
        {
         "dtype": "float64",
         "name": "heat_adsorption_CO2_P0.15bar_T298K [kcal/mol]",
         "stats": {
          "histogram": [
           {
            "bin_end": 6.0612398,
            "bin_start": 5.328775,
            "count": 5
           },
           {
            "bin_end": 6.7937046,
            "bin_start": 6.0612398,
            "count": 4
           },
           {
            "bin_end": 7.526169400000001,
            "bin_start": 6.7937046,
            "count": 3
           },
           {
            "bin_end": 8.2586342,
            "bin_start": 7.526169400000001,
            "count": 1
           },
           {
            "bin_end": 8.991099,
            "bin_start": 8.2586342,
            "count": 0
           },
           {
            "bin_end": 9.7235638,
            "bin_start": 8.991099,
            "count": 0
           },
           {
            "bin_end": 10.4560286,
            "bin_start": 9.7235638,
            "count": 2
           },
           {
            "bin_end": 11.1884934,
            "bin_start": 10.4560286,
            "count": 2
           },
           {
            "bin_end": 11.920958200000001,
            "bin_start": 11.1884934,
            "count": 0
           },
           {
            "bin_end": 12.653423,
            "bin_start": 11.920958200000001,
            "count": 1
           }
          ],
          "max": "12.653423",
          "min": "5.328775",
          "nan_count": 0,
          "unique_count": 18
         }
        },
        {
         "dtype": "float64",
         "name": "CO2_working_capacity [mL/g]",
         "stats": {
          "histogram": [
           {
            "bin_end": 137.91211255038908,
            "bin_start": 111.26918689661032,
            "count": 2
           },
           {
            "bin_end": 164.55503820416786,
            "bin_start": 137.91211255038908,
            "count": 3
           },
           {
            "bin_end": 191.1979638579466,
            "bin_start": 164.55503820416786,
            "count": 4
           },
           {
            "bin_end": 217.84088951172538,
            "bin_start": 191.1979638579466,
            "count": 4
           },
           {
            "bin_end": 244.48381516550415,
            "bin_start": 217.84088951172538,
            "count": 2
           },
           {
            "bin_end": 271.12674081928293,
            "bin_start": 244.48381516550415,
            "count": 0
           },
           {
            "bin_end": 297.76966647306165,
            "bin_start": 271.12674081928293,
            "count": 0
           },
           {
            "bin_end": 324.4125921268404,
            "bin_start": 297.76966647306165,
            "count": 2
           },
           {
            "bin_end": 351.0555177806192,
            "bin_start": 324.4125921268404,
            "count": 0
           },
           {
            "bin_end": 377.698443434398,
            "bin_start": 351.0555177806192,
            "count": 1
           }
          ],
          "max": "377.698443434398",
          "min": "111.26918689661032",
          "nan_count": 0,
          "unique_count": 18
         }
        },
        {
         "dtype": "int64",
         "name": "_deepnote_index_column"
        }
       ],
       "row_count": 18,
       "rows_bottom": null,
       "rows_top": [
        {
         "CO2/N2_selectivity": 283.0742314,
         "CO2_working_capacity [mL/g]": 315.2158144674206,
         "MOFname": "mof_unit_884",
         "_deepnote_index_column": 883,
         "functional_groups": "NO2-OH",
         "heat_adsorption_CO2_P0.15bar_T298K [kcal/mol]": 7.592979,
         "metal_linker": 4,
         "organic_linker1": 13,
         "organic_linker2": 21,
         "surface_area [m^2/g]": -1,
         "topology": "acs",
         "void_fraction": -1,
         "void_volume [cm^3/g]": 0,
         "volume [A^3]": 3084.500504,
         "weight [u]": 2201.75644
        },
        {
         "CO2/N2_selectivity": 159.7943856,
         "CO2_working_capacity [mL/g]": 154.6262120848332,
         "MOFname": "mof_unit_1631",
         "_deepnote_index_column": 1630,
         "functional_groups": "OMe-NO2",
         "heat_adsorption_CO2_P0.15bar_T298K [kcal/mol]": 10.334164,
         "metal_linker": 4,
         "organic_linker1": 1,
         "organic_linker2": 9,
         "surface_area [m^2/g]": -1,
         "topology": "acs",
         "void_fraction": -1,
         "void_volume [cm^3/g]": 0,
         "volume [A^3]": 2065.502764,
         "weight [u]": 1946.13554
        },
        {
         "CO2/N2_selectivity": 133.24169650000002,
         "CO2_working_capacity [mL/g]": 185.8411968589104,
         "MOFname": "mof_unit_2464",
         "_deepnote_index_column": 2463,
         "functional_groups": "I-NO2",
         "heat_adsorption_CO2_P0.15bar_T298K [kcal/mol]": 5.433424,
         "metal_linker": 4,
         "organic_linker1": 17,
         "organic_linker2": 25,
         "surface_area [m^2/g]": -1,
         "topology": "acs",
         "void_fraction": -1,
         "void_volume [cm^3/g]": 0,
         "volume [A^3]": 4332.123412,
         "weight [u]": 2391.00639
        },
        {
         "CO2/N2_selectivity": 154.557976,
         "CO2_working_capacity [mL/g]": 180.7845720395109,
         "MOFname": "mof_unit_2751",
         "_deepnote_index_column": 2750,
         "functional_groups": "NHMe-NO2",
         "heat_adsorption_CO2_P0.15bar_T298K [kcal/mol]": 5.612676,
         "metal_linker": 4,
         "organic_linker1": 7,
         "organic_linker2": 27,
         "surface_area [m^2/g]": -1,
         "topology": "acs",
         "void_fraction": -1,
         "void_volume [cm^3/g]": 0,
         "volume [A^3]": 6242.980835,
         "weight [u]": 3120.90776
        },
        {
         "CO2/N2_selectivity": 304.2615349,
         "CO2_working_capacity [mL/g]": 377.698443434398,
         "MOFname": "mof_unit_3377",
         "_deepnote_index_column": 3376,
         "functional_groups": "OEt-NO2",
         "heat_adsorption_CO2_P0.15bar_T298K [kcal/mol]": 6.251191,
         "metal_linker": 4,
         "organic_linker1": 7,
         "organic_linker2": 27,
         "surface_area [m^2/g]": -1,
         "topology": "acs",
         "void_fraction": -1,
         "void_volume [cm^3/g]": 0,
         "volume [A^3]": 6266.5703490000005,
         "weight [u]": 3616.97176
        },
        {
         "CO2/N2_selectivity": 232.3935468,
         "CO2_working_capacity [mL/g]": 216.10121380260676,
         "MOFname": "mof_unit_3846",
         "_deepnote_index_column": 3845,
         "functional_groups": "NH2-NO2",
         "heat_adsorption_CO2_P0.15bar_T298K [kcal/mol]": 6.559723,
         "metal_linker": 4,
         "organic_linker1": 6,
         "organic_linker2": 17,
         "surface_area [m^2/g]": -1,
         "topology": "acs",
         "void_fraction": -1,
         "void_volume [cm^3/g]": 0,
         "volume [A^3]": 4114.140596,
         "weight [u]": 2880.33916
        },
        {
         "CO2/N2_selectivity": 180.9941766,
         "CO2_working_capacity [mL/g]": 144.5472983680254,
         "MOFname": "mof_unit_3931",
         "_deepnote_index_column": 3930,
         "functional_groups": "COOH-NO2",
         "heat_adsorption_CO2_P0.15bar_T298K [kcal/mol]": 11.017116,
         "metal_linker": 4,
         "organic_linker1": 1,
         "organic_linker2": 11,
         "surface_area [m^2/g]": -1,
         "topology": "acs",
         "void_fraction": -1,
         "void_volume [cm^3/g]": 0,
         "volume [A^3]": 4014.788213,
         "weight [u]": 4205.48624
        },
        {
         "CO2/N2_selectivity": 228.7996881,
         "CO2_working_capacity [mL/g]": 222.57320494485597,
         "MOFname": "mof_unit_7386",
         "_deepnote_index_column": 7385,
         "functional_groups": "CN-NO2",
         "heat_adsorption_CO2_P0.15bar_T298K [kcal/mol]": 5.905715,
         "metal_linker": 4,
         "organic_linker1": 6,
         "organic_linker2": 7,
         "surface_area [m^2/g]": -1,
         "topology": "acs",
         "void_fraction": -1,
         "void_volume [cm^3/g]": 0,
         "volume [A^3]": 5149.814191,
         "weight [u]": 2703.225
        },
        {
         "CO2/N2_selectivity": 210.6673117,
         "CO2_working_capacity [mL/g]": 185.47769830013797,
         "MOFname": "mof_unit_8565",
         "_deepnote_index_column": 8564,
         "functional_groups": "NO2-NH2",
         "heat_adsorption_CO2_P0.15bar_T298K [kcal/mol]": 12.653423,
         "metal_linker": 4,
         "organic_linker1": 1,
         "organic_linker2": 22,
         "surface_area [m^2/g]": -1,
         "topology": "acs",
         "void_fraction": -1,
         "void_volume [cm^3/g]": 0,
         "volume [A^3]": 2007.475254,
         "weight [u]": 1975.88672
        },
        {
         "CO2/N2_selectivity": 147.89772630000002,
         "CO2_working_capacity [mL/g]": 186.0463870081175,
         "MOFname": "mof_unit_9496",
         "_deepnote_index_column": 9495,
         "functional_groups": "NO2-Et",
         "heat_adsorption_CO2_P0.15bar_T298K [kcal/mol]": 7.05956,
         "metal_linker": 4,
         "organic_linker1": 5,
         "organic_linker2": 11,
         "surface_area [m^2/g]": -1,
         "topology": "acs",
         "void_fraction": -1,
         "void_volume [cm^3/g]": 0,
         "volume [A^3]": 1688.3387329999998,
         "weight [u]": 1308.4206800000002
        },
        {
         "CO2/N2_selectivity": 185.8275719,
         "CO2_working_capacity [mL/g]": 213.27097638655147,
         "MOFname": "mof_unit_9998",
         "_deepnote_index_column": 9997,
         "functional_groups": "H-NO2",
         "heat_adsorption_CO2_P0.15bar_T298K [kcal/mol]": 5.829714,
         "metal_linker": 4,
         "organic_linker1": 6,
         "organic_linker2": 17,
         "surface_area [m^2/g]": -1,
         "topology": "acs",
         "void_fraction": -1,
         "void_volume [cm^3/g]": 0,
         "volume [A^3]": 4142.678504,
         "weight [u]": 2475.1756800000003
        },
        {
         "CO2/N2_selectivity": 205.0084887,
         "CO2_working_capacity [mL/g]": 213.16054017591625,
         "MOFname": "mof_unit_11347",
         "_deepnote_index_column": 11346,
         "functional_groups": "NO2-Cl",
         "heat_adsorption_CO2_P0.15bar_T298K [kcal/mol]": 6.55409,
         "metal_linker": 4,
         "organic_linker1": 6,
         "organic_linker2": 17,
         "surface_area [m^2/g]": -1,
         "topology": "acs",
         "void_fraction": -1,
         "void_volume [cm^3/g]": 0,
         "volume [A^3]": 4131.3929450000005,
         "weight [u]": 2843.51884
        },
        {
         "CO2/N2_selectivity": 133.0397461,
         "CO2_working_capacity [mL/g]": 123.4901339007166,
         "MOFname": "mof_unit_11448",
         "_deepnote_index_column": 11447,
         "functional_groups": "NO2-HCO",
         "heat_adsorption_CO2_P0.15bar_T298K [kcal/mol]": 5.328775,
         "metal_linker": 4,
         "organic_linker1": 3,
         "organic_linker2": 27,
         "surface_area [m^2/g]": -1,
         "topology": "acs",
         "void_fraction": -1,
         "void_volume [cm^3/g]": 0,
         "volume [A^3]": 6831.117659999999,
         "weight [u]": 4261.9733
        },
        {
         "CO2/N2_selectivity": 206.9609064,
         "CO2_working_capacity [mL/g]": 227.0880485336055,
         "MOFname": "mof_unit_13611",
         "_deepnote_index_column": 13610,
         "functional_groups": "COOH-NO2",
         "heat_adsorption_CO2_P0.15bar_T298K [kcal/mol]": 6.87413,
         "metal_linker": 4,
         "organic_linker1": 7,
         "organic_linker2": 27,
         "surface_area [m^2/g]": -1,
         "topology": "acs",
         "void_fraction": -1,
         "void_volume [cm^3/g]": 0,
         "volume [A^3]": 6237.325356,
         "weight [u]": 4231.64304
        },
        {
         "CO2/N2_selectivity": 62.91884658,
         "CO2_working_capacity [mL/g]": 111.26918689661032,
         "MOFname": "mof_unit_14834",
         "_deepnote_index_column": 14833,
         "functional_groups": "NO2-HCO",
         "heat_adsorption_CO2_P0.15bar_T298K [kcal/mol]": 10.445744,
         "metal_linker": 4,
         "organic_linker1": 1,
         "organic_linker2": 9,
         "surface_area [m^2/g]": -1,
         "topology": "acs",
         "void_fraction": -1,
         "void_volume [cm^3/g]": 0,
         "volume [A^3]": 2014.221991,
         "weight [u]": 1974.92324
        },
        {
         "CO2/N2_selectivity": 191.7645012,
         "CO2_working_capacity [mL/g]": 312.8481215389587,
         "MOFname": "mof_unit_15699",
         "_deepnote_index_column": 15698,
         "functional_groups": "NO2-OMe",
         "heat_adsorption_CO2_P0.15bar_T298K [kcal/mol]": 6.102301000000001,
         "metal_linker": 4,
         "organic_linker1": 7,
         "organic_linker2": 27,
         "surface_area [m^2/g]": -1,
         "topology": "acs",
         "void_fraction": -1,
         "void_volume [cm^3/g]": 0,
         "volume [A^3]": 6266.849843,
         "weight [u]": 3417.93028
        },
        {
         "CO2/N2_selectivity": 182.8437657,
         "CO2_working_capacity [mL/g]": 164.47699001225703,
         "MOFname": "mof_unit_16019",
         "_deepnote_index_column": 16018,
         "functional_groups": "Cl-NO2",
         "heat_adsorption_CO2_P0.15bar_T298K [kcal/mol]": 11.081255,
         "metal_linker": 4,
         "organic_linker1": 12,
         "organic_linker2": 15,
         "surface_area [m^2/g]": -1,
         "topology": "acs",
         "void_fraction": -1,
         "void_volume [cm^3/g]": 0,
         "volume [A^3]": 2063.227283,
         "weight [u]": 2343.91572
        },
        {
         "CO2/N2_selectivity": 162.70952350000002,
         "CO2_working_capacity [mL/g]": 195.4881052495113,
         "MOFname": "mof_unit_17890",
         "_deepnote_index_column": 17889,
         "functional_groups": "NO2",
         "heat_adsorption_CO2_P0.15bar_T298K [kcal/mol]": 7.027882000000001,
         "metal_linker": 4,
         "organic_linker1": 4,
         "organic_linker2": 19,
         "surface_area [m^2/g]": -1,
         "topology": "acs",
         "void_fraction": -1,
         "void_volume [cm^3/g]": 0,
         "volume [A^3]": 2238.661248,
         "weight [u]": 1502.60776
        }
       ]
      },
      "text/html": [
       "<div>\n",
       "<style scoped>\n",
       "    .dataframe tbody tr th:only-of-type {\n",
       "        vertical-align: middle;\n",
       "    }\n",
       "\n",
       "    .dataframe tbody tr th {\n",
       "        vertical-align: top;\n",
       "    }\n",
       "\n",
       "    .dataframe thead th {\n",
       "        text-align: right;\n",
       "    }\n",
       "</style>\n",
       "<table border=\"1\" class=\"dataframe\">\n",
       "  <thead>\n",
       "    <tr style=\"text-align: right;\">\n",
       "      <th></th>\n",
       "      <th>MOFname</th>\n",
       "      <th>volume [A^3]</th>\n",
       "      <th>weight [u]</th>\n",
       "      <th>surface_area [m^2/g]</th>\n",
       "      <th>void_fraction</th>\n",
       "      <th>void_volume [cm^3/g]</th>\n",
       "      <th>functional_groups</th>\n",
       "      <th>metal_linker</th>\n",
       "      <th>organic_linker1</th>\n",
       "      <th>organic_linker2</th>\n",
       "      <th>topology</th>\n",
       "      <th>CO2/N2_selectivity</th>\n",
       "      <th>heat_adsorption_CO2_P0.15bar_T298K [kcal/mol]</th>\n",
       "      <th>CO2_working_capacity [mL/g]</th>\n",
       "    </tr>\n",
       "  </thead>\n",
       "  <tbody>\n",
       "    <tr>\n",
       "      <th>883</th>\n",
       "      <td>mof_unit_884</td>\n",
       "      <td>3084.500504</td>\n",
       "      <td>2201.75644</td>\n",
       "      <td>-1.0</td>\n",
       "      <td>-1.0</td>\n",
       "      <td>0.0</td>\n",
       "      <td>NO2-OH</td>\n",
       "      <td>4</td>\n",
       "      <td>13</td>\n",
       "      <td>21</td>\n",
       "      <td>acs</td>\n",
       "      <td>283.07423140</td>\n",
       "      <td>7.592979</td>\n",
       "      <td>315.21581447</td>\n",
       "    </tr>\n",
       "    <tr>\n",
       "      <th>1630</th>\n",
       "      <td>mof_unit_1631</td>\n",
       "      <td>2065.502764</td>\n",
       "      <td>1946.13554</td>\n",
       "      <td>-1.0</td>\n",
       "      <td>-1.0</td>\n",
       "      <td>0.0</td>\n",
       "      <td>OMe-NO2</td>\n",
       "      <td>4</td>\n",
       "      <td>1</td>\n",
       "      <td>9</td>\n",
       "      <td>acs</td>\n",
       "      <td>159.79438560</td>\n",
       "      <td>10.334164</td>\n",
       "      <td>154.62621208</td>\n",
       "    </tr>\n",
       "    <tr>\n",
       "      <th>2463</th>\n",
       "      <td>mof_unit_2464</td>\n",
       "      <td>4332.123412</td>\n",
       "      <td>2391.00639</td>\n",
       "      <td>-1.0</td>\n",
       "      <td>-1.0</td>\n",
       "      <td>0.0</td>\n",
       "      <td>I-NO2</td>\n",
       "      <td>4</td>\n",
       "      <td>17</td>\n",
       "      <td>25</td>\n",
       "      <td>acs</td>\n",
       "      <td>133.24169650</td>\n",
       "      <td>5.433424</td>\n",
       "      <td>185.84119686</td>\n",
       "    </tr>\n",
       "    <tr>\n",
       "      <th>2750</th>\n",
       "      <td>mof_unit_2751</td>\n",
       "      <td>6242.980835</td>\n",
       "      <td>3120.90776</td>\n",
       "      <td>-1.0</td>\n",
       "      <td>-1.0</td>\n",
       "      <td>0.0</td>\n",
       "      <td>NHMe-NO2</td>\n",
       "      <td>4</td>\n",
       "      <td>7</td>\n",
       "      <td>27</td>\n",
       "      <td>acs</td>\n",
       "      <td>154.55797600</td>\n",
       "      <td>5.612676</td>\n",
       "      <td>180.78457204</td>\n",
       "    </tr>\n",
       "    <tr>\n",
       "      <th>3376</th>\n",
       "      <td>mof_unit_3377</td>\n",
       "      <td>6266.570349</td>\n",
       "      <td>3616.97176</td>\n",
       "      <td>-1.0</td>\n",
       "      <td>-1.0</td>\n",
       "      <td>0.0</td>\n",
       "      <td>OEt-NO2</td>\n",
       "      <td>4</td>\n",
       "      <td>7</td>\n",
       "      <td>27</td>\n",
       "      <td>acs</td>\n",
       "      <td>304.26153490</td>\n",
       "      <td>6.251191</td>\n",
       "      <td>377.69844343</td>\n",
       "    </tr>\n",
       "    <tr>\n",
       "      <th>3845</th>\n",
       "      <td>mof_unit_3846</td>\n",
       "      <td>4114.140596</td>\n",
       "      <td>2880.33916</td>\n",
       "      <td>-1.0</td>\n",
       "      <td>-1.0</td>\n",
       "      <td>0.0</td>\n",
       "      <td>NH2-NO2</td>\n",
       "      <td>4</td>\n",
       "      <td>6</td>\n",
       "      <td>17</td>\n",
       "      <td>acs</td>\n",
       "      <td>232.39354680</td>\n",
       "      <td>6.559723</td>\n",
       "      <td>216.10121380</td>\n",
       "    </tr>\n",
       "    <tr>\n",
       "      <th>3930</th>\n",
       "      <td>mof_unit_3931</td>\n",
       "      <td>4014.788213</td>\n",
       "      <td>4205.48624</td>\n",
       "      <td>-1.0</td>\n",
       "      <td>-1.0</td>\n",
       "      <td>0.0</td>\n",
       "      <td>COOH-NO2</td>\n",
       "      <td>4</td>\n",
       "      <td>1</td>\n",
       "      <td>11</td>\n",
       "      <td>acs</td>\n",
       "      <td>180.99417660</td>\n",
       "      <td>11.017116</td>\n",
       "      <td>144.54729837</td>\n",
       "    </tr>\n",
       "    <tr>\n",
       "      <th>7385</th>\n",
       "      <td>mof_unit_7386</td>\n",
       "      <td>5149.814191</td>\n",
       "      <td>2703.22500</td>\n",
       "      <td>-1.0</td>\n",
       "      <td>-1.0</td>\n",
       "      <td>0.0</td>\n",
       "      <td>CN-NO2</td>\n",
       "      <td>4</td>\n",
       "      <td>6</td>\n",
       "      <td>7</td>\n",
       "      <td>acs</td>\n",
       "      <td>228.79968810</td>\n",
       "      <td>5.905715</td>\n",
       "      <td>222.57320494</td>\n",
       "    </tr>\n",
       "    <tr>\n",
       "      <th>8564</th>\n",
       "      <td>mof_unit_8565</td>\n",
       "      <td>2007.475254</td>\n",
       "      <td>1975.88672</td>\n",
       "      <td>-1.0</td>\n",
       "      <td>-1.0</td>\n",
       "      <td>0.0</td>\n",
       "      <td>NO2-NH2</td>\n",
       "      <td>4</td>\n",
       "      <td>1</td>\n",
       "      <td>22</td>\n",
       "      <td>acs</td>\n",
       "      <td>210.66731170</td>\n",
       "      <td>12.653423</td>\n",
       "      <td>185.47769830</td>\n",
       "    </tr>\n",
       "    <tr>\n",
       "      <th>9495</th>\n",
       "      <td>mof_unit_9496</td>\n",
       "      <td>1688.338733</td>\n",
       "      <td>1308.42068</td>\n",
       "      <td>-1.0</td>\n",
       "      <td>-1.0</td>\n",
       "      <td>0.0</td>\n",
       "      <td>NO2-Et</td>\n",
       "      <td>4</td>\n",
       "      <td>5</td>\n",
       "      <td>11</td>\n",
       "      <td>acs</td>\n",
       "      <td>147.89772630</td>\n",
       "      <td>7.059560</td>\n",
       "      <td>186.04638701</td>\n",
       "    </tr>\n",
       "    <tr>\n",
       "      <th>9997</th>\n",
       "      <td>mof_unit_9998</td>\n",
       "      <td>4142.678504</td>\n",
       "      <td>2475.17568</td>\n",
       "      <td>-1.0</td>\n",
       "      <td>-1.0</td>\n",
       "      <td>0.0</td>\n",
       "      <td>H-NO2</td>\n",
       "      <td>4</td>\n",
       "      <td>6</td>\n",
       "      <td>17</td>\n",
       "      <td>acs</td>\n",
       "      <td>185.82757190</td>\n",
       "      <td>5.829714</td>\n",
       "      <td>213.27097639</td>\n",
       "    </tr>\n",
       "    <tr>\n",
       "      <th>11346</th>\n",
       "      <td>mof_unit_11347</td>\n",
       "      <td>4131.392945</td>\n",
       "      <td>2843.51884</td>\n",
       "      <td>-1.0</td>\n",
       "      <td>-1.0</td>\n",
       "      <td>0.0</td>\n",
       "      <td>NO2-Cl</td>\n",
       "      <td>4</td>\n",
       "      <td>6</td>\n",
       "      <td>17</td>\n",
       "      <td>acs</td>\n",
       "      <td>205.00848870</td>\n",
       "      <td>6.554090</td>\n",
       "      <td>213.16054018</td>\n",
       "    </tr>\n",
       "    <tr>\n",
       "      <th>11447</th>\n",
       "      <td>mof_unit_11448</td>\n",
       "      <td>6831.117660</td>\n",
       "      <td>4261.97330</td>\n",
       "      <td>-1.0</td>\n",
       "      <td>-1.0</td>\n",
       "      <td>0.0</td>\n",
       "      <td>NO2-HCO</td>\n",
       "      <td>4</td>\n",
       "      <td>3</td>\n",
       "      <td>27</td>\n",
       "      <td>acs</td>\n",
       "      <td>133.03974610</td>\n",
       "      <td>5.328775</td>\n",
       "      <td>123.49013390</td>\n",
       "    </tr>\n",
       "    <tr>\n",
       "      <th>13610</th>\n",
       "      <td>mof_unit_13611</td>\n",
       "      <td>6237.325356</td>\n",
       "      <td>4231.64304</td>\n",
       "      <td>-1.0</td>\n",
       "      <td>-1.0</td>\n",
       "      <td>0.0</td>\n",
       "      <td>COOH-NO2</td>\n",
       "      <td>4</td>\n",
       "      <td>7</td>\n",
       "      <td>27</td>\n",
       "      <td>acs</td>\n",
       "      <td>206.96090640</td>\n",
       "      <td>6.874130</td>\n",
       "      <td>227.08804853</td>\n",
       "    </tr>\n",
       "    <tr>\n",
       "      <th>14833</th>\n",
       "      <td>mof_unit_14834</td>\n",
       "      <td>2014.221991</td>\n",
       "      <td>1974.92324</td>\n",
       "      <td>-1.0</td>\n",
       "      <td>-1.0</td>\n",
       "      <td>0.0</td>\n",
       "      <td>NO2-HCO</td>\n",
       "      <td>4</td>\n",
       "      <td>1</td>\n",
       "      <td>9</td>\n",
       "      <td>acs</td>\n",
       "      <td>62.91884658</td>\n",
       "      <td>10.445744</td>\n",
       "      <td>111.26918690</td>\n",
       "    </tr>\n",
       "    <tr>\n",
       "      <th>15698</th>\n",
       "      <td>mof_unit_15699</td>\n",
       "      <td>6266.849843</td>\n",
       "      <td>3417.93028</td>\n",
       "      <td>-1.0</td>\n",
       "      <td>-1.0</td>\n",
       "      <td>0.0</td>\n",
       "      <td>NO2-OMe</td>\n",
       "      <td>4</td>\n",
       "      <td>7</td>\n",
       "      <td>27</td>\n",
       "      <td>acs</td>\n",
       "      <td>191.76450120</td>\n",
       "      <td>6.102301</td>\n",
       "      <td>312.84812154</td>\n",
       "    </tr>\n",
       "    <tr>\n",
       "      <th>16018</th>\n",
       "      <td>mof_unit_16019</td>\n",
       "      <td>2063.227283</td>\n",
       "      <td>2343.91572</td>\n",
       "      <td>-1.0</td>\n",
       "      <td>-1.0</td>\n",
       "      <td>0.0</td>\n",
       "      <td>Cl-NO2</td>\n",
       "      <td>4</td>\n",
       "      <td>12</td>\n",
       "      <td>15</td>\n",
       "      <td>acs</td>\n",
       "      <td>182.84376570</td>\n",
       "      <td>11.081255</td>\n",
       "      <td>164.47699001</td>\n",
       "    </tr>\n",
       "    <tr>\n",
       "      <th>17889</th>\n",
       "      <td>mof_unit_17890</td>\n",
       "      <td>2238.661248</td>\n",
       "      <td>1502.60776</td>\n",
       "      <td>-1.0</td>\n",
       "      <td>-1.0</td>\n",
       "      <td>0.0</td>\n",
       "      <td>NO2</td>\n",
       "      <td>4</td>\n",
       "      <td>4</td>\n",
       "      <td>19</td>\n",
       "      <td>acs</td>\n",
       "      <td>162.70952350</td>\n",
       "      <td>7.027882</td>\n",
       "      <td>195.48810525</td>\n",
       "    </tr>\n",
       "  </tbody>\n",
       "</table>\n",
       "</div>"
      ],
      "text/plain": [
       "              MOFname  volume [A^3]  weight [u]  surface_area [m^2/g]  \\\n",
       "883      mof_unit_884   3084.500504  2201.75644                  -1.0   \n",
       "1630    mof_unit_1631   2065.502764  1946.13554                  -1.0   \n",
       "2463    mof_unit_2464   4332.123412  2391.00639                  -1.0   \n",
       "2750    mof_unit_2751   6242.980835  3120.90776                  -1.0   \n",
       "3376    mof_unit_3377   6266.570349  3616.97176                  -1.0   \n",
       "3845    mof_unit_3846   4114.140596  2880.33916                  -1.0   \n",
       "3930    mof_unit_3931   4014.788213  4205.48624                  -1.0   \n",
       "7385    mof_unit_7386   5149.814191  2703.22500                  -1.0   \n",
       "8564    mof_unit_8565   2007.475254  1975.88672                  -1.0   \n",
       "9495    mof_unit_9496   1688.338733  1308.42068                  -1.0   \n",
       "9997    mof_unit_9998   4142.678504  2475.17568                  -1.0   \n",
       "11346  mof_unit_11347   4131.392945  2843.51884                  -1.0   \n",
       "11447  mof_unit_11448   6831.117660  4261.97330                  -1.0   \n",
       "13610  mof_unit_13611   6237.325356  4231.64304                  -1.0   \n",
       "14833  mof_unit_14834   2014.221991  1974.92324                  -1.0   \n",
       "15698  mof_unit_15699   6266.849843  3417.93028                  -1.0   \n",
       "16018  mof_unit_16019   2063.227283  2343.91572                  -1.0   \n",
       "17889  mof_unit_17890   2238.661248  1502.60776                  -1.0   \n",
       "\n",
       "       void_fraction  void_volume [cm^3/g] functional_groups  metal_linker  \\\n",
       "883             -1.0                   0.0            NO2-OH             4   \n",
       "1630            -1.0                   0.0           OMe-NO2             4   \n",
       "2463            -1.0                   0.0             I-NO2             4   \n",
       "2750            -1.0                   0.0          NHMe-NO2             4   \n",
       "3376            -1.0                   0.0           OEt-NO2             4   \n",
       "3845            -1.0                   0.0           NH2-NO2             4   \n",
       "3930            -1.0                   0.0          COOH-NO2             4   \n",
       "7385            -1.0                   0.0            CN-NO2             4   \n",
       "8564            -1.0                   0.0           NO2-NH2             4   \n",
       "9495            -1.0                   0.0            NO2-Et             4   \n",
       "9997            -1.0                   0.0             H-NO2             4   \n",
       "11346           -1.0                   0.0            NO2-Cl             4   \n",
       "11447           -1.0                   0.0           NO2-HCO             4   \n",
       "13610           -1.0                   0.0          COOH-NO2             4   \n",
       "14833           -1.0                   0.0           NO2-HCO             4   \n",
       "15698           -1.0                   0.0           NO2-OMe             4   \n",
       "16018           -1.0                   0.0            Cl-NO2             4   \n",
       "17889           -1.0                   0.0               NO2             4   \n",
       "\n",
       "       organic_linker1  organic_linker2 topology  CO2/N2_selectivity  \\\n",
       "883                 13               21      acs        283.07423140   \n",
       "1630                 1                9      acs        159.79438560   \n",
       "2463                17               25      acs        133.24169650   \n",
       "2750                 7               27      acs        154.55797600   \n",
       "3376                 7               27      acs        304.26153490   \n",
       "3845                 6               17      acs        232.39354680   \n",
       "3930                 1               11      acs        180.99417660   \n",
       "7385                 6                7      acs        228.79968810   \n",
       "8564                 1               22      acs        210.66731170   \n",
       "9495                 5               11      acs        147.89772630   \n",
       "9997                 6               17      acs        185.82757190   \n",
       "11346                6               17      acs        205.00848870   \n",
       "11447                3               27      acs        133.03974610   \n",
       "13610                7               27      acs        206.96090640   \n",
       "14833                1                9      acs         62.91884658   \n",
       "15698                7               27      acs        191.76450120   \n",
       "16018               12               15      acs        182.84376570   \n",
       "17889                4               19      acs        162.70952350   \n",
       "\n",
       "       heat_adsorption_CO2_P0.15bar_T298K [kcal/mol]  \\\n",
       "883                                         7.592979   \n",
       "1630                                       10.334164   \n",
       "2463                                        5.433424   \n",
       "2750                                        5.612676   \n",
       "3376                                        6.251191   \n",
       "3845                                        6.559723   \n",
       "3930                                       11.017116   \n",
       "7385                                        5.905715   \n",
       "8564                                       12.653423   \n",
       "9495                                        7.059560   \n",
       "9997                                        5.829714   \n",
       "11346                                       6.554090   \n",
       "11447                                       5.328775   \n",
       "13610                                       6.874130   \n",
       "14833                                      10.445744   \n",
       "15698                                       6.102301   \n",
       "16018                                      11.081255   \n",
       "17889                                       7.027882   \n",
       "\n",
       "       CO2_working_capacity [mL/g]  \n",
       "883                   315.21581447  \n",
       "1630                  154.62621208  \n",
       "2463                  185.84119686  \n",
       "2750                  180.78457204  \n",
       "3376                  377.69844343  \n",
       "3845                  216.10121380  \n",
       "3930                  144.54729837  \n",
       "7385                  222.57320494  \n",
       "8564                  185.47769830  \n",
       "9495                  186.04638701  \n",
       "9997                  213.27097639  \n",
       "11346                 213.16054018  \n",
       "11447                 123.49013390  \n",
       "13610                 227.08804853  \n",
       "14833                 111.26918690  \n",
       "15698                 312.84812154  \n",
       "16018                 164.47699001  \n",
       "17889                 195.48810525  "
      ]
     },
     "execution_count": 4,
     "metadata": {},
     "output_type": "execute_result"
    }
   ],
   "source": [
    "train[train[\"surface_area [m^2/g]\"] < 0]"
   ]
  },
  {
   "cell_type": "code",
   "execution_count": null,
   "metadata": {
    "cell_id": "00008-2d18b78e-6686-4c21-9e14-8cf1473a0f1c",
    "deepnote_cell_type": "code",
    "deepnote_to_be_reexecuted": false,
    "execution_millis": 39,
    "execution_start": 1633172164853,
    "source_hash": "e1f0b45",
    "tags": []
   },
   "outputs": [
    {
     "data": {
      "application/vnd.deepnote.dataframe.v2+json": {
       "column_count": 14,
       "columns": [
        {
         "dtype": "object",
         "name": "MOFname",
         "stats": {
          "categories": [
           {
            "count": 1,
            "name": "mof_unit_1"
           },
           {
            "count": 1,
            "name": "mof_unit_2"
           },
           {
            "count": 3,
            "name": "3 others"
           }
          ],
          "nan_count": 0,
          "unique_count": 5
         }
        },
        {
         "dtype": "float64",
         "name": "volume [A^3]",
         "stats": {
          "histogram": [
           {
            "bin_end": 1257.7872394,
            "bin_start": 1089.818728,
            "count": 3
           },
           {
            "bin_end": 1425.7557508,
            "bin_start": 1257.7872394,
            "count": 0
           },
           {
            "bin_end": 1593.7242621999999,
            "bin_start": 1425.7557508,
            "count": 0
           },
           {
            "bin_end": 1761.6927736,
            "bin_start": 1593.7242621999999,
            "count": 0
           },
           {
            "bin_end": 1929.6612850000001,
            "bin_start": 1761.6927736,
            "count": 0
           },
           {
            "bin_end": 2097.6297964,
            "bin_start": 1929.6612850000001,
            "count": 0
           },
           {
            "bin_end": 2265.5983078,
            "bin_start": 2097.6297964,
            "count": 1
           },
           {
            "bin_end": 2433.5668192000003,
            "bin_start": 2265.5983078,
            "count": 0
           },
           {
            "bin_end": 2601.5353305999997,
            "bin_start": 2433.5668192000003,
            "count": 0
           },
           {
            "bin_end": 2769.503842,
            "bin_start": 2601.5353305999997,
            "count": 1
           }
          ],
          "max": "2769.503842",
          "min": "1089.818728",
          "nan_count": 0,
          "unique_count": 5
         }
        },
        {
         "dtype": "float64",
         "name": "weight [u]",
         "stats": {
          "histogram": [
           {
            "bin_end": 917.4888851000001,
            "bin_start": 773.68796,
            "count": 3
           },
           {
            "bin_end": 1061.2898102,
            "bin_start": 917.4888851000001,
            "count": 0
           },
           {
            "bin_end": 1205.0907353,
            "bin_start": 1061.2898102,
            "count": 0
           },
           {
            "bin_end": 1348.8916604,
            "bin_start": 1205.0907353,
            "count": 1
           },
           {
            "bin_end": 1492.6925855000002,
            "bin_start": 1348.8916604,
            "count": 0
           },
           {
            "bin_end": 1636.4935106000003,
            "bin_start": 1492.6925855000002,
            "count": 0
           },
           {
            "bin_end": 1780.2944357000001,
            "bin_start": 1636.4935106000003,
            "count": 0
           },
           {
            "bin_end": 1924.0953608000002,
            "bin_start": 1780.2944357000001,
            "count": 0
           },
           {
            "bin_end": 2067.8962859000003,
            "bin_start": 1924.0953608000002,
            "count": 0
           },
           {
            "bin_end": 2211.697211,
            "bin_start": 2067.8962859000003,
            "count": 1
           }
          ],
          "max": "2211.697211",
          "min": "773.68796",
          "nan_count": 0,
          "unique_count": 5
         }
        },
        {
         "dtype": "float64",
         "name": "surface_area [m^2/g]",
         "stats": {
          "histogram": [
           {
            "bin_end": 144.153,
            "bin_start": 0,
            "count": 2
           },
           {
            "bin_end": 288.306,
            "bin_start": 144.153,
            "count": 0
           },
           {
            "bin_end": 432.45899999999995,
            "bin_start": 288.306,
            "count": 0
           },
           {
            "bin_end": 576.612,
            "bin_start": 432.45899999999995,
            "count": 0
           },
           {
            "bin_end": 720.765,
            "bin_start": 576.612,
            "count": 1
           },
           {
            "bin_end": 864.9179999999999,
            "bin_start": 720.765,
            "count": 1
           },
           {
            "bin_end": 1009.0709999999999,
            "bin_start": 864.9179999999999,
            "count": 0
           },
           {
            "bin_end": 1153.224,
            "bin_start": 1009.0709999999999,
            "count": 0
           },
           {
            "bin_end": 1297.377,
            "bin_start": 1153.224,
            "count": 0
           },
           {
            "bin_end": 1441.53,
            "bin_start": 1297.377,
            "count": 1
           }
          ],
          "max": "1441.53",
          "min": "0.0",
          "nan_count": 0,
          "unique_count": 4
         }
        },
        {
         "dtype": "float64",
         "name": "void_fraction",
         "stats": {
          "histogram": [
           {
            "bin_end": 0.091816,
            "bin_start": 0.07778,
            "count": 2
           },
           {
            "bin_end": 0.105852,
            "bin_start": 0.091816,
            "count": 0
           },
           {
            "bin_end": 0.119888,
            "bin_start": 0.105852,
            "count": 0
           },
           {
            "bin_end": 0.133924,
            "bin_start": 0.119888,
            "count": 0
           },
           {
            "bin_end": 0.14795999999999998,
            "bin_start": 0.133924,
            "count": 1
           },
           {
            "bin_end": 0.16199599999999997,
            "bin_start": 0.14795999999999998,
            "count": 1
           },
           {
            "bin_end": 0.176032,
            "bin_start": 0.16199599999999997,
            "count": 0
           },
           {
            "bin_end": 0.190068,
            "bin_start": 0.176032,
            "count": 0
           },
           {
            "bin_end": 0.204104,
            "bin_start": 0.190068,
            "count": 0
           },
           {
            "bin_end": 0.21814,
            "bin_start": 0.204104,
            "count": 1
           }
          ],
          "max": "0.21814",
          "min": "0.07778",
          "nan_count": 0,
          "unique_count": 5
         }
        },
        {
         "dtype": "float64",
         "name": "void_volume [cm^3/g]",
         "stats": {
          "histogram": [
           {
            "bin_end": 0.07539,
            "bin_start": 0.0591,
            "count": 2
           },
           {
            "bin_end": 0.09168,
            "bin_start": 0.07539,
            "count": 0
           },
           {
            "bin_end": 0.10797,
            "bin_start": 0.09168,
            "count": 1
           },
           {
            "bin_end": 0.12426,
            "bin_start": 0.10797,
            "count": 0
           },
           {
            "bin_end": 0.14055,
            "bin_start": 0.12426,
            "count": 1
           },
           {
            "bin_end": 0.15683999999999998,
            "bin_start": 0.14055,
            "count": 0
           },
           {
            "bin_end": 0.17313,
            "bin_start": 0.15683999999999998,
            "count": 0
           },
           {
            "bin_end": 0.18941999999999998,
            "bin_start": 0.17313,
            "count": 0
           },
           {
            "bin_end": 0.20571,
            "bin_start": 0.18941999999999998,
            "count": 0
           },
           {
            "bin_end": 0.222,
            "bin_start": 0.20571,
            "count": 1
           }
          ],
          "max": "0.222",
          "min": "0.0591",
          "nan_count": 0,
          "unique_count": 5
         }
        },
        {
         "dtype": "object",
         "name": "functional_groups",
         "stats": {
          "categories": [
           {
            "count": 1,
            "name": "COOH-OEt"
           },
           {
            "count": 1,
            "name": "F-OMe"
           },
           {
            "count": 3,
            "name": "3 others"
           }
          ],
          "nan_count": 0,
          "unique_count": 5
         }
        },
        {
         "dtype": "int64",
         "name": "metal_linker",
         "stats": {
          "histogram": [
           {
            "bin_end": 2.8,
            "bin_start": 2,
            "count": 2
           },
           {
            "bin_end": 3.6,
            "bin_start": 2.8,
            "count": 1
           },
           {
            "bin_end": 4.4,
            "bin_start": 3.6,
            "count": 0
           },
           {
            "bin_end": 5.2,
            "bin_start": 4.4,
            "count": 0
           },
           {
            "bin_end": 6,
            "bin_start": 5.2,
            "count": 0
           },
           {
            "bin_end": 6.800000000000001,
            "bin_start": 6,
            "count": 0
           },
           {
            "bin_end": 7.6000000000000005,
            "bin_start": 6.800000000000001,
            "count": 0
           },
           {
            "bin_end": 8.4,
            "bin_start": 7.6000000000000005,
            "count": 0
           },
           {
            "bin_end": 9.2,
            "bin_start": 8.4,
            "count": 1
           },
           {
            "bin_end": 10,
            "bin_start": 9.2,
            "count": 1
           }
          ],
          "max": "10",
          "min": "2",
          "nan_count": 0,
          "unique_count": 4
         }
        },
        {
         "dtype": "int64",
         "name": "organic_linker1",
         "stats": {
          "histogram": [
           {
            "bin_end": 5.3,
            "bin_start": 1,
            "count": 2
           },
           {
            "bin_end": 9.6,
            "bin_start": 5.3,
            "count": 0
           },
           {
            "bin_end": 13.899999999999999,
            "bin_start": 9.6,
            "count": 0
           },
           {
            "bin_end": 18.2,
            "bin_start": 13.899999999999999,
            "count": 1
           },
           {
            "bin_end": 22.5,
            "bin_start": 18.2,
            "count": 1
           },
           {
            "bin_end": 26.799999999999997,
            "bin_start": 22.5,
            "count": 0
           },
           {
            "bin_end": 31.099999999999998,
            "bin_start": 26.799999999999997,
            "count": 0
           },
           {
            "bin_end": 35.4,
            "bin_start": 31.099999999999998,
            "count": 0
           },
           {
            "bin_end": 39.699999999999996,
            "bin_start": 35.4,
            "count": 0
           },
           {
            "bin_end": 44,
            "bin_start": 39.699999999999996,
            "count": 1
           }
          ],
          "max": "44",
          "min": "1",
          "nan_count": 0,
          "unique_count": 5
         }
        },
        {
         "dtype": "int64",
         "name": "organic_linker2",
         "stats": {
          "histogram": [
           {
            "bin_end": 15.6,
            "bin_start": 11,
            "count": 1
           },
           {
            "bin_end": 20.2,
            "bin_start": 15.6,
            "count": 0
           },
           {
            "bin_end": 24.799999999999997,
            "bin_start": 20.2,
            "count": 3
           },
           {
            "bin_end": 29.4,
            "bin_start": 24.799999999999997,
            "count": 0
           },
           {
            "bin_end": 34,
            "bin_start": 29.4,
            "count": 0
           },
           {
            "bin_end": 38.599999999999994,
            "bin_start": 34,
            "count": 0
           },
           {
            "bin_end": 43.199999999999996,
            "bin_start": 38.599999999999994,
            "count": 0
           },
           {
            "bin_end": 47.8,
            "bin_start": 43.199999999999996,
            "count": 0
           },
           {
            "bin_end": 52.4,
            "bin_start": 47.8,
            "count": 0
           },
           {
            "bin_end": 57,
            "bin_start": 52.4,
            "count": 1
           }
          ],
          "max": "57",
          "min": "11",
          "nan_count": 0,
          "unique_count": 4
         }
        },
        {
         "dtype": "object",
         "name": "topology",
         "stats": {
          "categories": [
           {
            "count": 3,
            "name": "pcu"
           },
           {
            "count": 1,
            "name": "etb"
           },
           {
            "count": 1,
            "name": "sra"
           }
          ],
          "nan_count": 0,
          "unique_count": 3
         }
        },
        {
         "dtype": "float64",
         "name": "CO2/N2_selectivity",
         "stats": {
          "histogram": [
           {
            "bin_end": 20.699031154,
            "bin_start": 19.26372569,
            "count": 1
           },
           {
            "bin_end": 22.134336618,
            "bin_start": 20.699031154,
            "count": 0
           },
           {
            "bin_end": 23.569642082,
            "bin_start": 22.134336618,
            "count": 1
           },
           {
            "bin_end": 25.004947546,
            "bin_start": 23.569642082,
            "count": 0
           },
           {
            "bin_end": 26.44025301,
            "bin_start": 25.004947546,
            "count": 1
           },
           {
            "bin_end": 27.875558473999998,
            "bin_start": 26.44025301,
            "count": 0
           },
           {
            "bin_end": 29.310863937999997,
            "bin_start": 27.875558473999998,
            "count": 0
           },
           {
            "bin_end": 30.746169402,
            "bin_start": 29.310863937999997,
            "count": 1
           },
           {
            "bin_end": 32.181474865999995,
            "bin_start": 30.746169402,
            "count": 0
           },
           {
            "bin_end": 33.61678033,
            "bin_start": 32.181474865999995,
            "count": 1
           }
          ],
          "max": "33.61678033",
          "min": "19.26372569",
          "nan_count": 0,
          "unique_count": 5
         }
        },
        {
         "dtype": "float64",
         "name": "heat_adsorption_CO2_P0.15bar_T298K [kcal/mol]",
         "stats": {
          "histogram": [
           {
            "bin_end": 6.2858051,
            "bin_start": 6.190085,
            "count": 1
           },
           {
            "bin_end": 6.3815252,
            "bin_start": 6.2858051,
            "count": 1
           },
           {
            "bin_end": 6.4772453,
            "bin_start": 6.3815252,
            "count": 0
           },
           {
            "bin_end": 6.5729654,
            "bin_start": 6.4772453,
            "count": 1
           },
           {
            "bin_end": 6.6686855000000005,
            "bin_start": 6.5729654,
            "count": 0
           },
           {
            "bin_end": 6.7644056,
            "bin_start": 6.6686855000000005,
            "count": 0
           },
           {
            "bin_end": 6.8601257,
            "bin_start": 6.7644056,
            "count": 1
           },
           {
            "bin_end": 6.9558458000000005,
            "bin_start": 6.8601257,
            "count": 0
           },
           {
            "bin_end": 7.0515659,
            "bin_start": 6.9558458000000005,
            "count": 0
           },
           {
            "bin_end": 7.147286,
            "bin_start": 7.0515659,
            "count": 1
           }
          ],
          "max": "7.147286",
          "min": "6.190085",
          "nan_count": 0,
          "unique_count": 5
         }
        },
        {
         "dtype": "float64",
         "name": "CO2_working_capacity [mL/g]",
         "stats": {
          "histogram": [
           {
            "bin_end": 90.05160103992138,
            "bin_start": 79.21000065588355,
            "count": 1
           },
           {
            "bin_end": 100.8932014239592,
            "bin_start": 90.05160103992138,
            "count": 0
           },
           {
            "bin_end": 111.73480180799703,
            "bin_start": 100.8932014239592,
            "count": 2
           },
           {
            "bin_end": 122.57640219203486,
            "bin_start": 111.73480180799703,
            "count": 1
           },
           {
            "bin_end": 133.4180025760727,
            "bin_start": 122.57640219203486,
            "count": 0
           },
           {
            "bin_end": 144.2596029601105,
            "bin_start": 133.4180025760727,
            "count": 0
           },
           {
            "bin_end": 155.10120334414836,
            "bin_start": 144.2596029601105,
            "count": 0
           },
           {
            "bin_end": 165.94280372818616,
            "bin_start": 155.10120334414836,
            "count": 0
           },
           {
            "bin_end": 176.78440411222402,
            "bin_start": 165.94280372818616,
            "count": 0
           },
           {
            "bin_end": 187.62600449626183,
            "bin_start": 176.78440411222402,
            "count": 1
           }
          ],
          "max": "187.62600449626183",
          "min": "79.21000065588355",
          "nan_count": 0,
          "unique_count": 5
         }
        },
        {
         "dtype": "int64",
         "name": "_deepnote_index_column"
        }
       ],
       "row_count": 5,
       "rows_bottom": null,
       "rows_top": [
        {
         "CO2/N2_selectivity": 22.86416611,
         "CO2_working_capacity [mL/g]": 105.2845017241596,
         "MOFname": "mof_unit_1",
         "_deepnote_index_column": 0,
         "functional_groups": "COOH-OEt",
         "heat_adsorption_CO2_P0.15bar_T298K [kcal/mol]": 6.786041,
         "metal_linker": 3,
         "organic_linker1": 4,
         "organic_linker2": 11,
         "surface_area [m^2/g]": 0,
         "topology": "pcu",
         "void_fraction": 0.07899,
         "void_volume [cm^3/g]": 0.0607,
         "volume [A^3]": 1116.667429,
         "weight [u]": 875.2406
        },
        {
         "CO2/N2_selectivity": 33.61678033,
         "CO2_working_capacity [mL/g]": 101.22477417834172,
         "MOFname": "mof_unit_2",
         "_deepnote_index_column": 1,
         "functional_groups": "F-OMe",
         "heat_adsorption_CO2_P0.15bar_T298K [kcal/mol]": 7.147286,
         "metal_linker": 10,
         "organic_linker1": 44,
         "organic_linker2": 57,
         "surface_area [m^2/g]": 603.61,
         "topology": "etb",
         "void_fraction": 0.13794,
         "void_volume [cm^3/g]": 0.104,
         "volume [A^3]": 2769.503842,
         "weight [u]": 2211.697211
        },
        {
         "CO2/N2_selectivity": 19.26372569,
         "CO2_working_capacity [mL/g]": 118.98701074687752,
         "MOFname": "mof_unit_3",
         "_deepnote_index_column": 2,
         "functional_groups": "OMe-COOH",
         "heat_adsorption_CO2_P0.15bar_T298K [kcal/mol]": 6.347967,
         "metal_linker": 2,
         "organic_linker1": 22,
         "organic_linker2": 24,
         "surface_area [m^2/g]": 788.5,
         "topology": "pcu",
         "void_fraction": 0.14874,
         "void_volume [cm^3/g]": 0.1262,
         "volume [A^3]": 1089.818728,
         "weight [u]": 773.68796
        },
        {
         "CO2/N2_selectivity": 25.70137692,
         "CO2_working_capacity [mL/g]": 187.62600449626183,
         "MOFname": "mof_unit_4",
         "_deepnote_index_column": 3,
         "functional_groups": "H-SO3H",
         "heat_adsorption_CO2_P0.15bar_T298K [kcal/mol]": 6.190085,
         "metal_linker": 9,
         "organic_linker1": 17,
         "organic_linker2": 24,
         "surface_area [m^2/g]": 1441.53,
         "topology": "sra",
         "void_fraction": 0.21814,
         "void_volume [cm^3/g]": 0.222,
         "volume [A^3]": 2205.1983010000004,
         "weight [u]": 1304.63872
        },
        {
         "CO2/N2_selectivity": 30.00183795,
         "CO2_working_capacity [mL/g]": 79.21000065588355,
         "MOFname": "mof_unit_5",
         "_deepnote_index_column": 4,
         "functional_groups": "NHMe-OH",
         "heat_adsorption_CO2_P0.15bar_T298K [kcal/mol]": 6.478063,
         "metal_linker": 2,
         "organic_linker1": 1,
         "organic_linker2": 22,
         "surface_area [m^2/g]": 0,
         "topology": "pcu",
         "void_fraction": 0.07778,
         "void_volume [cm^3/g]": 0.0591,
         "volume [A^3]": 1137.800963,
         "weight [u]": 901.73612
        }
       ]
      },
      "text/html": [
       "<div>\n",
       "<style scoped>\n",
       "    .dataframe tbody tr th:only-of-type {\n",
       "        vertical-align: middle;\n",
       "    }\n",
       "\n",
       "    .dataframe tbody tr th {\n",
       "        vertical-align: top;\n",
       "    }\n",
       "\n",
       "    .dataframe thead th {\n",
       "        text-align: right;\n",
       "    }\n",
       "</style>\n",
       "<table border=\"1\" class=\"dataframe\">\n",
       "  <thead>\n",
       "    <tr style=\"text-align: right;\">\n",
       "      <th></th>\n",
       "      <th>MOFname</th>\n",
       "      <th>volume [A^3]</th>\n",
       "      <th>weight [u]</th>\n",
       "      <th>surface_area [m^2/g]</th>\n",
       "      <th>void_fraction</th>\n",
       "      <th>void_volume [cm^3/g]</th>\n",
       "      <th>functional_groups</th>\n",
       "      <th>metal_linker</th>\n",
       "      <th>organic_linker1</th>\n",
       "      <th>organic_linker2</th>\n",
       "      <th>topology</th>\n",
       "      <th>CO2/N2_selectivity</th>\n",
       "      <th>heat_adsorption_CO2_P0.15bar_T298K [kcal/mol]</th>\n",
       "      <th>CO2_working_capacity [mL/g]</th>\n",
       "    </tr>\n",
       "  </thead>\n",
       "  <tbody>\n",
       "    <tr>\n",
       "      <th>0</th>\n",
       "      <td>mof_unit_1</td>\n",
       "      <td>1116.667429</td>\n",
       "      <td>875.240600</td>\n",
       "      <td>0.00</td>\n",
       "      <td>0.07899</td>\n",
       "      <td>0.0607</td>\n",
       "      <td>COOH-OEt</td>\n",
       "      <td>3</td>\n",
       "      <td>4</td>\n",
       "      <td>11</td>\n",
       "      <td>pcu</td>\n",
       "      <td>22.86416611</td>\n",
       "      <td>6.786041</td>\n",
       "      <td>105.28450172</td>\n",
       "    </tr>\n",
       "    <tr>\n",
       "      <th>1</th>\n",
       "      <td>mof_unit_2</td>\n",
       "      <td>2769.503842</td>\n",
       "      <td>2211.697211</td>\n",
       "      <td>603.61</td>\n",
       "      <td>0.13794</td>\n",
       "      <td>0.1040</td>\n",
       "      <td>F-OMe</td>\n",
       "      <td>10</td>\n",
       "      <td>44</td>\n",
       "      <td>57</td>\n",
       "      <td>etb</td>\n",
       "      <td>33.61678033</td>\n",
       "      <td>7.147286</td>\n",
       "      <td>101.22477418</td>\n",
       "    </tr>\n",
       "    <tr>\n",
       "      <th>2</th>\n",
       "      <td>mof_unit_3</td>\n",
       "      <td>1089.818728</td>\n",
       "      <td>773.687960</td>\n",
       "      <td>788.50</td>\n",
       "      <td>0.14874</td>\n",
       "      <td>0.1262</td>\n",
       "      <td>OMe-COOH</td>\n",
       "      <td>2</td>\n",
       "      <td>22</td>\n",
       "      <td>24</td>\n",
       "      <td>pcu</td>\n",
       "      <td>19.26372569</td>\n",
       "      <td>6.347967</td>\n",
       "      <td>118.98701075</td>\n",
       "    </tr>\n",
       "    <tr>\n",
       "      <th>3</th>\n",
       "      <td>mof_unit_4</td>\n",
       "      <td>2205.198301</td>\n",
       "      <td>1304.638720</td>\n",
       "      <td>1441.53</td>\n",
       "      <td>0.21814</td>\n",
       "      <td>0.2220</td>\n",
       "      <td>H-SO3H</td>\n",
       "      <td>9</td>\n",
       "      <td>17</td>\n",
       "      <td>24</td>\n",
       "      <td>sra</td>\n",
       "      <td>25.70137692</td>\n",
       "      <td>6.190085</td>\n",
       "      <td>187.62600450</td>\n",
       "    </tr>\n",
       "    <tr>\n",
       "      <th>4</th>\n",
       "      <td>mof_unit_5</td>\n",
       "      <td>1137.800963</td>\n",
       "      <td>901.736120</td>\n",
       "      <td>0.00</td>\n",
       "      <td>0.07778</td>\n",
       "      <td>0.0591</td>\n",
       "      <td>NHMe-OH</td>\n",
       "      <td>2</td>\n",
       "      <td>1</td>\n",
       "      <td>22</td>\n",
       "      <td>pcu</td>\n",
       "      <td>30.00183795</td>\n",
       "      <td>6.478063</td>\n",
       "      <td>79.21000066</td>\n",
       "    </tr>\n",
       "  </tbody>\n",
       "</table>\n",
       "</div>"
      ],
      "text/plain": [
       "      MOFname  volume [A^3]   weight [u]  surface_area [m^2/g]  void_fraction  \\\n",
       "0  mof_unit_1   1116.667429   875.240600                  0.00        0.07899   \n",
       "1  mof_unit_2   2769.503842  2211.697211                603.61        0.13794   \n",
       "2  mof_unit_3   1089.818728   773.687960                788.50        0.14874   \n",
       "3  mof_unit_4   2205.198301  1304.638720               1441.53        0.21814   \n",
       "4  mof_unit_5   1137.800963   901.736120                  0.00        0.07778   \n",
       "\n",
       "   void_volume [cm^3/g] functional_groups  metal_linker  organic_linker1  \\\n",
       "0                0.0607          COOH-OEt             3                4   \n",
       "1                0.1040             F-OMe            10               44   \n",
       "2                0.1262          OMe-COOH             2               22   \n",
       "3                0.2220            H-SO3H             9               17   \n",
       "4                0.0591           NHMe-OH             2                1   \n",
       "\n",
       "   organic_linker2 topology  CO2/N2_selectivity  \\\n",
       "0               11      pcu         22.86416611   \n",
       "1               57      etb         33.61678033   \n",
       "2               24      pcu         19.26372569   \n",
       "3               24      sra         25.70137692   \n",
       "4               22      pcu         30.00183795   \n",
       "\n",
       "   heat_adsorption_CO2_P0.15bar_T298K [kcal/mol]  CO2_working_capacity [mL/g]  \n",
       "0                                       6.786041                 105.28450172  \n",
       "1                                       7.147286                 101.22477418  \n",
       "2                                       6.347967                 118.98701075  \n",
       "3                                       6.190085                 187.62600450  \n",
       "4                                       6.478063                  79.21000066  "
      ]
     },
     "execution_count": 5,
     "metadata": {},
     "output_type": "execute_result"
    }
   ],
   "source": [
    "train.head()"
   ]
  },
  {
   "cell_type": "code",
   "execution_count": null,
   "metadata": {
    "cell_id": "00009-f9a53b72-19a0-4737-9529-a93109e512ed",
    "colab": {
     "base_uri": "https://localhost:8080/"
    },
    "deepnote_cell_type": "code",
    "deepnote_to_be_reexecuted": false,
    "executionInfo": {
     "elapsed": 18,
     "status": "ok",
     "timestamp": 1626879746753,
     "user": {
      "displayName": "Rangsiman",
      "photoUrl": "https://lh3.googleusercontent.com/a-/AOh14Ghrx1oKpguOx-cYNgdxV7f3KiO9I6z1viS7Fhy_uw=s64",
      "userId": "07053109212140093737"
     },
     "user_tz": -120
    },
    "execution_millis": 13,
    "execution_start": 1633172164887,
    "id": "SomFg6o8ILS8",
    "outputId": "b3f8f53b-6f85-426f-ada6-b56110747bb0",
    "source_hash": "515b194f"
   },
   "outputs": [
    {
     "data": {
      "text/plain": [
       "{0: 'MOFname',\n",
       " 1: 'volume [A^3]',\n",
       " 2: 'weight [u]',\n",
       " 3: 'surface_area [m^2/g]',\n",
       " 4: 'void_fraction',\n",
       " 5: 'void_volume [cm^3/g]',\n",
       " 6: 'functional_groups',\n",
       " 7: 'metal_linker',\n",
       " 8: 'organic_linker1',\n",
       " 9: 'organic_linker2',\n",
       " 10: 'topology',\n",
       " 11: 'CO2/N2_selectivity',\n",
       " 12: 'heat_adsorption_CO2_P0.15bar_T298K [kcal/mol]',\n",
       " 13: 'CO2_working_capacity [mL/g]'}"
      ]
     },
     "execution_count": 6,
     "metadata": {},
     "output_type": "execute_result"
    }
   ],
   "source": [
    "feat = list(train.columns.values)\n",
    "feat = {k: v for k, v in enumerate(feat)}\n",
    "feat"
   ]
  },
  {
   "cell_type": "markdown",
   "metadata": {
    "cell_id": "00010-7c8837ed-f3d3-49ee-9604-597f6b6f5c1b",
    "deepnote_cell_type": "markdown"
   },
   "source": [
    "## 2. Clean data"
   ]
  },
  {
   "cell_type": "code",
   "execution_count": null,
   "metadata": {
    "cell_id": "00011-c72a1092-9b18-4a26-9f09-cc0be5431431",
    "colab": {
     "base_uri": "https://localhost:8080/",
     "height": 456
    },
    "deepnote_cell_type": "code",
    "deepnote_to_be_reexecuted": false,
    "executionInfo": {
     "elapsed": 17,
     "status": "ok",
     "timestamp": 1626879746754,
     "user": {
      "displayName": "Rangsiman",
      "photoUrl": "https://lh3.googleusercontent.com/a-/AOh14Ghrx1oKpguOx-cYNgdxV7f3KiO9I6z1viS7Fhy_uw=s64",
      "userId": "07053109212140093737"
     },
     "user_tz": -120
    },
    "execution_millis": 89,
    "execution_start": 1633172164937,
    "id": "acMro5_IahfP",
    "outputId": "a620da7c-2eeb-48e1-c948-1fc1ed14ba17",
    "source_hash": "699bf936"
   },
   "outputs": [
    {
     "data": {
      "application/vnd.deepnote.dataframe.v2+json": {
       "column_count": 11,
       "columns": [
        {
         "dtype": "float64",
         "name": "volume [A^3]",
         "stats": {
          "histogram": [
           {
            "bin_end": 5468.1394783999995,
            "bin_start": 622.480922,
            "count": 18890
           },
           {
            "bin_end": 10313.7980348,
            "bin_start": 5468.1394783999995,
            "count": 845
           },
           {
            "bin_end": 15159.4565912,
            "bin_start": 10313.7980348,
            "count": 180
           },
           {
            "bin_end": 20005.115147599998,
            "bin_start": 15159.4565912,
            "count": 46
           },
           {
            "bin_end": 24850.773703999996,
            "bin_start": 20005.115147599998,
            "count": 26
           },
           {
            "bin_end": 29696.432260399997,
            "bin_start": 24850.773703999996,
            "count": 11
           },
           {
            "bin_end": 34542.0908168,
            "bin_start": 29696.432260399997,
            "count": 1
           },
           {
            "bin_end": 39387.7493732,
            "bin_start": 34542.0908168,
            "count": 0
           },
           {
            "bin_end": 44233.4079296,
            "bin_start": 39387.7493732,
            "count": 0
           },
           {
            "bin_end": 49079.066486,
            "bin_start": 44233.4079296,
            "count": 1
           }
          ],
          "max": "49079.066486",
          "min": "622.480922",
          "nan_count": 0,
          "unique_count": 20000
         }
        },
        {
         "dtype": "float64",
         "name": "weight [u]",
         "stats": {
          "histogram": [
           {
            "bin_end": 2510.559978,
            "bin_start": 439.28122,
            "count": 17573
           },
           {
            "bin_end": 4581.838736,
            "bin_start": 2510.559978,
            "count": 2014
           },
           {
            "bin_end": 6653.117493999999,
            "bin_start": 4581.838736,
            "count": 310
           },
           {
            "bin_end": 8724.396252,
            "bin_start": 6653.117493999999,
            "count": 77
           },
           {
            "bin_end": 10795.67501,
            "bin_start": 8724.396252,
            "count": 15
           },
           {
            "bin_end": 12866.953768,
            "bin_start": 10795.67501,
            "count": 8
           },
           {
            "bin_end": 14938.232526,
            "bin_start": 12866.953768,
            "count": 1
           },
           {
            "bin_end": 17009.511284,
            "bin_start": 14938.232526,
            "count": 1
           },
           {
            "bin_end": 19080.790042,
            "bin_start": 17009.511284,
            "count": 0
           },
           {
            "bin_end": 21152.0688,
            "bin_start": 19080.790042,
            "count": 1
           }
          ],
          "max": "21152.0688",
          "min": "439.28122",
          "nan_count": 0,
          "unique_count": 17786
         }
        },
        {
         "dtype": "float64",
         "name": "surface_area [m^2/g]",
         "stats": {
          "histogram": [
           {
            "bin_end": 592.918,
            "bin_start": -1,
            "count": 5291
           },
           {
            "bin_end": 1186.836,
            "bin_start": 592.918,
            "count": 3025
           },
           {
            "bin_end": 1780.754,
            "bin_start": 1186.836,
            "count": 3816
           },
           {
            "bin_end": 2374.672,
            "bin_start": 1780.754,
            "count": 3394
           },
           {
            "bin_end": 2968.59,
            "bin_start": 2374.672,
            "count": 2344
           },
           {
            "bin_end": 3562.508,
            "bin_start": 2968.59,
            "count": 1389
           },
           {
            "bin_end": 4156.426,
            "bin_start": 3562.508,
            "count": 526
           },
           {
            "bin_end": 4750.344,
            "bin_start": 4156.426,
            "count": 170
           },
           {
            "bin_end": 5344.262,
            "bin_start": 4750.344,
            "count": 39
           },
           {
            "bin_end": 5938.18,
            "bin_start": 5344.262,
            "count": 6
           }
          ],
          "max": "5938.18",
          "min": "-1.0",
          "nan_count": 0,
          "unique_count": 15483
         }
        },
        {
         "dtype": "float64",
         "name": "void_fraction",
         "stats": {
          "histogram": [
           {
            "bin_end": -0.8268530000000001,
            "bin_start": -1,
            "count": 18
           },
           {
            "bin_end": -0.653706,
            "bin_start": -0.8268530000000001,
            "count": 0
           },
           {
            "bin_end": -0.48055899999999996,
            "bin_start": -0.653706,
            "count": 0
           },
           {
            "bin_end": -0.307412,
            "bin_start": -0.48055899999999996,
            "count": 0
           },
           {
            "bin_end": -0.13426500000000008,
            "bin_start": -0.307412,
            "count": 0
           },
           {
            "bin_end": 0.03888200000000008,
            "bin_start": -0.13426500000000008,
            "count": 483
           },
           {
            "bin_end": 0.21202900000000002,
            "bin_start": 0.03888200000000008,
            "count": 8342
           },
           {
            "bin_end": 0.38517599999999996,
            "bin_start": 0.21202900000000002,
            "count": 9110
           },
           {
            "bin_end": 0.5583229999999999,
            "bin_start": 0.38517599999999996,
            "count": 1994
           },
           {
            "bin_end": 0.73147,
            "bin_start": 0.5583229999999999,
            "count": 53
           }
          ],
          "max": "0.73147",
          "min": "-1.0",
          "nan_count": 0,
          "unique_count": 15630
         }
        },
        {
         "dtype": "float64",
         "name": "void_volume [cm^3/g]",
         "stats": {
          "histogram": [
           {
            "bin_end": 0.29846,
            "bin_start": 0,
            "count": 12384
           },
           {
            "bin_end": 0.59692,
            "bin_start": 0.29846,
            "count": 6062
           },
           {
            "bin_end": 0.8953800000000001,
            "bin_start": 0.59692,
            "count": 1254
           },
           {
            "bin_end": 1.19384,
            "bin_start": 0.8953800000000001,
            "count": 241
           },
           {
            "bin_end": 1.4923,
            "bin_start": 1.19384,
            "count": 47
           },
           {
            "bin_end": 1.7907600000000001,
            "bin_start": 1.4923,
            "count": 8
           },
           {
            "bin_end": 2.08922,
            "bin_start": 1.7907600000000001,
            "count": 2
           },
           {
            "bin_end": 2.38768,
            "bin_start": 2.08922,
            "count": 1
           },
           {
            "bin_end": 2.68614,
            "bin_start": 2.38768,
            "count": 0
           },
           {
            "bin_end": 2.9846,
            "bin_start": 2.68614,
            "count": 1
           }
          ],
          "max": "2.9846",
          "min": "0.0",
          "nan_count": 0,
          "unique_count": 6531
         }
        },
        {
         "dtype": "int64",
         "name": "metal_linker"
        },
        {
         "dtype": "int64",
         "name": "organic_linker1"
        },
        {
         "dtype": "int64",
         "name": "organic_linker2"
        },
        {
         "dtype": "float64",
         "name": "CO2/N2_selectivity"
        },
        {
         "dtype": "float64",
         "name": "heat_adsorption_CO2_P0.15bar_T298K [kcal/mol]"
        },
        {
         "dtype": "float64",
         "name": "CO2_working_capacity [mL/g]"
        },
        {
         "dtype": "int64",
         "name": "_deepnote_index_column"
        }
       ],
       "row_count": 20000,
       "rows_bottom": [
        {
         "CO2/N2_selectivity": 31.3136184,
         "CO2_working_capacity [mL/g]": 288.4460109788224,
         "_deepnote_index_column": 19955,
         "heat_adsorption_CO2_P0.15bar_T298K [kcal/mol]": 6.252351,
         "metal_linker": 2,
         "organic_linker1": 16,
         "organic_linker2": 18,
         "surface_area [m^2/g]": 2023.01,
         "void_fraction": 0.25449,
         "void_volume [cm^3/g]": 0.3026,
         "volume [A^3]": 1915.019368,
         "weight [u]": 969.98012
        },
        {
         "CO2/N2_selectivity": 47.97899232,
         "CO2_working_capacity [mL/g]": 257.43192436370344,
         "_deepnote_index_column": 19956,
         "heat_adsorption_CO2_P0.15bar_T298K [kcal/mol]": 9.637191,
         "metal_linker": 3,
         "organic_linker1": 10,
         "organic_linker2": 28,
         "surface_area [m^2/g]": 393.28,
         "void_fraction": 0.08134,
         "void_volume [cm^3/g]": 0.069,
         "volume [A^3]": 1594.725947,
         "weight [u]": 1131.66952
        },
        {
         "CO2/N2_selectivity": 27.13298094,
         "CO2_working_capacity [mL/g]": 115.5558946959759,
         "_deepnote_index_column": 19957,
         "heat_adsorption_CO2_P0.15bar_T298K [kcal/mol]": 7.634299,
         "metal_linker": 12,
         "organic_linker1": 11,
         "organic_linker2": 12,
         "surface_area [m^2/g]": 0,
         "void_fraction": 0.06425,
         "void_volume [cm^3/g]": 0.0613,
         "volume [A^3]": 5276.164899,
         "weight [u]": 3329.13384
        },
        {
         "CO2/N2_selectivity": 19.06597294,
         "CO2_working_capacity [mL/g]": 80.56874572275733,
         "_deepnote_index_column": 19958,
         "heat_adsorption_CO2_P0.15bar_T298K [kcal/mol]": 5.339959,
         "metal_linker": 9,
         "organic_linker1": 1,
         "organic_linker2": 22,
         "surface_area [m^2/g]": 1366.98,
         "void_fraction": 0.23451,
         "void_volume [cm^3/g]": 0.2308,
         "volume [A^3]": 1615.360171,
         "weight [u]": 988.325403
        },
        {
         "CO2/N2_selectivity": 24.45551833,
         "CO2_working_capacity [mL/g]": 176.55134904170853,
         "_deepnote_index_column": 19959,
         "heat_adsorption_CO2_P0.15bar_T298K [kcal/mol]": 6.297208,
         "metal_linker": 2,
         "organic_linker1": 16,
         "organic_linker2": 24,
         "surface_area [m^2/g]": 1463.06,
         "void_fraction": 0.20634,
         "void_volume [cm^3/g]": 0.2288,
         "volume [A^3]": 1483.404096,
         "weight [u]": 805.7344400000001
        },
        {
         "CO2/N2_selectivity": 15.36669406,
         "CO2_working_capacity [mL/g]": 77.77185376940507,
         "_deepnote_index_column": 19960,
         "heat_adsorption_CO2_P0.15bar_T298K [kcal/mol]": 6.024731,
         "metal_linker": 2,
         "organic_linker1": 16,
         "organic_linker2": 17,
         "surface_area [m^2/g]": 1242.65,
         "void_fraction": 0.26492,
         "void_volume [cm^3/g]": 0.1949,
         "volume [A^3]": 2110.468536,
         "weight [u]": 1727.6400199999998
        },
        {
         "CO2/N2_selectivity": 69.95728483,
         "CO2_working_capacity [mL/g]": 299.41402698334525,
         "_deepnote_index_column": 19961,
         "heat_adsorption_CO2_P0.15bar_T298K [kcal/mol]": 7.8035,
         "metal_linker": 9,
         "organic_linker1": 4,
         "organic_linker2": 2,
         "surface_area [m^2/g]": 443.72,
         "void_fraction": 0.11732,
         "void_volume [cm^3/g]": 0.1002,
         "volume [A^3]": 1623.734693,
         "weight [u]": 1144.53238
        },
        {
         "CO2/N2_selectivity": 92.07063952,
         "CO2_working_capacity [mL/g]": 302.16007535990275,
         "_deepnote_index_column": 19962,
         "heat_adsorption_CO2_P0.15bar_T298K [kcal/mol]": 7.351278,
         "metal_linker": 9,
         "organic_linker1": 16,
         "organic_linker2": 17,
         "surface_area [m^2/g]": 786.88,
         "void_fraction": 0.17034,
         "void_volume [cm^3/g]": 0.1111,
         "volume [A^3]": 2923.536826,
         "weight [u]": 2699.89592
        },
        {
         "CO2/N2_selectivity": 14.26212553,
         "CO2_working_capacity [mL/g]": 66.16383598815169,
         "_deepnote_index_column": 19963,
         "heat_adsorption_CO2_P0.15bar_T298K [kcal/mol]": 4.997523,
         "metal_linker": 2,
         "organic_linker1": 11,
         "organic_linker2": 13,
         "surface_area [m^2/g]": 1482.86,
         "void_fraction": 0.26878,
         "void_volume [cm^3/g]": 0.2675,
         "volume [A^3]": 1367.528053,
         "weight [u]": 827.37556
        },
        {
         "CO2/N2_selectivity": 16.27319094,
         "CO2_working_capacity [mL/g]": 101.99403089218352,
         "_deepnote_index_column": 19964,
         "heat_adsorption_CO2_P0.15bar_T298K [kcal/mol]": 5.39325,
         "metal_linker": 12,
         "organic_linker1": 1,
         "organic_linker2": 13,
         "surface_area [m^2/g]": 2542.82,
         "void_fraction": 0.36248,
         "void_volume [cm^3/g]": 0.4651,
         "volume [A^3]": 6476.998335,
         "weight [u]": 3039.68368
        },
        {
         "CO2/N2_selectivity": 47.88850608,
         "CO2_working_capacity [mL/g]": 184.8637786179968,
         "_deepnote_index_column": 19965,
         "heat_adsorption_CO2_P0.15bar_T298K [kcal/mol]": 7.369730000000001,
         "metal_linker": 3,
         "organic_linker1": 22,
         "organic_linker2": 25,
         "surface_area [m^2/g]": 651.64,
         "void_fraction": 0.14294,
         "void_volume [cm^3/g]": 0.1018,
         "volume [A^3]": 1734.7769399999995,
         "weight [u]": 1466.7867199999998
        },
        {
         "CO2/N2_selectivity": 18.13485663,
         "CO2_working_capacity [mL/g]": 66.55275633532148,
         "_deepnote_index_column": 19966,
         "heat_adsorption_CO2_P0.15bar_T298K [kcal/mol]": 5.075003,
         "metal_linker": 2,
         "organic_linker1": 2,
         "organic_linker2": 9,
         "surface_area [m^2/g]": 2689.24,
         "void_fraction": 0.34803,
         "void_volume [cm^3/g]": 0.4675,
         "volume [A^3]": 2265.706923,
         "weight [u]": 1015.83172
        },
        {
         "CO2/N2_selectivity": 41.44500654,
         "CO2_working_capacity [mL/g]": 128.01108532174348,
         "_deepnote_index_column": 19967,
         "heat_adsorption_CO2_P0.15bar_T298K [kcal/mol]": 8.959696000000001,
         "metal_linker": 2,
         "organic_linker1": 12,
         "organic_linker2": 15,
         "surface_area [m^2/g]": 0,
         "void_fraction": 0.05619,
         "void_volume [cm^3/g]": 0.0402,
         "volume [A^3]": 1101.617549,
         "weight [u]": 927.78652
        },
        {
         "CO2/N2_selectivity": 9.627229849,
         "CO2_working_capacity [mL/g]": 50.980260176466246,
         "_deepnote_index_column": 19968,
         "heat_adsorption_CO2_P0.15bar_T298K [kcal/mol]": 4.746307,
         "metal_linker": 3,
         "organic_linker1": 1,
         "organic_linker2": 17,
         "surface_area [m^2/g]": 3329.53,
         "void_fraction": 0.37418,
         "void_volume [cm^3/g]": 0.5132,
         "volume [A^3]": 1574.2808619999998,
         "weight [u]": 691.2698
        },
        {
         "CO2/N2_selectivity": 11.69497388,
         "CO2_working_capacity [mL/g]": 69.67319832282176,
         "_deepnote_index_column": 19969,
         "heat_adsorption_CO2_P0.15bar_T298K [kcal/mol]": 5.223775,
         "metal_linker": 12,
         "organic_linker1": 1,
         "organic_linker2": 22,
         "surface_area [m^2/g]": 3170.82,
         "void_fraction": 0.3770699999999999,
         "void_volume [cm^3/g]": 0.5075,
         "volume [A^3]": 5076.049984,
         "weight [u]": 2271.428653
        },
        {
         "CO2/N2_selectivity": 27.55625111,
         "CO2_working_capacity [mL/g]": 76.16235742606658,
         "_deepnote_index_column": 19970,
         "heat_adsorption_CO2_P0.15bar_T298K [kcal/mol]": 5.600676,
         "metal_linker": 4,
         "organic_linker1": 4,
         "organic_linker2": 19,
         "surface_area [m^2/g]": 1386.74,
         "void_fraction": 0.24939,
         "void_volume [cm^3/g]": 0.2141,
         "volume [A^3]": 2263.347613,
         "weight [u]": 1587.35886
        },
        {
         "CO2/N2_selectivity": 25.54686435,
         "CO2_working_capacity [mL/g]": 125.28220490618156,
         "_deepnote_index_column": 19971,
         "heat_adsorption_CO2_P0.15bar_T298K [kcal/mol]": 6.472784,
         "metal_linker": 3,
         "organic_linker1": 4,
         "organic_linker2": 22,
         "surface_area [m^2/g]": 702.12,
         "void_fraction": 0.12988,
         "void_volume [cm^3/g]": 0.1182,
         "volume [A^3]": 1128.278858,
         "weight [u]": 746.341946
        },
        {
         "CO2/N2_selectivity": 77.11134897,
         "CO2_working_capacity [mL/g]": 166.07278500210867,
         "_deepnote_index_column": 19972,
         "heat_adsorption_CO2_P0.15bar_T298K [kcal/mol]": 8.225941,
         "metal_linker": 3,
         "organic_linker1": 4,
         "organic_linker2": 9,
         "surface_area [m^2/g]": 356.39,
         "void_fraction": 0.08087,
         "void_volume [cm^3/g]": 0.0595,
         "volume [A^3]": 1142.088632,
         "weight [u]": 935.44796
        },
        {
         "CO2/N2_selectivity": 60.52948175,
         "CO2_working_capacity [mL/g]": 96.7584630947144,
         "_deepnote_index_column": 19973,
         "heat_adsorption_CO2_P0.15bar_T298K [kcal/mol]": 6.830593,
         "metal_linker": 2,
         "organic_linker1": 4,
         "organic_linker2": 12,
         "surface_area [m^2/g]": 0,
         "void_fraction": 0.07797,
         "void_volume [cm^3/g]": 0.0557,
         "volume [A^3]": 1129.329733,
         "weight [u]": 951.49668
        },
        {
         "CO2/N2_selectivity": 16.89079431,
         "CO2_working_capacity [mL/g]": 134.03027149273342,
         "_deepnote_index_column": 19974,
         "heat_adsorption_CO2_P0.15bar_T298K [kcal/mol]": 5.602545,
         "metal_linker": 2,
         "organic_linker1": 16,
         "organic_linker2": 26,
         "surface_area [m^2/g]": 3179.69,
         "void_fraction": 0.37399,
         "void_volume [cm^3/g]": 0.5553,
         "volume [A^3]": 2389.0359120000003,
         "weight [u]": 968.87124
        },
        {
         "CO2/N2_selectivity": 29.42947145,
         "CO2_working_capacity [mL/g]": 198.45568635353152,
         "_deepnote_index_column": 19975,
         "heat_adsorption_CO2_P0.15bar_T298K [kcal/mol]": 6.312621,
         "metal_linker": 2,
         "organic_linker1": 4,
         "organic_linker2": 10,
         "surface_area [m^2/g]": 1179.05,
         "void_fraction": 0.17351,
         "void_volume [cm^3/g]": 0.159,
         "volume [A^3]": 898.785821,
         "weight [u]": 590.48838
        },
        {
         "CO2/N2_selectivity": 38.22237002,
         "CO2_working_capacity [mL/g]": 165.09734767977153,
         "_deepnote_index_column": 19976,
         "heat_adsorption_CO2_P0.15bar_T298K [kcal/mol]": 6.782057000000001,
         "metal_linker": 2,
         "organic_linker1": 16,
         "organic_linker2": 21,
         "surface_area [m^2/g]": 919.3,
         "void_fraction": 0.1727,
         "void_volume [cm^3/g]": 0.1417,
         "volume [A^3]": 1885.494446,
         "weight [u]": 1384.023436
        },
        {
         "CO2/N2_selectivity": 13.64386512,
         "CO2_working_capacity [mL/g]": 49.99079134754614,
         "_deepnote_index_column": 19977,
         "heat_adsorption_CO2_P0.15bar_T298K [kcal/mol]": 4.945465,
         "metal_linker": 3,
         "organic_linker1": 16,
         "organic_linker2": 27,
         "surface_area [m^2/g]": 2593.55,
         "void_fraction": 0.37349,
         "void_volume [cm^3/g]": 0.5547,
         "volume [A^3]": 3018.284118,
         "weight [u]": 1223.76972
        },
        {
         "CO2/N2_selectivity": 15.22133907,
         "CO2_working_capacity [mL/g]": 164.07156201028377,
         "_deepnote_index_column": 19978,
         "heat_adsorption_CO2_P0.15bar_T298K [kcal/mol]": 5.536437,
         "metal_linker": 3,
         "organic_linker1": 11,
         "organic_linker2": 29,
         "surface_area [m^2/g]": 3114.94,
         "void_fraction": 0.31806,
         "void_volume [cm^3/g]": 0.451,
         "volume [A^3]": 2975.712741,
         "weight [u]": 1263.83028
        },
        {
         "CO2/N2_selectivity": 8.601845941,
         "CO2_working_capacity [mL/g]": 60.44541928768097,
         "_deepnote_index_column": 19979,
         "heat_adsorption_CO2_P0.15bar_T298K [kcal/mol]": 4.625645,
         "metal_linker": 2,
         "organic_linker1": 4,
         "organic_linker2": 29,
         "surface_area [m^2/g]": 3653.27,
         "void_fraction": 0.43637,
         "void_volume [cm^3/g]": 0.6979,
         "volume [A^3]": 2867.85634,
         "weight [u]": 1079.92182
        },
        {
         "CO2/N2_selectivity": 16.94934556,
         "CO2_working_capacity [mL/g]": 131.89665710938473,
         "_deepnote_index_column": 19980,
         "heat_adsorption_CO2_P0.15bar_T298K [kcal/mol]": 5.879281,
         "metal_linker": 12,
         "organic_linker1": 1,
         "organic_linker2": 10,
         "surface_area [m^2/g]": 2201.68,
         "void_fraction": 0.27738,
         "void_volume [cm^3/g]": 0.3279,
         "volume [A^3]": 2064.587256,
         "weight [u]": 1051.6906
        },
        {
         "CO2/N2_selectivity": 20.40060604,
         "CO2_working_capacity [mL/g]": 120.12158186152011,
         "_deepnote_index_column": 19981,
         "heat_adsorption_CO2_P0.15bar_T298K [kcal/mol]": 6.0119,
         "metal_linker": 4,
         "organic_linker1": 3,
         "organic_linker2": 7,
         "surface_area [m^2/g]": 725.31,
         "void_fraction": 0.14343,
         "void_volume [cm^3/g]": 0.1663,
         "volume [A^3]": 6085.440664,
         "weight [u]": 3161.26034
        },
        {
         "CO2/N2_selectivity": 13.36349237,
         "CO2_working_capacity [mL/g]": 97.38575397724632,
         "_deepnote_index_column": 19982,
         "heat_adsorption_CO2_P0.15bar_T298K [kcal/mol]": 5.131789,
         "metal_linker": 12,
         "organic_linker1": 13,
         "organic_linker2": 17,
         "surface_area [m^2/g]": 3054.98,
         "void_fraction": 0.38404,
         "void_volume [cm^3/g]": 0.5883,
         "volume [A^3]": 4383.764416,
         "weight [u]": 1723.4298199999998
        },
        {
         "CO2/N2_selectivity": 34.93791462,
         "CO2_working_capacity [mL/g]": 98.81977395002392,
         "_deepnote_index_column": 19983,
         "heat_adsorption_CO2_P0.15bar_T298K [kcal/mol]": 6.903562,
         "metal_linker": 10,
         "organic_linker1": 46,
         "organic_linker2": 55,
         "surface_area [m^2/g]": 443.92,
         "void_fraction": 0.09956,
         "void_volume [cm^3/g]": 0.0699,
         "volume [A^3]": 1976.577845,
         "weight [u]": 1694.496136
        },
        {
         "CO2/N2_selectivity": 15.31189109,
         "CO2_working_capacity [mL/g]": 77.03891389613094,
         "_deepnote_index_column": 19984,
         "heat_adsorption_CO2_P0.15bar_T298K [kcal/mol]": 5.502676,
         "metal_linker": 2,
         "organic_linker1": 14,
         "organic_linker2": 26,
         "surface_area [m^2/g]": 2705.2,
         "void_fraction": 0.36438,
         "void_volume [cm^3/g]": 0.4819,
         "volume [A^3]": 1793.248364,
         "weight [u]": 816.6413299999999
        },
        {
         "CO2/N2_selectivity": 46.10205857,
         "CO2_working_capacity [mL/g]": 222.92019584882493,
         "_deepnote_index_column": 19985,
         "heat_adsorption_CO2_P0.15bar_T298K [kcal/mol]": 7.859323,
         "metal_linker": 2,
         "organic_linker1": 1,
         "organic_linker2": 4,
         "surface_area [m^2/g]": 0,
         "void_fraction": 0.06802,
         "void_volume [cm^3/g]": 0.0582,
         "volume [A^3]": 1128.337782,
         "weight [u]": 793.76372
        },
        {
         "CO2/N2_selectivity": 65.76054257,
         "CO2_working_capacity [mL/g]": 343.0709962593473,
         "_deepnote_index_column": 19986,
         "heat_adsorption_CO2_P0.15bar_T298K [kcal/mol]": 6.754144999999999,
         "metal_linker": 2,
         "organic_linker1": 4,
         "organic_linker2": 4,
         "surface_area [m^2/g]": 1005.34,
         "void_fraction": 0.17213,
         "void_volume [cm^3/g]": 0.1504,
         "volume [A^3]": 1128.263707,
         "weight [u]": 777.55562
        },
        {
         "CO2/N2_selectivity": 14.45635165,
         "CO2_working_capacity [mL/g]": 91.07190616801437,
         "_deepnote_index_column": 19987,
         "heat_adsorption_CO2_P0.15bar_T298K [kcal/mol]": 5.00802,
         "metal_linker": 3,
         "organic_linker1": 16,
         "organic_linker2": 23,
         "surface_area [m^2/g]": 3219.12,
         "void_fraction": 0.39078,
         "void_volume [cm^3/g]": 0.5657,
         "volume [A^3]": 2532.558608,
         "weight [u]": 1053.61702
        },
        {
         "CO2/N2_selectivity": 16.26166569,
         "CO2_working_capacity [mL/g]": 68.83543484154556,
         "_deepnote_index_column": 19988,
         "heat_adsorption_CO2_P0.15bar_T298K [kcal/mol]": 5.47885,
         "metal_linker": 1,
         "organic_linker1": 1,
         "organic_linker2": 11,
         "surface_area [m^2/g]": 1789.81,
         "void_fraction": 0.28125,
         "void_volume [cm^3/g]": 0.3079,
         "volume [A^3]": 8829.697436,
         "weight [u]": 4857.084797
        },
        {
         "CO2/N2_selectivity": 8.664079351,
         "CO2_working_capacity [mL/g]": 57.170960880864286,
         "_deepnote_index_column": 19989,
         "heat_adsorption_CO2_P0.15bar_T298K [kcal/mol]": 5.102883,
         "metal_linker": 3,
         "organic_linker1": 17,
         "organic_linker2": 20,
         "surface_area [m^2/g]": 3285.34,
         "void_fraction": 0.40892,
         "void_volume [cm^3/g]": 0.6724,
         "volume [A^3]": 2997.478353,
         "weight [u]": 1097.83676
        },
        {
         "CO2/N2_selectivity": 22.61477782,
         "CO2_working_capacity [mL/g]": 124.9768132923173,
         "_deepnote_index_column": 19990,
         "heat_adsorption_CO2_P0.15bar_T298K [kcal/mol]": 6.528509,
         "metal_linker": 9,
         "organic_linker1": 1,
         "organic_linker2": 24,
         "surface_area [m^2/g]": 679.77,
         "void_fraction": 0.1102799999999999,
         "void_volume [cm^3/g]": 0.0947,
         "volume [A^3]": 1605.805982,
         "weight [u]": 1126.47096
        },
        {
         "CO2/N2_selectivity": 14.57178748,
         "CO2_working_capacity [mL/g]": 60.14200859239315,
         "_deepnote_index_column": 19991,
         "heat_adsorption_CO2_P0.15bar_T298K [kcal/mol]": 4.801615,
         "metal_linker": 12,
         "organic_linker1": 13,
         "organic_linker2": 17,
         "surface_area [m^2/g]": 3708.54,
         "void_fraction": 0.4671399999999999,
         "void_volume [cm^3/g]": 0.7874,
         "volume [A^3]": 4296.739427,
         "weight [u]": 1535.0797
        },
        {
         "CO2/N2_selectivity": 22.06196066,
         "CO2_working_capacity [mL/g]": 131.77284969835867,
         "_deepnote_index_column": 19992,
         "heat_adsorption_CO2_P0.15bar_T298K [kcal/mol]": 5.400854,
         "metal_linker": 4,
         "organic_linker1": 17,
         "organic_linker2": 23,
         "surface_area [m^2/g]": 2573.15,
         "void_fraction": 0.3571,
         "void_volume [cm^3/g]": 0.4882,
         "volume [A^3]": 4597.892468,
         "weight [u]": 2025.4949
        },
        {
         "CO2/N2_selectivity": 36.65075671,
         "CO2_working_capacity [mL/g]": 161.5696618482696,
         "_deepnote_index_column": 19993,
         "heat_adsorption_CO2_P0.15bar_T298K [kcal/mol]": 6.999496000000001,
         "metal_linker": 9,
         "organic_linker1": 1,
         "organic_linker2": 17,
         "surface_area [m^2/g]": 850.67,
         "void_fraction": 0.1636099999999999,
         "void_volume [cm^3/g]": 0.12,
         "volume [A^3]": 2246.349941,
         "weight [u]": 1844.14768
        },
        {
         "CO2/N2_selectivity": 35.35983789,
         "CO2_working_capacity [mL/g]": 159.78501928746624,
         "_deepnote_index_column": 19994,
         "heat_adsorption_CO2_P0.15bar_T298K [kcal/mol]": 6.81653,
         "metal_linker": 3,
         "organic_linker1": 4,
         "organic_linker2": 21,
         "surface_area [m^2/g]": 589.29,
         "void_fraction": 0.10626,
         "void_volume [cm^3/g]": 0.1019,
         "volume [A^3]": 1426.344845,
         "weight [u]": 895.53166
        },
        {
         "CO2/N2_selectivity": 8.852425761000001,
         "CO2_working_capacity [mL/g]": 63.357864824657526,
         "_deepnote_index_column": 19995,
         "heat_adsorption_CO2_P0.15bar_T298K [kcal/mol]": 4.787996,
         "metal_linker": 12,
         "organic_linker1": 11,
         "organic_linker2": 11,
         "surface_area [m^2/g]": 2944.18,
         "void_fraction": 0.3367199999999999,
         "void_volume [cm^3/g]": 0.4342,
         "volume [A^3]": 5189.923599000001,
         "weight [u]": 2423.54144
        },
        {
         "CO2/N2_selectivity": 14.8056893,
         "CO2_working_capacity [mL/g]": 90.6669733956852,
         "_deepnote_index_column": 19996,
         "heat_adsorption_CO2_P0.15bar_T298K [kcal/mol]": 4.909318,
         "metal_linker": 3,
         "organic_linker1": 3,
         "organic_linker2": 3,
         "surface_area [m^2/g]": 3208.43,
         "void_fraction": 0.44798,
         "void_volume [cm^3/g]": 0.8356,
         "volume [A^3]": 13710.436745,
         "weight [u]": 4426.378
        },
        {
         "CO2/N2_selectivity": 18.93154465,
         "CO2_working_capacity [mL/g]": 78.37355778699163,
         "_deepnote_index_column": 19997,
         "heat_adsorption_CO2_P0.15bar_T298K [kcal/mol]": 5.574042,
         "metal_linker": 3,
         "organic_linker1": 1,
         "organic_linker2": 19,
         "surface_area [m^2/g]": 2102.05,
         "void_fraction": 0.3310599999999999,
         "void_volume [cm^3/g]": 0.3506,
         "volume [A^3]": 1215.143789,
         "weight [u]": 691.01496
        },
        {
         "CO2/N2_selectivity": 19.42797408,
         "CO2_working_capacity [mL/g]": 114.99909149945478,
         "_deepnote_index_column": 19998,
         "heat_adsorption_CO2_P0.15bar_T298K [kcal/mol]": 5.772101999999999,
         "metal_linker": 2,
         "organic_linker1": 12,
         "organic_linker2": 13,
         "surface_area [m^2/g]": 1818.66,
         "void_fraction": 0.22698,
         "void_volume [cm^3/g]": 0.2436,
         "volume [A^3]": 1271.408263,
         "weight [u]": 713.46376
        },
        {
         "CO2/N2_selectivity": 28.19799629,
         "CO2_working_capacity [mL/g]": 221.4970709282176,
         "_deepnote_index_column": 19999,
         "heat_adsorption_CO2_P0.15bar_T298K [kcal/mol]": 6.243139,
         "metal_linker": 2,
         "organic_linker1": 16,
         "organic_linker2": 19,
         "surface_area [m^2/g]": 1264.5,
         "void_fraction": 0.1877,
         "void_volume [cm^3/g]": 0.208,
         "volume [A^3]": 1646.78834,
         "weight [u]": 894.87728
        }
       ],
       "rows_top": [
        {
         "CO2/N2_selectivity": 22.86416611,
         "CO2_working_capacity [mL/g]": 105.2845017241596,
         "_deepnote_index_column": 0,
         "heat_adsorption_CO2_P0.15bar_T298K [kcal/mol]": 6.786041,
         "metal_linker": 3,
         "organic_linker1": 4,
         "organic_linker2": 11,
         "surface_area [m^2/g]": 0,
         "void_fraction": 0.07899,
         "void_volume [cm^3/g]": 0.0607,
         "volume [A^3]": 1116.667429,
         "weight [u]": 875.2406
        },
        {
         "CO2/N2_selectivity": 33.61678033,
         "CO2_working_capacity [mL/g]": 101.22477417834172,
         "_deepnote_index_column": 1,
         "heat_adsorption_CO2_P0.15bar_T298K [kcal/mol]": 7.147286,
         "metal_linker": 10,
         "organic_linker1": 44,
         "organic_linker2": 57,
         "surface_area [m^2/g]": 603.61,
         "void_fraction": 0.13794,
         "void_volume [cm^3/g]": 0.104,
         "volume [A^3]": 2769.503842,
         "weight [u]": 2211.697211
        },
        {
         "CO2/N2_selectivity": 19.26372569,
         "CO2_working_capacity [mL/g]": 118.98701074687752,
         "_deepnote_index_column": 2,
         "heat_adsorption_CO2_P0.15bar_T298K [kcal/mol]": 6.347967,
         "metal_linker": 2,
         "organic_linker1": 22,
         "organic_linker2": 24,
         "surface_area [m^2/g]": 788.5,
         "void_fraction": 0.14874,
         "void_volume [cm^3/g]": 0.1262,
         "volume [A^3]": 1089.818728,
         "weight [u]": 773.68796
        },
        {
         "CO2/N2_selectivity": 25.70137692,
         "CO2_working_capacity [mL/g]": 187.62600449626183,
         "_deepnote_index_column": 3,
         "heat_adsorption_CO2_P0.15bar_T298K [kcal/mol]": 6.190085,
         "metal_linker": 9,
         "organic_linker1": 17,
         "organic_linker2": 24,
         "surface_area [m^2/g]": 1441.53,
         "void_fraction": 0.21814,
         "void_volume [cm^3/g]": 0.222,
         "volume [A^3]": 2205.1983010000004,
         "weight [u]": 1304.63872
        },
        {
         "CO2/N2_selectivity": 30.00183795,
         "CO2_working_capacity [mL/g]": 79.21000065588355,
         "_deepnote_index_column": 4,
         "heat_adsorption_CO2_P0.15bar_T298K [kcal/mol]": 6.478063,
         "metal_linker": 2,
         "organic_linker1": 1,
         "organic_linker2": 22,
         "surface_area [m^2/g]": 0,
         "void_fraction": 0.07778,
         "void_volume [cm^3/g]": 0.0591,
         "volume [A^3]": 1137.800963,
         "weight [u]": 901.73612
        },
        {
         "CO2/N2_selectivity": 17.14654102,
         "CO2_working_capacity [mL/g]": 55.7869591021412,
         "_deepnote_index_column": 5,
         "heat_adsorption_CO2_P0.15bar_T298K [kcal/mol]": 5.398304,
         "metal_linker": 9,
         "organic_linker1": 7,
         "organic_linker2": 23,
         "surface_area [m^2/g]": 2430.55,
         "void_fraction": 0.37094,
         "void_volume [cm^3/g]": 0.5725,
         "volume [A^3]": 3954.659761,
         "weight [u]": 1543.02768
        },
        {
         "CO2/N2_selectivity": 18.36379134,
         "CO2_working_capacity [mL/g]": 111.69046224719489,
         "_deepnote_index_column": 6,
         "heat_adsorption_CO2_P0.15bar_T298K [kcal/mol]": 6.303857,
         "metal_linker": 10,
         "organic_linker1": 53,
         "organic_linker2": 55,
         "surface_area [m^2/g]": 1530.02,
         "void_fraction": 0.33337,
         "void_volume [cm^3/g]": 0.3662,
         "volume [A^3]": 3565.914939,
         "weight [u]": 1954.749656
        },
        {
         "CO2/N2_selectivity": 12.68480443,
         "CO2_working_capacity [mL/g]": 58.98977428711081,
         "_deepnote_index_column": 7,
         "heat_adsorption_CO2_P0.15bar_T298K [kcal/mol]": 5.234732,
         "metal_linker": 2,
         "organic_linker1": 5,
         "organic_linker2": 13,
         "surface_area [m^2/g]": 1685.58,
         "void_fraction": 0.28458,
         "void_volume [cm^3/g]": 0.2456,
         "volume [A^3]": 916.043907,
         "weight [u]": 639.1115599999999
        },
        {
         "CO2/N2_selectivity": 37.04042435,
         "CO2_working_capacity [mL/g]": 135.58710841724886,
         "_deepnote_index_column": 8,
         "heat_adsorption_CO2_P0.15bar_T298K [kcal/mol]": 6.298964,
         "metal_linker": 4,
         "organic_linker1": 14,
         "organic_linker2": 19,
         "surface_area [m^2/g]": 1458.02,
         "void_fraction": 0.2427699999999999,
         "void_volume [cm^3/g]": 0.2291,
         "volume [A^3]": 2228.882339,
         "weight [u]": 1422.69182
        },
        {
         "CO2/N2_selectivity": 10.9992991,
         "CO2_working_capacity [mL/g]": 59.73905673864041,
         "_deepnote_index_column": 9,
         "heat_adsorption_CO2_P0.15bar_T298K [kcal/mol]": 5.539327,
         "metal_linker": 3,
         "organic_linker1": 13,
         "organic_linker2": 29,
         "surface_area [m^2/g]": 3276.11,
         "void_fraction": 0.4100399999999999,
         "void_volume [cm^3/g]": 0.6573,
         "volume [A^3]": 4275.421420000001,
         "weight [u]": 1606.196
        },
        {
         "CO2/N2_selectivity": 24.25902464,
         "CO2_working_capacity [mL/g]": 161.06749898914796,
         "_deepnote_index_column": 10,
         "heat_adsorption_CO2_P0.15bar_T298K [kcal/mol]": 5.926444,
         "metal_linker": 9,
         "organic_linker1": 1,
         "organic_linker2": 24,
         "surface_area [m^2/g]": 1098.36,
         "void_fraction": 0.18787,
         "void_volume [cm^3/g]": 0.1638,
         "volume [A^3]": 1607.935338,
         "weight [u]": 1110.38712
        },
        {
         "CO2/N2_selectivity": 58.10697445,
         "CO2_working_capacity [mL/g]": 101.96481234318138,
         "_deepnote_index_column": 11,
         "heat_adsorption_CO2_P0.15bar_T298K [kcal/mol]": 7.407897999999999,
         "metal_linker": 2,
         "organic_linker1": 22,
         "organic_linker2": 24,
         "surface_area [m^2/g]": 0,
         "void_fraction": 0.05704,
         "void_volume [cm^3/g]": 0.0289,
         "volume [A^3]": 1175.47586,
         "weight [u]": 1397.05128
        },
        {
         "CO2/N2_selectivity": 12.99674112,
         "CO2_working_capacity [mL/g]": 79.91916950624072,
         "_deepnote_index_column": 12,
         "heat_adsorption_CO2_P0.15bar_T298K [kcal/mol]": 4.936655,
         "metal_linker": 2,
         "organic_linker1": 4,
         "organic_linker2": 6,
         "surface_area [m^2/g]": 2117.01,
         "void_fraction": 0.30405,
         "void_volume [cm^3/g]": 0.3794,
         "volume [A^3]": 1650.879383,
         "weight [u]": 796.68968
        },
        {
         "CO2/N2_selectivity": 31.66445559,
         "CO2_working_capacity [mL/g]": 133.3711208364308,
         "_deepnote_index_column": 13,
         "heat_adsorption_CO2_P0.15bar_T298K [kcal/mol]": 7.427183,
         "metal_linker": 2,
         "organic_linker1": 12,
         "organic_linker2": 22,
         "surface_area [m^2/g]": 0,
         "void_fraction": 0.10455,
         "void_volume [cm^3/g]": 0.0962,
         "volume [A^3]": 1071.619874,
         "weight [u]": 701.6286
        },
        {
         "CO2/N2_selectivity": 17.01166312,
         "CO2_working_capacity [mL/g]": 62.32762208837283,
         "_deepnote_index_column": 14,
         "heat_adsorption_CO2_P0.15bar_T298K [kcal/mol]": 5.139598,
         "metal_linker": 3,
         "organic_linker1": 4,
         "organic_linker2": 26,
         "surface_area [m^2/g]": 1870.11,
         "void_fraction": 0.27705,
         "void_volume [cm^3/g]": 0.3124,
         "volume [A^3]": 1769.973982,
         "weight [u]": 945.403413
        },
        {
         "CO2/N2_selectivity": 19.28955582,
         "CO2_working_capacity [mL/g]": 54.93615457357025,
         "_deepnote_index_column": 15,
         "heat_adsorption_CO2_P0.15bar_T298K [kcal/mol]": 5.867149,
         "metal_linker": 10,
         "organic_linker1": 52,
         "organic_linker2": 54,
         "surface_area [m^2/g]": 1294.48,
         "void_fraction": 0.28607,
         "void_volume [cm^3/g]": 0.2977,
         "volume [A^3]": 4282.561071,
         "weight [u]": 2478.166816
        },
        {
         "CO2/N2_selectivity": 15.894512699999998,
         "CO2_working_capacity [mL/g]": 98.10944956383054,
         "_deepnote_index_column": 16,
         "heat_adsorption_CO2_P0.15bar_T298K [kcal/mol]": 5.390903,
         "metal_linker": 2,
         "organic_linker1": 38,
         "organic_linker2": 41,
         "surface_area [m^2/g]": 1664.62,
         "void_fraction": 0.26885,
         "void_volume [cm^3/g]": 0.2743,
         "volume [A^3]": 7840.492345000001,
         "weight [u]": 4627.98816
        },
        {
         "CO2/N2_selectivity": 35.34220222,
         "CO2_working_capacity [mL/g]": 324.0160452431515,
         "_deepnote_index_column": 17,
         "heat_adsorption_CO2_P0.15bar_T298K [kcal/mol]": 7.488088999999999,
         "metal_linker": 2,
         "organic_linker1": 14,
         "organic_linker2": 14,
         "surface_area [m^2/g]": 851.04,
         "void_fraction": 0.15162,
         "void_volume [cm^3/g]": 0.1299,
         "volume [A^3]": 2252.940492,
         "weight [u]": 1583.399493
        },
        {
         "CO2/N2_selectivity": 11.94115719,
         "CO2_working_capacity [mL/g]": 60.05088633787799,
         "_deepnote_index_column": 18,
         "heat_adsorption_CO2_P0.15bar_T298K [kcal/mol]": 5.547677999999999,
         "metal_linker": 2,
         "organic_linker1": 8,
         "organic_linker2": 10,
         "surface_area [m^2/g]": 2773.01,
         "void_fraction": 0.41436,
         "void_volume [cm^3/g]": 0.6211,
         "volume [A^3]": 2334.528642,
         "weight [u]": 937.8558
        },
        {
         "CO2/N2_selectivity": 47.33272089,
         "CO2_working_capacity [mL/g]": 136.3873995221212,
         "_deepnote_index_column": 19,
         "heat_adsorption_CO2_P0.15bar_T298K [kcal/mol]": 7.957782000000001,
         "metal_linker": 3,
         "organic_linker1": 10,
         "organic_linker2": 18,
         "surface_area [m^2/g]": 0,
         "void_fraction": 0.07816,
         "void_volume [cm^3/g]": 0.0628,
         "volume [A^3]": 919.305781,
         "weight [u]": 689.1744
        },
        {
         "CO2/N2_selectivity": 14.56002553,
         "CO2_working_capacity [mL/g]": 104.97861488065128,
         "_deepnote_index_column": 20,
         "heat_adsorption_CO2_P0.15bar_T298K [kcal/mol]": 5.713488,
         "metal_linker": 3,
         "organic_linker1": 14,
         "organic_linker2": 17,
         "surface_area [m^2/g]": 1825.67,
         "void_fraction": 0.31685,
         "void_volume [cm^3/g]": 0.349,
         "volume [A^3]": 1585.308617,
         "weight [u]": 866.6691800000001
        },
        {
         "CO2/N2_selectivity": 40.54284142,
         "CO2_working_capacity [mL/g]": 230.69959325150907,
         "_deepnote_index_column": 21,
         "heat_adsorption_CO2_P0.15bar_T298K [kcal/mol]": 6.425527,
         "metal_linker": 9,
         "organic_linker1": 7,
         "organic_linker2": 16,
         "surface_area [m^2/g]": 1922.93,
         "void_fraction": 0.2672,
         "void_volume [cm^3/g]": 0.3027,
         "volume [A^3]": 3409.7421659999995,
         "weight [u]": 1812.74148
        },
        {
         "CO2/N2_selectivity": 56.34296165,
         "CO2_working_capacity [mL/g]": 252.38041691729305,
         "_deepnote_index_column": 22,
         "heat_adsorption_CO2_P0.15bar_T298K [kcal/mol]": 6.857435000000001,
         "metal_linker": 9,
         "organic_linker1": 18,
         "organic_linker2": 27,
         "surface_area [m^2/g]": 2148.78,
         "void_fraction": 0.2641699999999999,
         "void_volume [cm^3/g]": 0.3585,
         "volume [A^3]": 4366.170427,
         "weight [u]": 1937.4993600000005
        },
        {
         "CO2/N2_selectivity": 22.9136176,
         "CO2_working_capacity [mL/g]": 262.6415751431312,
         "_deepnote_index_column": 23,
         "heat_adsorption_CO2_P0.15bar_T298K [kcal/mol]": 6.870048,
         "metal_linker": 2,
         "organic_linker1": 16,
         "organic_linker2": 18,
         "surface_area [m^2/g]": 1523.05,
         "void_fraction": 0.2350699999999999,
         "void_volume [cm^3/g]": 0.261,
         "volume [A^3]": 1906.333143,
         "weight [u]": 1033.97772
        },
        {
         "CO2/N2_selectivity": 23.01799947,
         "CO2_working_capacity [mL/g]": 136.52804474104676,
         "_deepnote_index_column": 24,
         "heat_adsorption_CO2_P0.15bar_T298K [kcal/mol]": 6.021285,
         "metal_linker": 2,
         "organic_linker1": 2,
         "organic_linker2": 10,
         "surface_area [m^2/g]": 1957.26,
         "void_fraction": 0.27738,
         "void_volume [cm^3/g]": 0.3094,
         "volume [A^3]": 1803.619737,
         "weight [u]": 973.70752
        },
        {
         "CO2/N2_selectivity": 26.1894427,
         "CO2_working_capacity [mL/g]": 346.0309838421578,
         "_deepnote_index_column": 25,
         "heat_adsorption_CO2_P0.15bar_T298K [kcal/mol]": 7.153111,
         "metal_linker": 2,
         "organic_linker1": 12,
         "organic_linker2": 29,
         "surface_area [m^2/g]": 1135.53,
         "void_fraction": 0.1655599999999999,
         "void_volume [cm^3/g]": 0.187,
         "volume [A^3]": 2777.131295,
         "weight [u]": 1480.42508
        },
        {
         "CO2/N2_selectivity": 22.47671204,
         "CO2_working_capacity [mL/g]": 100.479453563965,
         "_deepnote_index_column": 26,
         "heat_adsorption_CO2_P0.15bar_T298K [kcal/mol]": 6.1497,
         "metal_linker": 2,
         "organic_linker1": 13,
         "organic_linker2": 14,
         "surface_area [m^2/g]": 1139.7,
         "void_fraction": 0.20692,
         "void_volume [cm^3/g]": 0.1857,
         "volume [A^3]": 1629.942174,
         "weight [u]": 1093.94384
        },
        {
         "CO2/N2_selectivity": 14.97878372,
         "CO2_working_capacity [mL/g]": 75.63295693651922,
         "_deepnote_index_column": 27,
         "heat_adsorption_CO2_P0.15bar_T298K [kcal/mol]": 5.160807,
         "metal_linker": 2,
         "organic_linker1": 5,
         "organic_linker2": 8,
         "surface_area [m^2/g]": 2286.28,
         "void_fraction": 0.26882,
         "void_volume [cm^3/g]": 0.2984,
         "volume [A^3]": 1208.371986,
         "weight [u]": 655.4740400000001
        },
        {
         "CO2/N2_selectivity": 14.96061853,
         "CO2_working_capacity [mL/g]": 69.87261079284771,
         "_deepnote_index_column": 28,
         "heat_adsorption_CO2_P0.15bar_T298K [kcal/mol]": 5.359237,
         "metal_linker": 1,
         "organic_linker1": 5,
         "organic_linker2": 17,
         "surface_area [m^2/g]": 1765.83,
         "void_fraction": 0.28834,
         "void_volume [cm^3/g]": 0.3313,
         "volume [A^3]": 8686.956791,
         "weight [u]": 4552.65248
        },
        {
         "CO2/N2_selectivity": 11.22829945,
         "CO2_working_capacity [mL/g]": 66.1344523626015,
         "_deepnote_index_column": 29,
         "heat_adsorption_CO2_P0.15bar_T298K [kcal/mol]": 5.341076999999999,
         "metal_linker": 2,
         "organic_linker1": 4,
         "organic_linker2": 7,
         "surface_area [m^2/g]": 2112.92,
         "void_fraction": 0.31239,
         "void_volume [cm^3/g]": 0.324,
         "volume [A^3]": 1824.319922,
         "weight [u]": 1059.29236
        },
        {
         "CO2/N2_selectivity": 25.46720601,
         "CO2_working_capacity [mL/g]": 84.0399753748314,
         "_deepnote_index_column": 30,
         "heat_adsorption_CO2_P0.15bar_T298K [kcal/mol]": 6.200198,
         "metal_linker": 4,
         "organic_linker1": 4,
         "organic_linker2": 19,
         "surface_area [m^2/g]": 1474,
         "void_fraction": 0.24855,
         "void_volume [cm^3/g]": 0.2235,
         "volume [A^3]": 2270.674945,
         "weight [u]": 1520.58351
        },
        {
         "CO2/N2_selectivity": 28.8402435,
         "CO2_working_capacity [mL/g]": 77.21637118526824,
         "_deepnote_index_column": 31,
         "heat_adsorption_CO2_P0.15bar_T298K [kcal/mol]": 5.997696,
         "metal_linker": 10,
         "organic_linker1": 44,
         "organic_linker2": 56,
         "surface_area [m^2/g]": 1068.24,
         "void_fraction": 0.22341,
         "void_volume [cm^3/g]": 0.1979,
         "volume [A^3]": 2648.735681,
         "weight [u]": 1800.495496
        },
        {
         "CO2/N2_selectivity": 30.67616776,
         "CO2_working_capacity [mL/g]": 264.7743641437398,
         "_deepnote_index_column": 32,
         "heat_adsorption_CO2_P0.15bar_T298K [kcal/mol]": 5.951407,
         "metal_linker": 2,
         "organic_linker1": 2,
         "organic_linker2": 10,
         "surface_area [m^2/g]": 2277.35,
         "void_fraction": 0.27907,
         "void_volume [cm^3/g]": 0.3178,
         "volume [A^3]": 1811.246493,
         "weight [u]": 957.79592
        },
        {
         "CO2/N2_selectivity": 16.2403506,
         "CO2_working_capacity [mL/g]": 62.92916102941136,
         "_deepnote_index_column": 33,
         "heat_adsorption_CO2_P0.15bar_T298K [kcal/mol]": 5.48463,
         "metal_linker": 2,
         "organic_linker1": 2,
         "organic_linker2": 9,
         "surface_area [m^2/g]": 2909.69,
         "void_fraction": 0.33992,
         "void_volume [cm^3/g]": 0.4795,
         "volume [A^3]": 2300.488977,
         "weight [u]": 982.03564
        },
        {
         "CO2/N2_selectivity": 12.95779834,
         "CO2_working_capacity [mL/g]": 80.09365541751342,
         "_deepnote_index_column": 34,
         "heat_adsorption_CO2_P0.15bar_T298K [kcal/mol]": 5.289416,
         "metal_linker": 3,
         "organic_linker1": 13,
         "organic_linker2": 13,
         "surface_area [m^2/g]": 2694.1,
         "void_fraction": 0.32799,
         "void_volume [cm^3/g]": 0.4082,
         "volume [A^3]": 3990.788468,
         "weight [u]": 1931.0772
        },
        {
         "CO2/N2_selectivity": 13.19123073,
         "CO2_working_capacity [mL/g]": 93.33312472299396,
         "_deepnote_index_column": 35,
         "heat_adsorption_CO2_P0.15bar_T298K [kcal/mol]": 5.038692,
         "metal_linker": 3,
         "organic_linker1": 16,
         "organic_linker2": 27,
         "surface_area [m^2/g]": 3480.31,
         "void_fraction": 0.52022,
         "void_volume [cm^3/g]": 0.9685,
         "volume [A^3]": 3046.767549,
         "weight [u]": 985.5793
        },
        {
         "CO2/N2_selectivity": 19.49111978,
         "CO2_working_capacity [mL/g]": 61.474011258485305,
         "_deepnote_index_column": 36,
         "heat_adsorption_CO2_P0.15bar_T298K [kcal/mol]": 6.361339,
         "metal_linker": 2,
         "organic_linker1": 6,
         "organic_linker2": 15,
         "surface_area [m^2/g]": 3277.33,
         "void_fraction": 0.42139,
         "void_volume [cm^3/g]": 0.7076,
         "volume [A^3]": 2509.357174,
         "weight [u]": 899.9318
        },
        {
         "CO2/N2_selectivity": 25.08042926,
         "CO2_working_capacity [mL/g]": 149.11859813620285,
         "_deepnote_index_column": 37,
         "heat_adsorption_CO2_P0.15bar_T298K [kcal/mol]": 8.718779,
         "metal_linker": 2,
         "organic_linker1": 10,
         "organic_linker2": 13,
         "surface_area [m^2/g]": 0,
         "void_fraction": 0,
         "void_volume [cm^3/g]": 0,
         "volume [A^3]": 810.133031,
         "weight [u]": 691.59732
        },
        {
         "CO2/N2_selectivity": 13.30269543,
         "CO2_working_capacity [mL/g]": 70.2720960390917,
         "_deepnote_index_column": 38,
         "heat_adsorption_CO2_P0.15bar_T298K [kcal/mol]": 4.940098,
         "metal_linker": 2,
         "organic_linker1": 3,
         "organic_linker2": 4,
         "surface_area [m^2/g]": 2297.13,
         "void_fraction": 0.38719,
         "void_volume [cm^3/g]": 0.596,
         "volume [A^3]": 3803.859079,
         "weight [u]": 1488.25624
        },
        {
         "CO2/N2_selectivity": 13.66093584,
         "CO2_working_capacity [mL/g]": 64.11209957262815,
         "_deepnote_index_column": 39,
         "heat_adsorption_CO2_P0.15bar_T298K [kcal/mol]": 5.48879,
         "metal_linker": 2,
         "organic_linker1": 17,
         "organic_linker2": 17,
         "surface_area [m^2/g]": 2320.05,
         "void_fraction": 0.36905,
         "void_volume [cm^3/g]": 0.4691,
         "volume [A^3]": 6298.018506,
         "weight [u]": 2984.09296
        },
        {
         "CO2/N2_selectivity": 13.86149462,
         "CO2_working_capacity [mL/g]": 38.4154587228036,
         "_deepnote_index_column": 40,
         "heat_adsorption_CO2_P0.15bar_T298K [kcal/mol]": 5.086847,
         "metal_linker": 2,
         "organic_linker1": 17,
         "organic_linker2": 18,
         "surface_area [m^2/g]": 3218.08,
         "void_fraction": 0.49075,
         "void_volume [cm^3/g]": 0.8275,
         "volume [A^3]": 3063.338667,
         "weight [u]": 1093.98984
        },
        {
         "CO2/N2_selectivity": 31.56455057,
         "CO2_working_capacity [mL/g]": 328.1030104193951,
         "_deepnote_index_column": 41,
         "heat_adsorption_CO2_P0.15bar_T298K [kcal/mol]": 6.524972,
         "metal_linker": 3,
         "organic_linker1": 41,
         "organic_linker2": 41,
         "surface_area [m^2/g]": 1972.88,
         "void_fraction": 0.34857,
         "void_volume [cm^3/g]": 0.3746,
         "volume [A^3]": 3818.179293,
         "weight [u]": 2139.537979
        },
        {
         "CO2/N2_selectivity": 42.82049017,
         "CO2_working_capacity [mL/g]": 295.4252823531823,
         "_deepnote_index_column": 42,
         "heat_adsorption_CO2_P0.15bar_T298K [kcal/mol]": 6.364212,
         "metal_linker": 9,
         "organic_linker1": 2,
         "organic_linker2": 25,
         "surface_area [m^2/g]": 1140.4,
         "void_fraction": 0.18193,
         "void_volume [cm^3/g]": 0.1831,
         "volume [A^3]": 2379.4496870000003,
         "weight [u]": 1423.6104
        },
        {
         "CO2/N2_selectivity": 19.01040433,
         "CO2_working_capacity [mL/g]": 144.67539776930033,
         "_deepnote_index_column": 43,
         "heat_adsorption_CO2_P0.15bar_T298K [kcal/mol]": 6.350441,
         "metal_linker": 2,
         "organic_linker1": 10,
         "organic_linker2": 23,
         "surface_area [m^2/g]": 1224.26,
         "void_fraction": 0.19587,
         "void_volume [cm^3/g]": 0.1985,
         "volume [A^3]": 995.320211,
         "weight [u]": 591.5162
        },
        {
         "CO2/N2_selectivity": 28.108380800000003,
         "CO2_working_capacity [mL/g]": 125.18976203928209,
         "_deepnote_index_column": 44,
         "heat_adsorption_CO2_P0.15bar_T298K [kcal/mol]": 6.347883,
         "metal_linker": 4,
         "organic_linker1": 11,
         "organic_linker2": 11,
         "surface_area [m^2/g]": 1259.37,
         "void_fraction": 0.20088,
         "void_volume [cm^3/g]": 0.1836,
         "volume [A^3]": 2071.222251,
         "weight [u]": 1364.69264
        }
       ]
      },
      "text/html": [
       "<div>\n",
       "<style scoped>\n",
       "    .dataframe tbody tr th:only-of-type {\n",
       "        vertical-align: middle;\n",
       "    }\n",
       "\n",
       "    .dataframe tbody tr th {\n",
       "        vertical-align: top;\n",
       "    }\n",
       "\n",
       "    .dataframe thead th {\n",
       "        text-align: right;\n",
       "    }\n",
       "</style>\n",
       "<table border=\"1\" class=\"dataframe\">\n",
       "  <thead>\n",
       "    <tr style=\"text-align: right;\">\n",
       "      <th></th>\n",
       "      <th>volume [A^3]</th>\n",
       "      <th>weight [u]</th>\n",
       "      <th>surface_area [m^2/g]</th>\n",
       "      <th>void_fraction</th>\n",
       "      <th>void_volume [cm^3/g]</th>\n",
       "      <th>metal_linker</th>\n",
       "      <th>organic_linker1</th>\n",
       "      <th>organic_linker2</th>\n",
       "      <th>CO2/N2_selectivity</th>\n",
       "      <th>heat_adsorption_CO2_P0.15bar_T298K [kcal/mol]</th>\n",
       "      <th>CO2_working_capacity [mL/g]</th>\n",
       "    </tr>\n",
       "  </thead>\n",
       "  <tbody>\n",
       "    <tr>\n",
       "      <th>0</th>\n",
       "      <td>1116.667429</td>\n",
       "      <td>875.240600</td>\n",
       "      <td>0.00</td>\n",
       "      <td>0.07899</td>\n",
       "      <td>0.0607</td>\n",
       "      <td>3</td>\n",
       "      <td>4</td>\n",
       "      <td>11</td>\n",
       "      <td>22.86416611</td>\n",
       "      <td>6.786041</td>\n",
       "      <td>105.28450172</td>\n",
       "    </tr>\n",
       "    <tr>\n",
       "      <th>1</th>\n",
       "      <td>2769.503842</td>\n",
       "      <td>2211.697211</td>\n",
       "      <td>603.61</td>\n",
       "      <td>0.13794</td>\n",
       "      <td>0.1040</td>\n",
       "      <td>10</td>\n",
       "      <td>44</td>\n",
       "      <td>57</td>\n",
       "      <td>33.61678033</td>\n",
       "      <td>7.147286</td>\n",
       "      <td>101.22477418</td>\n",
       "    </tr>\n",
       "    <tr>\n",
       "      <th>2</th>\n",
       "      <td>1089.818728</td>\n",
       "      <td>773.687960</td>\n",
       "      <td>788.50</td>\n",
       "      <td>0.14874</td>\n",
       "      <td>0.1262</td>\n",
       "      <td>2</td>\n",
       "      <td>22</td>\n",
       "      <td>24</td>\n",
       "      <td>19.26372569</td>\n",
       "      <td>6.347967</td>\n",
       "      <td>118.98701075</td>\n",
       "    </tr>\n",
       "    <tr>\n",
       "      <th>3</th>\n",
       "      <td>2205.198301</td>\n",
       "      <td>1304.638720</td>\n",
       "      <td>1441.53</td>\n",
       "      <td>0.21814</td>\n",
       "      <td>0.2220</td>\n",
       "      <td>9</td>\n",
       "      <td>17</td>\n",
       "      <td>24</td>\n",
       "      <td>25.70137692</td>\n",
       "      <td>6.190085</td>\n",
       "      <td>187.62600450</td>\n",
       "    </tr>\n",
       "    <tr>\n",
       "      <th>4</th>\n",
       "      <td>1137.800963</td>\n",
       "      <td>901.736120</td>\n",
       "      <td>0.00</td>\n",
       "      <td>0.07778</td>\n",
       "      <td>0.0591</td>\n",
       "      <td>2</td>\n",
       "      <td>1</td>\n",
       "      <td>22</td>\n",
       "      <td>30.00183795</td>\n",
       "      <td>6.478063</td>\n",
       "      <td>79.21000066</td>\n",
       "    </tr>\n",
       "    <tr>\n",
       "      <th>...</th>\n",
       "      <td>...</td>\n",
       "      <td>...</td>\n",
       "      <td>...</td>\n",
       "      <td>...</td>\n",
       "      <td>...</td>\n",
       "      <td>...</td>\n",
       "      <td>...</td>\n",
       "      <td>...</td>\n",
       "      <td>...</td>\n",
       "      <td>...</td>\n",
       "      <td>...</td>\n",
       "    </tr>\n",
       "    <tr>\n",
       "      <th>19995</th>\n",
       "      <td>5189.923599</td>\n",
       "      <td>2423.541440</td>\n",
       "      <td>2944.18</td>\n",
       "      <td>0.33672</td>\n",
       "      <td>0.4342</td>\n",
       "      <td>12</td>\n",
       "      <td>11</td>\n",
       "      <td>11</td>\n",
       "      <td>8.85242576</td>\n",
       "      <td>4.787996</td>\n",
       "      <td>63.35786482</td>\n",
       "    </tr>\n",
       "    <tr>\n",
       "      <th>19996</th>\n",
       "      <td>13710.436745</td>\n",
       "      <td>4426.378000</td>\n",
       "      <td>3208.43</td>\n",
       "      <td>0.44798</td>\n",
       "      <td>0.8356</td>\n",
       "      <td>3</td>\n",
       "      <td>3</td>\n",
       "      <td>3</td>\n",
       "      <td>14.80568930</td>\n",
       "      <td>4.909318</td>\n",
       "      <td>90.66697340</td>\n",
       "    </tr>\n",
       "    <tr>\n",
       "      <th>19997</th>\n",
       "      <td>1215.143789</td>\n",
       "      <td>691.014960</td>\n",
       "      <td>2102.05</td>\n",
       "      <td>0.33106</td>\n",
       "      <td>0.3506</td>\n",
       "      <td>3</td>\n",
       "      <td>1</td>\n",
       "      <td>19</td>\n",
       "      <td>18.93154465</td>\n",
       "      <td>5.574042</td>\n",
       "      <td>78.37355779</td>\n",
       "    </tr>\n",
       "    <tr>\n",
       "      <th>19998</th>\n",
       "      <td>1271.408263</td>\n",
       "      <td>713.463760</td>\n",
       "      <td>1818.66</td>\n",
       "      <td>0.22698</td>\n",
       "      <td>0.2436</td>\n",
       "      <td>2</td>\n",
       "      <td>12</td>\n",
       "      <td>13</td>\n",
       "      <td>19.42797408</td>\n",
       "      <td>5.772102</td>\n",
       "      <td>114.99909150</td>\n",
       "    </tr>\n",
       "    <tr>\n",
       "      <th>19999</th>\n",
       "      <td>1646.788340</td>\n",
       "      <td>894.877280</td>\n",
       "      <td>1264.50</td>\n",
       "      <td>0.18770</td>\n",
       "      <td>0.2080</td>\n",
       "      <td>2</td>\n",
       "      <td>16</td>\n",
       "      <td>19</td>\n",
       "      <td>28.19799629</td>\n",
       "      <td>6.243139</td>\n",
       "      <td>221.49707093</td>\n",
       "    </tr>\n",
       "  </tbody>\n",
       "</table>\n",
       "<p>20000 rows × 11 columns</p>\n",
       "</div>"
      ],
      "text/plain": [
       "       volume [A^3]   weight [u]  surface_area [m^2/g]  void_fraction  \\\n",
       "0       1116.667429   875.240600                  0.00        0.07899   \n",
       "1       2769.503842  2211.697211                603.61        0.13794   \n",
       "2       1089.818728   773.687960                788.50        0.14874   \n",
       "3       2205.198301  1304.638720               1441.53        0.21814   \n",
       "4       1137.800963   901.736120                  0.00        0.07778   \n",
       "...             ...          ...                   ...            ...   \n",
       "19995   5189.923599  2423.541440               2944.18        0.33672   \n",
       "19996  13710.436745  4426.378000               3208.43        0.44798   \n",
       "19997   1215.143789   691.014960               2102.05        0.33106   \n",
       "19998   1271.408263   713.463760               1818.66        0.22698   \n",
       "19999   1646.788340   894.877280               1264.50        0.18770   \n",
       "\n",
       "       void_volume [cm^3/g]  metal_linker  organic_linker1  organic_linker2  \\\n",
       "0                    0.0607             3                4               11   \n",
       "1                    0.1040            10               44               57   \n",
       "2                    0.1262             2               22               24   \n",
       "3                    0.2220             9               17               24   \n",
       "4                    0.0591             2                1               22   \n",
       "...                     ...           ...              ...              ...   \n",
       "19995                0.4342            12               11               11   \n",
       "19996                0.8356             3                3                3   \n",
       "19997                0.3506             3                1               19   \n",
       "19998                0.2436             2               12               13   \n",
       "19999                0.2080             2               16               19   \n",
       "\n",
       "       CO2/N2_selectivity  heat_adsorption_CO2_P0.15bar_T298K [kcal/mol]  \\\n",
       "0             22.86416611                                       6.786041   \n",
       "1             33.61678033                                       7.147286   \n",
       "2             19.26372569                                       6.347967   \n",
       "3             25.70137692                                       6.190085   \n",
       "4             30.00183795                                       6.478063   \n",
       "...                   ...                                            ...   \n",
       "19995          8.85242576                                       4.787996   \n",
       "19996         14.80568930                                       4.909318   \n",
       "19997         18.93154465                                       5.574042   \n",
       "19998         19.42797408                                       5.772102   \n",
       "19999         28.19799629                                       6.243139   \n",
       "\n",
       "       CO2_working_capacity [mL/g]  \n",
       "0                     105.28450172  \n",
       "1                     101.22477418  \n",
       "2                     118.98701075  \n",
       "3                     187.62600450  \n",
       "4                      79.21000066  \n",
       "...                            ...  \n",
       "19995                  63.35786482  \n",
       "19996                  90.66697340  \n",
       "19997                  78.37355779  \n",
       "19998                 114.99909150  \n",
       "19999                 221.49707093  \n",
       "\n",
       "[20000 rows x 11 columns]"
      ]
     },
     "execution_count": 7,
     "metadata": {},
     "output_type": "execute_result"
    }
   ],
   "source": [
    "train = train.iloc[:, [1,2,3,4,5,7,8,9,11,12,13]]\n",
    "train"
   ]
  },
  {
   "cell_type": "code",
   "execution_count": null,
   "metadata": {
    "cell_id": "00012-09936c5b-e380-49c7-9fb7-35f8acc9db25",
    "deepnote_cell_type": "code",
    "deepnote_to_be_reexecuted": false,
    "execution_millis": 0,
    "execution_start": 1633172165053,
    "source_hash": "3227d3b0",
    "tags": []
   },
   "outputs": [
    {
     "data": {
      "text/plain": [
       "volume [A^3]                                     False\n",
       "weight [u]                                       False\n",
       "surface_area [m^2/g]                             False\n",
       "void_fraction                                    False\n",
       "void_volume [cm^3/g]                             False\n",
       "metal_linker                                     False\n",
       "organic_linker1                                  False\n",
       "organic_linker2                                  False\n",
       "CO2/N2_selectivity                               False\n",
       "heat_adsorption_CO2_P0.15bar_T298K [kcal/mol]    False\n",
       "CO2_working_capacity [mL/g]                      False\n",
       "dtype: bool"
      ]
     },
     "execution_count": 8,
     "metadata": {},
     "output_type": "execute_result"
    }
   ],
   "source": [
    "# find rows having NaN\n",
    "train.isnull().any(axis=0)"
   ]
  },
  {
   "cell_type": "code",
   "execution_count": null,
   "metadata": {
    "cell_id": "00013-d8599a67-4dd2-4ec8-90ab-cc02bbd96a38",
    "deepnote_cell_type": "code",
    "deepnote_to_be_reexecuted": false,
    "execution_millis": 6,
    "execution_start": 1633172165054,
    "source_hash": "e7d885b7"
   },
   "outputs": [
    {
     "data": {
      "text/plain": [
       "volume [A^3]                                     False\n",
       "weight [u]                                       False\n",
       "surface_area [m^2/g]                             False\n",
       "void_fraction                                    False\n",
       "void_volume [cm^3/g]                             False\n",
       "metal_linker                                     False\n",
       "organic_linker1                                  False\n",
       "organic_linker2                                  False\n",
       "CO2/N2_selectivity                               False\n",
       "heat_adsorption_CO2_P0.15bar_T298K [kcal/mol]    False\n",
       "CO2_working_capacity [mL/g]                      False\n",
       "dtype: bool"
      ]
     },
     "execution_count": 9,
     "metadata": {},
     "output_type": "execute_result"
    }
   ],
   "source": [
    "# find row having inf\n",
    "np.isinf(train).any(axis=0)"
   ]
  },
  {
   "cell_type": "markdown",
   "metadata": {
    "cell_id": "00014-2c5ad603-e031-4236-bada-a668fbaecf11",
    "deepnote_cell_type": "markdown",
    "tags": []
   },
   "source": [
    "## 3. Prepare training and test sets"
   ]
  },
  {
   "cell_type": "markdown",
   "metadata": {
    "cell_id": "00015-7bfbad0c-4c23-4816-9c39-ac8ace70d40d",
    "deepnote_cell_type": "markdown",
    "id": "Vqjek9LIJbmK"
   },
   "source": [
    "Prepare input\n",
    "- x_train = train input\n",
    "- y_train = train output\n",
    "- x_test = test input\n",
    "- y_test = test predict"
   ]
  },
  {
   "cell_type": "code",
   "execution_count": null,
   "metadata": {
    "cell_id": "00016-2280873d-325e-49fd-bc6e-b207d3757ba3",
    "deepnote_cell_type": "code",
    "deepnote_to_be_reexecuted": false,
    "executionInfo": {
     "elapsed": 219,
     "status": "ok",
     "timestamp": 1626879944638,
     "user": {
      "displayName": "Rangsiman",
      "photoUrl": "https://lh3.googleusercontent.com/a-/AOh14Ghrx1oKpguOx-cYNgdxV7f3KiO9I6z1viS7Fhy_uw=s64",
      "userId": "07053109212140093737"
     },
     "user_tz": -120
    },
    "execution_millis": 5,
    "execution_start": 1633172165055,
    "id": "7bq8D1sMmFqz",
    "source_hash": "4e208ce1"
   },
   "outputs": [
    {
     "name": "stdout",
     "output_type": "stream",
     "text": [
      "dataset size: 20000\n",
      "train size: 16000\n",
      "test size: 4000\n"
     ]
    }
   ],
   "source": [
    "ratio = 0.8\n",
    "train_size = math.floor(train.shape[0]*0.8)\n",
    "test_size = train.shape[0] - train_size\n",
    "print(\"dataset size:\", train.shape[0])\n",
    "print(\"train size:\", train_size)\n",
    "print(\"test size:\", test_size)"
   ]
  },
  {
   "cell_type": "code",
   "execution_count": null,
   "metadata": {
    "cell_id": "00017-106c690e-71d6-4fc1-b909-c133fcec9378",
    "deepnote_cell_type": "code",
    "deepnote_to_be_reexecuted": false,
    "execution_millis": 8,
    "execution_start": 1633172165102,
    "source_hash": "515b194f"
   },
   "outputs": [
    {
     "data": {
      "text/plain": [
       "{0: 'volume [A^3]',\n",
       " 1: 'weight [u]',\n",
       " 2: 'surface_area [m^2/g]',\n",
       " 3: 'void_fraction',\n",
       " 4: 'void_volume [cm^3/g]',\n",
       " 5: 'metal_linker',\n",
       " 6: 'organic_linker1',\n",
       " 7: 'organic_linker2',\n",
       " 8: 'CO2/N2_selectivity',\n",
       " 9: 'heat_adsorption_CO2_P0.15bar_T298K [kcal/mol]',\n",
       " 10: 'CO2_working_capacity [mL/g]'}"
      ]
     },
     "execution_count": 11,
     "metadata": {},
     "output_type": "execute_result"
    }
   ],
   "source": [
    "feat = list(train.columns.values)\n",
    "feat = {k: v for k, v in enumerate(feat)}\n",
    "feat"
   ]
  },
  {
   "cell_type": "code",
   "execution_count": null,
   "metadata": {
    "cell_id": "00018-2a8e5484-4bb5-42a0-b33e-676597928150",
    "colab": {
     "base_uri": "https://localhost:8080/"
    },
    "deepnote_cell_type": "code",
    "deepnote_to_be_reexecuted": false,
    "executionInfo": {
     "elapsed": 16,
     "status": "ok",
     "timestamp": 1626879945002,
     "user": {
      "displayName": "Rangsiman",
      "photoUrl": "https://lh3.googleusercontent.com/a-/AOh14Ghrx1oKpguOx-cYNgdxV7f3KiO9I6z1viS7Fhy_uw=s64",
      "userId": "07053109212140093737"
     },
     "user_tz": -120
    },
    "execution_millis": 0,
    "execution_start": 1633172165103,
    "id": "4jUHDryFJkZC",
    "outputId": "6f2ffab5-c1f7-4f02-d4a1-5b520879c4f4",
    "source_hash": "5a8fc099"
   },
   "outputs": [],
   "source": [
    "x_train = train.iloc[0:train_size, :-1].astype(np.float32)\n",
    "y_train = train.iloc[0:train_size, -1].astype(np.float32)\n",
    "x_test = train.iloc[train_size:train_size+test_size, :-1].astype(np.float32)\n",
    "y_true = train.iloc[train_size:train_size+test_size, -1].astype(np.float32)"
   ]
  },
  {
   "cell_type": "markdown",
   "metadata": {
    "cell_id": "00047-35503a68-cd9d-4149-a7bc-f1829927c7c2",
    "deepnote_cell_type": "markdown",
    "tags": []
   },
   "source": [
    "## 4. Neural network"
   ]
  },
  {
   "cell_type": "markdown",
   "metadata": {
    "cell_id": "00048-2fbd60bd-75f6-43b3-bf50-1e4433e6c64e",
    "deepnote_cell_type": "markdown",
    "tags": []
   },
   "source": [
    "### 4.1: Feed forward neural network"
   ]
  },
  {
   "cell_type": "code",
   "execution_count": null,
   "metadata": {
    "cell_id": "00050-4fb812ef-6a08-4924-b026-5f856dd66f72",
    "deepnote_cell_type": "code",
    "deepnote_to_be_reexecuted": false,
    "execution_millis": 3011,
    "execution_start": 1633172165104,
    "source_hash": "65b553d1"
   },
   "outputs": [
    {
     "name": "stderr",
     "output_type": "stream",
     "text": [
      "2021-10-02 10:56:05.216341: W tensorflow/stream_executor/platform/default/dso_loader.cc:60] Could not load dynamic library 'libcudart.so.11.0'; dlerror: libcudart.so.11.0: cannot open shared object file: No such file or directory\n",
      "2021-10-02 10:56:05.216397: I tensorflow/stream_executor/cuda/cudart_stub.cc:29] Ignore above cudart dlerror if you do not have a GPU set up on your machine.\n"
     ]
    }
   ],
   "source": [
    "import tensorflow as tf\n",
    "from tensorflow.keras.models import Sequential\n",
    "from tensorflow.keras.layers import Dense"
   ]
  },
  {
   "cell_type": "code",
   "execution_count": null,
   "metadata": {
    "cell_id": "00054-c934c388-ce79-4c03-8afc-8016a6da8ca6",
    "deepnote_cell_type": "code",
    "deepnote_to_be_reexecuted": false,
    "execution_millis": 93,
    "execution_start": 1633172168137,
    "source_hash": "7e31206"
   },
   "outputs": [
    {
     "name": "stderr",
     "output_type": "stream",
     "text": [
      "2021-10-02 10:56:08.131334: I tensorflow/compiler/jit/xla_cpu_device.cc:41] Not creating XLA devices, tf_xla_enable_xla_devices not set\n",
      "2021-10-02 10:56:08.131575: W tensorflow/stream_executor/platform/default/dso_loader.cc:60] Could not load dynamic library 'libcuda.so.1'; dlerror: libcuda.so.1: cannot open shared object file: No such file or directory\n",
      "2021-10-02 10:56:08.131591: W tensorflow/stream_executor/cuda/cuda_driver.cc:326] failed call to cuInit: UNKNOWN ERROR (303)\n",
      "2021-10-02 10:56:08.131614: I tensorflow/stream_executor/cuda/cuda_diagnostics.cc:156] kernel driver does not appear to be running on this host (p-71f6eb72-f79d-4dec-bd79-97456fb0fc4e): /proc/driver/nvidia/version does not exist\n",
      "2021-10-02 10:56:08.131852: I tensorflow/core/platform/cpu_feature_guard.cc:142] This TensorFlow binary is optimized with oneAPI Deep Neural Network Library (oneDNN) to use the following CPU instructions in performance-critical operations:  AVX2 FMA\n",
      "To enable them in other operations, rebuild TensorFlow with the appropriate compiler flags.\n",
      "2021-10-02 10:56:08.131969: I tensorflow/compiler/jit/xla_gpu_device.cc:99] Not creating XLA devices, tf_xla_enable_xla_devices not set\n"
     ]
    }
   ],
   "source": [
    "# 1. creat model using sequential method.\n",
    "model = Sequential()\n",
    "model.add(Dense(12, input_dim=(x_train.shape[1]), activation='relu')) # input\n",
    "model.add(Dense(24, activation='relu')) # hidden 1\n",
    "model.add(Dense(12, activation='relu')) # hidden 2\n",
    "model.add(Dense(1, activation='linear')) # output"
   ]
  },
  {
   "cell_type": "code",
   "execution_count": null,
   "metadata": {
    "cell_id": "00055-298ebb7c-2487-4a90-aad6-d0b58978380c",
    "deepnote_cell_type": "code",
    "deepnote_to_be_reexecuted": false,
    "execution_millis": 28793,
    "execution_start": 1633172168227,
    "source_hash": "8f0dc884",
    "tags": []
   },
   "outputs": [
    {
     "name": "stderr",
     "output_type": "stream",
     "text": [
      "2021-10-02 10:56:08.253789: I tensorflow/compiler/mlir/mlir_graph_optimization_pass.cc:116] None of the MLIR optimization passes are enabled (registered 2)\n",
      "2021-10-02 10:56:08.254512: I tensorflow/core/platform/profile_utils/cpu_utils.cc:112] CPU Frequency: 2199570000 Hz\n",
      "Epoch 1/100\n",
      "250/250 [==============================] - 1s 1ms/step - loss: 101.3527 - accuracy: 0.0000e+00\n",
      "Epoch 2/100\n",
      "250/250 [==============================] - 0s 1ms/step - loss: 65.5613 - accuracy: 0.0000e+00\n",
      "Epoch 3/100\n",
      "250/250 [==============================] - 0s 944us/step - loss: 58.0586 - accuracy: 0.0000e+00\n",
      "Epoch 4/100\n",
      "250/250 [==============================] - 0s 1ms/step - loss: 46.4498 - accuracy: 0.0000e+00\n",
      "Epoch 5/100\n",
      "250/250 [==============================] - 0s 1ms/step - loss: 40.1260 - accuracy: 0.0000e+00\n",
      "Epoch 6/100\n",
      "250/250 [==============================] - 0s 1ms/step - loss: 37.6347 - accuracy: 0.0000e+00\n",
      "Epoch 7/100\n",
      "250/250 [==============================] - 0s 956us/step - loss: 36.3237 - accuracy: 0.0000e+00\n",
      "Epoch 8/100\n",
      "250/250 [==============================] - 0s 1ms/step - loss: 36.6668 - accuracy: 0.0000e+00\n",
      "Epoch 9/100\n",
      "250/250 [==============================] - 0s 1ms/step - loss: 35.2052 - accuracy: 0.0000e+00\n",
      "Epoch 10/100\n",
      "250/250 [==============================] - 0s 1ms/step - loss: 35.1764 - accuracy: 0.0000e+00\n",
      "Epoch 11/100\n",
      "250/250 [==============================] - 0s 1ms/step - loss: 34.5817 - accuracy: 0.0000e+00\n",
      "Epoch 12/100\n",
      "250/250 [==============================] - 0s 1ms/step - loss: 35.4715 - accuracy: 0.0000e+00\n",
      "Epoch 13/100\n",
      "250/250 [==============================] - 0s 1ms/step - loss: 34.7015 - accuracy: 0.0000e+00\n",
      "Epoch 14/100\n",
      "250/250 [==============================] - 0s 959us/step - loss: 34.1375 - accuracy: 0.0000e+00\n",
      "Epoch 15/100\n",
      "250/250 [==============================] - 0s 1ms/step - loss: 34.2940 - accuracy: 0.0000e+00\n",
      "Epoch 16/100\n",
      "250/250 [==============================] - 0s 1ms/step - loss: 34.1723 - accuracy: 0.0000e+00\n",
      "Epoch 17/100\n",
      "250/250 [==============================] - 0s 1ms/step - loss: 34.3004 - accuracy: 0.0000e+00\n",
      "Epoch 18/100\n",
      "250/250 [==============================] - 0s 948us/step - loss: 33.9282 - accuracy: 0.0000e+00\n",
      "Epoch 19/100\n",
      "250/250 [==============================] - 0s 978us/step - loss: 33.7309 - accuracy: 0.0000e+00\n",
      "Epoch 20/100\n",
      "250/250 [==============================] - 0s 1ms/step - loss: 34.0831 - accuracy: 0.0000e+00\n",
      "Epoch 21/100\n",
      "250/250 [==============================] - 0s 954us/step - loss: 33.3638 - accuracy: 0.0000e+00\n",
      "Epoch 22/100\n",
      "250/250 [==============================] - 0s 1ms/step - loss: 33.3991 - accuracy: 0.0000e+00\n",
      "Epoch 23/100\n",
      "250/250 [==============================] - 0s 1ms/step - loss: 33.1729 - accuracy: 0.0000e+00\n",
      "Epoch 24/100\n",
      "250/250 [==============================] - 0s 1ms/step - loss: 33.5636 - accuracy: 0.0000e+00\n",
      "Epoch 25/100\n",
      "250/250 [==============================] - 0s 918us/step - loss: 33.9119 - accuracy: 0.0000e+00\n",
      "Epoch 26/100\n",
      "250/250 [==============================] - 0s 986us/step - loss: 33.6991 - accuracy: 0.0000e+00\n",
      "Epoch 27/100\n",
      "250/250 [==============================] - 0s 1ms/step - loss: 33.3754 - accuracy: 0.0000e+00\n",
      "Epoch 28/100\n",
      "250/250 [==============================] - 0s 1ms/step - loss: 33.5196 - accuracy: 0.0000e+00\n",
      "Epoch 29/100\n",
      "250/250 [==============================] - 0s 991us/step - loss: 33.2512 - accuracy: 0.0000e+00\n",
      "Epoch 30/100\n",
      "250/250 [==============================] - 0s 1ms/step - loss: 33.6604 - accuracy: 0.0000e+00\n",
      "Epoch 31/100\n",
      "250/250 [==============================] - 0s 1ms/step - loss: 32.8128 - accuracy: 0.0000e+00\n",
      "Epoch 32/100\n",
      "250/250 [==============================] - 0s 931us/step - loss: 33.7754 - accuracy: 0.0000e+00\n",
      "Epoch 33/100\n",
      "250/250 [==============================] - 0s 1ms/step - loss: 33.1488 - accuracy: 0.0000e+00\n",
      "Epoch 34/100\n",
      "250/250 [==============================] - 0s 1ms/step - loss: 33.8357 - accuracy: 0.0000e+00\n",
      "Epoch 35/100\n",
      "250/250 [==============================] - 0s 1ms/step - loss: 32.9477 - accuracy: 0.0000e+00\n",
      "Epoch 36/100\n",
      "250/250 [==============================] - 0s 931us/step - loss: 32.5423 - accuracy: 0.0000e+00\n",
      "Epoch 37/100\n",
      "250/250 [==============================] - 0s 1ms/step - loss: 32.7292 - accuracy: 0.0000e+00\n",
      "Epoch 38/100\n",
      "250/250 [==============================] - 0s 990us/step - loss: 32.7266 - accuracy: 0.0000e+00\n",
      "Epoch 39/100\n",
      "250/250 [==============================] - 0s 989us/step - loss: 32.7611 - accuracy: 0.0000e+00\n",
      "Epoch 40/100\n",
      "250/250 [==============================] - 0s 1ms/step - loss: 33.1558 - accuracy: 0.0000e+00\n",
      "Epoch 41/100\n",
      "250/250 [==============================] - 0s 1ms/step - loss: 32.6307 - accuracy: 0.0000e+00\n",
      "Epoch 42/100\n",
      "250/250 [==============================] - 0s 1ms/step - loss: 32.4752 - accuracy: 0.0000e+00\n",
      "Epoch 43/100\n",
      "250/250 [==============================] - 0s 910us/step - loss: 33.0834 - accuracy: 0.0000e+00\n",
      "Epoch 44/100\n",
      "250/250 [==============================] - 0s 2ms/step - loss: 32.4824 - accuracy: 0.0000e+00\n",
      "Epoch 45/100\n",
      "250/250 [==============================] - 0s 1ms/step - loss: 33.2653 - accuracy: 0.0000e+00\n",
      "Epoch 46/100\n",
      "250/250 [==============================] - 0s 963us/step - loss: 33.2356 - accuracy: 0.0000e+00\n",
      "Epoch 47/100\n",
      "250/250 [==============================] - 0s 1ms/step - loss: 32.4074 - accuracy: 0.0000e+00\n",
      "Epoch 48/100\n",
      "250/250 [==============================] - 0s 1ms/step - loss: 32.3116 - accuracy: 0.0000e+00\n",
      "Epoch 49/100\n",
      "250/250 [==============================] - 0s 1ms/step - loss: 32.5961 - accuracy: 0.0000e+00\n",
      "Epoch 50/100\n",
      "250/250 [==============================] - 0s 1ms/step - loss: 32.3185 - accuracy: 0.0000e+00\n",
      "Epoch 51/100\n",
      "250/250 [==============================] - 0s 1ms/step - loss: 32.5690 - accuracy: 0.0000e+00\n",
      "Epoch 52/100\n",
      "250/250 [==============================] - 0s 1ms/step - loss: 32.4453 - accuracy: 0.0000e+00\n",
      "Epoch 53/100\n",
      "250/250 [==============================] - 0s 939us/step - loss: 32.2377 - accuracy: 0.0000e+00\n",
      "Epoch 54/100\n",
      "250/250 [==============================] - 0s 987us/step - loss: 32.0765 - accuracy: 0.0000e+00\n",
      "Epoch 55/100\n",
      "250/250 [==============================] - 0s 930us/step - loss: 31.7097 - accuracy: 0.0000e+00\n",
      "Epoch 56/100\n",
      "250/250 [==============================] - 0s 1ms/step - loss: 32.9949 - accuracy: 0.0000e+00\n",
      "Epoch 57/100\n",
      "250/250 [==============================] - 0s 939us/step - loss: 32.0963 - accuracy: 0.0000e+00\n",
      "Epoch 58/100\n",
      "250/250 [==============================] - 0s 1ms/step - loss: 32.5706 - accuracy: 0.0000e+00\n",
      "Epoch 59/100\n",
      "250/250 [==============================] - 0s 1ms/step - loss: 32.1544 - accuracy: 0.0000e+00\n",
      "Epoch 60/100\n",
      "250/250 [==============================] - 0s 1ms/step - loss: 32.3356 - accuracy: 0.0000e+00\n",
      "Epoch 61/100\n",
      "250/250 [==============================] - 0s 923us/step - loss: 33.0108 - accuracy: 0.0000e+00\n",
      "Epoch 62/100\n",
      "250/250 [==============================] - 0s 983us/step - loss: 32.2661 - accuracy: 0.0000e+00\n",
      "Epoch 63/100\n",
      "250/250 [==============================] - 0s 973us/step - loss: 32.1206 - accuracy: 0.0000e+00\n",
      "Epoch 64/100\n",
      "250/250 [==============================] - 0s 1ms/step - loss: 31.7606 - accuracy: 0.0000e+00\n",
      "Epoch 65/100\n",
      "250/250 [==============================] - 0s 1ms/step - loss: 32.8246 - accuracy: 0.0000e+00\n",
      "Epoch 66/100\n",
      "250/250 [==============================] - 0s 1ms/step - loss: 32.2306 - accuracy: 0.0000e+00\n",
      "Epoch 67/100\n",
      "250/250 [==============================] - 0s 937us/step - loss: 32.1625 - accuracy: 0.0000e+00\n",
      "Epoch 68/100\n",
      "250/250 [==============================] - 0s 1ms/step - loss: 31.8796 - accuracy: 0.0000e+00\n",
      "Epoch 69/100\n",
      "250/250 [==============================] - 0s 986us/step - loss: 31.8977 - accuracy: 0.0000e+00\n",
      "Epoch 70/100\n",
      "250/250 [==============================] - 0s 1ms/step - loss: 31.6481 - accuracy: 0.0000e+00\n",
      "Epoch 71/100\n",
      "250/250 [==============================] - 0s 1ms/step - loss: 32.6815 - accuracy: 0.0000e+00\n",
      "Epoch 72/100\n",
      "250/250 [==============================] - 0s 1ms/step - loss: 32.2843 - accuracy: 0.0000e+00\n",
      "Epoch 73/100\n",
      "250/250 [==============================] - 0s 1ms/step - loss: 31.6337 - accuracy: 0.0000e+00\n",
      "Epoch 74/100\n",
      "250/250 [==============================] - 0s 1ms/step - loss: 32.2377 - accuracy: 0.0000e+00\n",
      "Epoch 75/100\n",
      "250/250 [==============================] - 0s 963us/step - loss: 32.2265 - accuracy: 0.0000e+00\n",
      "Epoch 76/100\n",
      "250/250 [==============================] - 0s 1ms/step - loss: 31.6432 - accuracy: 0.0000e+00\n",
      "Epoch 77/100\n",
      "250/250 [==============================] - 0s 1ms/step - loss: 32.4347 - accuracy: 0.0000e+00\n",
      "Epoch 78/100\n",
      "250/250 [==============================] - 0s 1ms/step - loss: 32.1449 - accuracy: 0.0000e+00\n",
      "Epoch 79/100\n",
      "250/250 [==============================] - 0s 1ms/step - loss: 31.4157 - accuracy: 0.0000e+00\n",
      "Epoch 80/100\n",
      "250/250 [==============================] - 0s 1ms/step - loss: 32.1005 - accuracy: 0.0000e+00\n",
      "Epoch 81/100\n",
      "250/250 [==============================] - 0s 1ms/step - loss: 32.1931 - accuracy: 0.0000e+00\n",
      "Epoch 82/100\n",
      "250/250 [==============================] - 0s 947us/step - loss: 32.0975 - accuracy: 0.0000e+00\n",
      "Epoch 83/100\n",
      "250/250 [==============================] - 0s 1ms/step - loss: 32.0396 - accuracy: 0.0000e+00\n",
      "Epoch 84/100\n",
      "250/250 [==============================] - 0s 1ms/step - loss: 31.6551 - accuracy: 0.0000e+00\n",
      "Epoch 85/100\n",
      "250/250 [==============================] - 0s 1ms/step - loss: 31.6049 - accuracy: 0.0000e+00\n",
      "Epoch 86/100\n",
      "250/250 [==============================] - 0s 958us/step - loss: 31.3570 - accuracy: 0.0000e+00\n",
      "Epoch 87/100\n",
      "250/250 [==============================] - 0s 1ms/step - loss: 31.8723 - accuracy: 0.0000e+00\n",
      "Epoch 88/100\n",
      "250/250 [==============================] - 0s 1ms/step - loss: 32.0495 - accuracy: 0.0000e+00\n",
      "Epoch 89/100\n",
      "250/250 [==============================] - 0s 2ms/step - loss: 31.7401 - accuracy: 0.0000e+00\n",
      "Epoch 90/100\n",
      "250/250 [==============================] - 0s 2ms/step - loss: 32.0616 - accuracy: 0.0000e+00\n",
      "Epoch 91/100\n",
      "250/250 [==============================] - 0s 2ms/step - loss: 31.5345 - accuracy: 0.0000e+00\n",
      "Epoch 92/100\n",
      "250/250 [==============================] - 0s 1ms/step - loss: 31.9349 - accuracy: 0.0000e+00\n",
      "Epoch 93/100\n",
      "250/250 [==============================] - 0s 1ms/step - loss: 31.3904 - accuracy: 0.0000e+00\n",
      "Epoch 94/100\n",
      "250/250 [==============================] - 0s 1ms/step - loss: 31.8222 - accuracy: 0.0000e+00\n",
      "Epoch 95/100\n",
      "250/250 [==============================] - 0s 1ms/step - loss: 31.6622 - accuracy: 0.0000e+00\n",
      "Epoch 96/100\n",
      "250/250 [==============================] - 0s 1ms/step - loss: 31.8792 - accuracy: 0.0000e+00\n",
      "Epoch 97/100\n",
      "250/250 [==============================] - 0s 1ms/step - loss: 32.1778 - accuracy: 0.0000e+00\n",
      "Epoch 98/100\n",
      "250/250 [==============================] - 0s 976us/step - loss: 32.3363 - accuracy: 0.0000e+00\n",
      "Epoch 99/100\n",
      "250/250 [==============================] - 0s 1ms/step - loss: 31.7366 - accuracy: 0.0000e+00\n",
      "Epoch 100/100\n",
      "250/250 [==============================] - 0s 1ms/step - loss: 31.6918 - accuracy: 0.0000e+00\n"
     ]
    },
    {
     "data": {
      "text/plain": [
       "<tensorflow.python.keras.callbacks.History at 0x7f7f2c680910>"
      ]
     },
     "execution_count": 15,
     "metadata": {},
     "output_type": "execute_result"
    }
   ],
   "source": [
    "# 2. compile model\n",
    "model.compile(loss='mae', optimizer='adam', metrics=['accuracy'])\n",
    "# 2. train model\n",
    "model.fit(x_train, y_train, epochs=100, batch_size=64)"
   ]
  },
  {
   "cell_type": "markdown",
   "metadata": {
    "cell_id": "00056-7a9774e9-8647-4c17-a412-76ca626b3d22",
    "deepnote_cell_type": "markdown",
    "tags": []
   },
   "source": [
    "<details>\n",
    "<summary> <font color='green'>Click here for some more information about hyperparaper of neural network</font></summary>\n",
    "We use MAE as a loss function in the neural network but we use LMAE as a metric in our competition. Is this reasonable?\n",
    "</details>"
   ]
  },
  {
   "cell_type": "code",
   "execution_count": null,
   "metadata": {
    "cell_id": "00057-56552538-c846-4ba5-9b8e-6831a0da844b",
    "deepnote_cell_type": "code",
    "deepnote_to_be_reexecuted": false,
    "execution_millis": 191,
    "execution_start": 1633172197019,
    "source_hash": "b6c3c0f2"
   },
   "outputs": [
    {
     "data": {
      "text/plain": [
       "array([[193.89168 ],\n",
       "       [ 72.371544],\n",
       "       [400.62137 ],\n",
       "       ...,\n",
       "       [ 97.04091 ],\n",
       "       [116.260025],\n",
       "       [203.80902 ]], dtype=float32)"
      ]
     },
     "execution_count": 16,
     "metadata": {},
     "output_type": "execute_result"
    }
   ],
   "source": [
    "y_pred = model.predict(x_test)\n",
    "y_pred"
   ]
  },
  {
   "cell_type": "code",
   "execution_count": null,
   "metadata": {
    "cell_id": "00058-87c37976-0ff7-419f-a2da-de24880d28cb",
    "deepnote_cell_type": "code",
    "deepnote_to_be_reexecuted": false,
    "execution_millis": 18,
    "execution_start": 1633172197221,
    "source_hash": "38332e36"
   },
   "outputs": [
    {
     "data": {
      "text/plain": [
       "1.5009383"
      ]
     },
     "execution_count": 17,
     "metadata": {},
     "output_type": "execute_result"
    }
   ],
   "source": [
    "log_mae = np.log10(mean_absolute_error(y_pred, y_true))\n",
    "log_mae"
   ]
  },
  {
   "cell_type": "markdown",
   "metadata": {
    "cell_id": "00027-832232b8-cdca-4389-afed-3c0708ea2274",
    "deepnote_cell_type": "markdown",
    "tags": []
   },
   "source": [
    "## 4.2 Customization"
   ]
  },
  {
   "cell_type": "code",
   "execution_count": null,
   "metadata": {
    "cell_id": "00028-e8cc0a10-ecc6-4e5f-bef7-3b1c2f65437d",
    "deepnote_cell_type": "code",
    "deepnote_to_be_reexecuted": false,
    "execution_millis": 14,
    "execution_start": 1633172197236,
    "source_hash": "51ddff1d",
    "tags": []
   },
   "outputs": [],
   "source": [
    "import tensorflow.keras.backend as kb\n",
    "\n",
    "def custom_loss(y_actual, y_pred): \n",
    "    custom_loss=tf.experimental.numpy.log10(kb.sum(kb.abs(y_actual - y_pred)) / y_actual.shape[0])\n",
    "    return custom_loss"
   ]
  },
  {
   "cell_type": "code",
   "execution_count": null,
   "metadata": {
    "cell_id": "00029-a303efc6-8e6b-4b24-9aad-b2a081f81c80",
    "deepnote_cell_type": "code",
    "deepnote_to_be_reexecuted": false,
    "execution_millis": 29305,
    "execution_start": 1633172197255,
    "source_hash": "ecca56e",
    "tags": []
   },
   "outputs": [
    {
     "name": "stdout",
     "output_type": "stream",
     "text": [
      "Epoch 1/100\n",
      "250/250 [==============================] - 1s 1ms/step - loss: 1.4962 - accuracy: 0.0000e+00\n",
      "Epoch 2/100\n",
      "250/250 [==============================] - 0s 979us/step - loss: 1.5002 - accuracy: 0.0000e+00\n",
      "Epoch 3/100\n",
      "250/250 [==============================] - 0s 985us/step - loss: 1.4968 - accuracy: 0.0000e+00\n",
      "Epoch 4/100\n",
      "250/250 [==============================] - 0s 1ms/step - loss: 1.4944 - accuracy: 0.0000e+00\n",
      "Epoch 5/100\n",
      "250/250 [==============================] - 0s 982us/step - loss: 1.5010 - accuracy: 0.0000e+00\n",
      "Epoch 6/100\n",
      "250/250 [==============================] - 0s 944us/step - loss: 1.5059 - accuracy: 0.0000e+00\n",
      "Epoch 7/100\n",
      "250/250 [==============================] - 0s 985us/step - loss: 1.5009 - accuracy: 0.0000e+00\n",
      "Epoch 8/100\n",
      "250/250 [==============================] - 0s 1ms/step - loss: 1.4919 - accuracy: 0.0000e+00\n",
      "Epoch 9/100\n",
      "250/250 [==============================] - 0s 922us/step - loss: 1.4966 - accuracy: 0.0000e+00\n",
      "Epoch 10/100\n",
      "250/250 [==============================] - 0s 1ms/step - loss: 1.5008 - accuracy: 0.0000e+00\n",
      "Epoch 11/100\n",
      "250/250 [==============================] - 1s 2ms/step - loss: 1.4995 - accuracy: 0.0000e+00\n",
      "Epoch 12/100\n",
      "250/250 [==============================] - 0s 1ms/step - loss: 1.4924 - accuracy: 0.0000e+00\n",
      "Epoch 13/100\n",
      "250/250 [==============================] - 0s 1ms/step - loss: 1.4976 - accuracy: 0.0000e+00\n",
      "Epoch 14/100\n",
      "250/250 [==============================] - 0s 1ms/step - loss: 1.4941 - accuracy: 0.0000e+00\n",
      "Epoch 15/100\n",
      "250/250 [==============================] - 0s 1ms/step - loss: 1.4926 - accuracy: 0.0000e+00\n",
      "Epoch 16/100\n",
      "250/250 [==============================] - 0s 938us/step - loss: 1.5080 - accuracy: 0.0000e+00\n",
      "Epoch 17/100\n",
      "250/250 [==============================] - 0s 1ms/step - loss: 1.4956 - accuracy: 0.0000e+00\n",
      "Epoch 18/100\n",
      "250/250 [==============================] - 0s 1ms/step - loss: 1.4969 - accuracy: 0.0000e+00\n",
      "Epoch 19/100\n",
      "250/250 [==============================] - 0s 1ms/step - loss: 1.4949 - accuracy: 0.0000e+00\n",
      "Epoch 20/100\n",
      "250/250 [==============================] - 0s 914us/step - loss: 1.5009 - accuracy: 0.0000e+00\n",
      "Epoch 21/100\n",
      "250/250 [==============================] - 0s 1ms/step - loss: 1.4953 - accuracy: 0.0000e+00\n",
      "Epoch 22/100\n",
      "250/250 [==============================] - 0s 2ms/step - loss: 1.4945 - accuracy: 0.0000e+00\n",
      "Epoch 23/100\n",
      "250/250 [==============================] - 0s 2ms/step - loss: 1.4891 - accuracy: 0.0000e+00\n",
      "Epoch 24/100\n",
      "250/250 [==============================] - 0s 2ms/step - loss: 1.5035 - accuracy: 0.0000e+00\n",
      "Epoch 25/100\n",
      "250/250 [==============================] - 0s 2ms/step - loss: 1.4938 - accuracy: 0.0000e+00\n",
      "Epoch 26/100\n",
      "250/250 [==============================] - 0s 2ms/step - loss: 1.4919 - accuracy: 0.0000e+00\n",
      "Epoch 27/100\n",
      "250/250 [==============================] - 0s 1ms/step - loss: 1.4834 - accuracy: 0.0000e+00\n",
      "Epoch 28/100\n",
      "250/250 [==============================] - 0s 1ms/step - loss: 1.4896 - accuracy: 0.0000e+00\n",
      "Epoch 29/100\n",
      "250/250 [==============================] - 0s 1ms/step - loss: 1.4984 - accuracy: 0.0000e+00\n",
      "Epoch 30/100\n",
      "250/250 [==============================] - 0s 1ms/step - loss: 1.4867 - accuracy: 0.0000e+00\n",
      "Epoch 31/100\n",
      "250/250 [==============================] - 0s 965us/step - loss: 1.4939 - accuracy: 0.0000e+00\n",
      "Epoch 32/100\n",
      "250/250 [==============================] - 0s 1ms/step - loss: 1.5005 - accuracy: 0.0000e+00\n",
      "Epoch 33/100\n",
      "250/250 [==============================] - 0s 2ms/step - loss: 1.5042 - accuracy: 0.0000e+00\n",
      "Epoch 34/100\n",
      "250/250 [==============================] - 0s 923us/step - loss: 1.5088 - accuracy: 0.0000e+00\n",
      "Epoch 35/100\n",
      "250/250 [==============================] - 0s 1ms/step - loss: 1.4934 - accuracy: 0.0000e+00\n",
      "Epoch 36/100\n",
      "250/250 [==============================] - 0s 997us/step - loss: 1.4935 - accuracy: 0.0000e+00\n",
      "Epoch 37/100\n",
      "250/250 [==============================] - 0s 1ms/step - loss: 1.4978 - accuracy: 0.0000e+00\n",
      "Epoch 38/100\n",
      "250/250 [==============================] - 0s 947us/step - loss: 1.4931 - accuracy: 0.0000e+00\n",
      "Epoch 39/100\n",
      "250/250 [==============================] - 0s 989us/step - loss: 1.4894 - accuracy: 0.0000e+00\n",
      "Epoch 40/100\n",
      "250/250 [==============================] - 0s 955us/step - loss: 1.4973 - accuracy: 0.0000e+00\n",
      "Epoch 41/100\n",
      "250/250 [==============================] - 0s 1ms/step - loss: 1.5021 - accuracy: 0.0000e+00\n",
      "Epoch 42/100\n",
      "250/250 [==============================] - 0s 1ms/step - loss: 1.4827 - accuracy: 0.0000e+00\n",
      "Epoch 43/100\n",
      "250/250 [==============================] - 0s 1ms/step - loss: 1.4917 - accuracy: 0.0000e+00\n",
      "Epoch 44/100\n",
      "250/250 [==============================] - 0s 1ms/step - loss: 1.4887 - accuracy: 0.0000e+00\n",
      "Epoch 45/100\n",
      "250/250 [==============================] - 0s 1ms/step - loss: 1.4895 - accuracy: 0.0000e+00\n",
      "Epoch 46/100\n",
      "250/250 [==============================] - 0s 1ms/step - loss: 1.5003 - accuracy: 0.0000e+00\n",
      "Epoch 47/100\n",
      "250/250 [==============================] - 0s 1ms/step - loss: 1.4961 - accuracy: 0.0000e+00\n",
      "Epoch 48/100\n",
      "250/250 [==============================] - 0s 1ms/step - loss: 1.4855 - accuracy: 0.0000e+00\n",
      "Epoch 49/100\n",
      "250/250 [==============================] - 0s 1ms/step - loss: 1.4907 - accuracy: 0.0000e+00\n",
      "Epoch 50/100\n",
      "250/250 [==============================] - 0s 1ms/step - loss: 1.4840 - accuracy: 0.0000e+00\n",
      "Epoch 51/100\n",
      "250/250 [==============================] - 0s 938us/step - loss: 1.4936 - accuracy: 0.0000e+00\n",
      "Epoch 52/100\n",
      "250/250 [==============================] - 0s 1ms/step - loss: 1.4879 - accuracy: 0.0000e+00\n",
      "Epoch 53/100\n",
      "250/250 [==============================] - 0s 929us/step - loss: 1.4845 - accuracy: 0.0000e+00\n",
      "Epoch 54/100\n",
      "250/250 [==============================] - 0s 991us/step - loss: 1.4892 - accuracy: 0.0000e+00\n",
      "Epoch 55/100\n",
      "250/250 [==============================] - 0s 945us/step - loss: 1.4877 - accuracy: 0.0000e+00\n",
      "Epoch 56/100\n",
      "250/250 [==============================] - 0s 1ms/step - loss: 1.4809 - accuracy: 0.0000e+00\n",
      "Epoch 57/100\n",
      "250/250 [==============================] - 0s 1ms/step - loss: 1.4887 - accuracy: 0.0000e+00\n",
      "Epoch 58/100\n",
      "250/250 [==============================] - 0s 1ms/step - loss: 1.4896 - accuracy: 0.0000e+00\n",
      "Epoch 59/100\n",
      "250/250 [==============================] - 0s 1ms/step - loss: 1.4940 - accuracy: 0.0000e+00\n",
      "Epoch 60/100\n",
      "250/250 [==============================] - 0s 1ms/step - loss: 1.4868 - accuracy: 0.0000e+00\n",
      "Epoch 61/100\n",
      "250/250 [==============================] - 0s 981us/step - loss: 1.4880 - accuracy: 0.0000e+00\n",
      "Epoch 62/100\n",
      "250/250 [==============================] - 0s 946us/step - loss: 1.4872 - accuracy: 0.0000e+00\n",
      "Epoch 63/100\n",
      "250/250 [==============================] - 0s 1ms/step - loss: 1.4886 - accuracy: 0.0000e+00\n",
      "Epoch 64/100\n",
      "250/250 [==============================] - 0s 1ms/step - loss: 1.4913 - accuracy: 0.0000e+00\n",
      "Epoch 65/100\n",
      "250/250 [==============================] - 0s 1ms/step - loss: 1.4801 - accuracy: 0.0000e+00\n",
      "Epoch 66/100\n",
      "250/250 [==============================] - 0s 1ms/step - loss: 1.4875 - accuracy: 0.0000e+00\n",
      "Epoch 67/100\n",
      "250/250 [==============================] - 0s 1ms/step - loss: 1.4884 - accuracy: 0.0000e+00\n",
      "Epoch 68/100\n",
      "250/250 [==============================] - 0s 1ms/step - loss: 1.4894 - accuracy: 0.0000e+00\n",
      "Epoch 69/100\n",
      "250/250 [==============================] - 0s 1ms/step - loss: 1.4869 - accuracy: 0.0000e+00\n",
      "Epoch 70/100\n",
      "250/250 [==============================] - 0s 1ms/step - loss: 1.4887 - accuracy: 0.0000e+00\n",
      "Epoch 71/100\n",
      "250/250 [==============================] - 0s 931us/step - loss: 1.4953 - accuracy: 0.0000e+00\n",
      "Epoch 72/100\n",
      "250/250 [==============================] - 0s 994us/step - loss: 1.4834 - accuracy: 0.0000e+00\n",
      "Epoch 73/100\n",
      "250/250 [==============================] - 0s 1ms/step - loss: 1.4849 - accuracy: 0.0000e+00\n",
      "Epoch 74/100\n",
      "250/250 [==============================] - 0s 1ms/step - loss: 1.4875 - accuracy: 0.0000e+00\n",
      "Epoch 75/100\n",
      "250/250 [==============================] - 0s 939us/step - loss: 1.4842 - accuracy: 0.0000e+00\n",
      "Epoch 76/100\n",
      "250/250 [==============================] - 0s 1ms/step - loss: 1.4866 - accuracy: 0.0000e+00\n",
      "Epoch 77/100\n",
      "250/250 [==============================] - 0s 981us/step - loss: 1.4780 - accuracy: 0.0000e+00\n",
      "Epoch 78/100\n",
      "250/250 [==============================] - 0s 1ms/step - loss: 1.4812 - accuracy: 0.0000e+00\n",
      "Epoch 79/100\n",
      "250/250 [==============================] - 0s 1ms/step - loss: 1.4913 - accuracy: 0.0000e+00\n",
      "Epoch 80/100\n",
      "250/250 [==============================] - 0s 2ms/step - loss: 1.4904 - accuracy: 0.0000e+00\n",
      "Epoch 81/100\n",
      "250/250 [==============================] - 0s 1ms/step - loss: 1.4800 - accuracy: 0.0000e+00\n",
      "Epoch 82/100\n",
      "250/250 [==============================] - 0s 1ms/step - loss: 1.4897 - accuracy: 0.0000e+00\n",
      "Epoch 83/100\n",
      "250/250 [==============================] - 0s 1ms/step - loss: 1.4892 - accuracy: 0.0000e+00\n",
      "Epoch 84/100\n",
      "250/250 [==============================] - 0s 1ms/step - loss: 1.4840 - accuracy: 0.0000e+00\n",
      "Epoch 85/100\n",
      "250/250 [==============================] - 0s 1ms/step - loss: 1.4887 - accuracy: 0.0000e+00\n",
      "Epoch 86/100\n",
      "250/250 [==============================] - 0s 996us/step - loss: 1.4887 - accuracy: 0.0000e+00\n",
      "Epoch 87/100\n",
      "250/250 [==============================] - 0s 1ms/step - loss: 1.4871 - accuracy: 0.0000e+00\n",
      "Epoch 88/100\n",
      "250/250 [==============================] - 0s 1ms/step - loss: 1.4835 - accuracy: 0.0000e+00\n",
      "Epoch 89/100\n",
      "250/250 [==============================] - 0s 997us/step - loss: 1.4789 - accuracy: 0.0000e+00\n",
      "Epoch 90/100\n",
      "250/250 [==============================] - 0s 1ms/step - loss: 1.4808 - accuracy: 0.0000e+00\n",
      "Epoch 91/100\n",
      "250/250 [==============================] - 0s 1ms/step - loss: 1.4869 - accuracy: 0.0000e+00\n",
      "Epoch 92/100\n",
      "250/250 [==============================] - 0s 1ms/step - loss: 1.4826 - accuracy: 0.0000e+00\n",
      "Epoch 93/100\n",
      "250/250 [==============================] - 0s 1ms/step - loss: 1.4974 - accuracy: 0.0000e+00\n",
      "Epoch 94/100\n",
      "250/250 [==============================] - 0s 1ms/step - loss: 1.4788 - accuracy: 0.0000e+00\n",
      "Epoch 95/100\n",
      "250/250 [==============================] - 0s 925us/step - loss: 1.4827 - accuracy: 0.0000e+00\n",
      "Epoch 96/100\n",
      "250/250 [==============================] - 0s 974us/step - loss: 1.4876 - accuracy: 0.0000e+00\n",
      "Epoch 97/100\n",
      "250/250 [==============================] - 0s 929us/step - loss: 1.4850 - accuracy: 0.0000e+00\n",
      "Epoch 98/100\n",
      "250/250 [==============================] - 0s 1ms/step - loss: 1.4832 - accuracy: 0.0000e+00\n",
      "Epoch 99/100\n",
      "250/250 [==============================] - 0s 952us/step - loss: 1.4845 - accuracy: 0.0000e+00\n",
      "Epoch 100/100\n",
      "250/250 [==============================] - 0s 1ms/step - loss: 1.4863 - accuracy: 0.0000e+00\n"
     ]
    },
    {
     "data": {
      "text/plain": [
       "<tensorflow.python.keras.callbacks.History at 0x7f7f15756f50>"
      ]
     },
     "execution_count": 19,
     "metadata": {},
     "output_type": "execute_result"
    }
   ],
   "source": [
    "model.compile(loss=custom_loss, optimizer='adam', metrics=['accuracy'])\n",
    "model.fit(x_train, y_train, epochs=100, batch_size=64)"
   ]
  },
  {
   "cell_type": "code",
   "execution_count": null,
   "metadata": {
    "cell_id": "00030-8decf2a7-db0e-46f7-82d5-dd3289e40a5e",
    "deepnote_cell_type": "code",
    "deepnote_to_be_reexecuted": false,
    "execution_millis": 153,
    "execution_start": 1633172226559,
    "source_hash": "74c14d0b",
    "tags": []
   },
   "outputs": [
    {
     "data": {
      "text/plain": [
       "1.4887216"
      ]
     },
     "execution_count": 20,
     "metadata": {},
     "output_type": "execute_result"
    }
   ],
   "source": [
    "# predict\n",
    "y_pred = model.predict(x_test)\n",
    "# evaluate error\n",
    "log_mae = np.log10(mean_absolute_error(y_pred, y_true))\n",
    "log_mae"
   ]
  },
  {
   "cell_type": "markdown",
   "metadata": {
    "cell_id": "00059-e898d4eb-9416-4eaa-add5-2472a13f0f42",
    "deepnote_cell_type": "markdown",
    "tags": []
   },
   "source": [
    "## 5. Predicting CO<sub>2</sub> WC "
   ]
  },
  {
   "cell_type": "markdown",
   "metadata": {
    "cell_id": "00060-1813a205-c726-4f17-9c43-25d5afc9e188",
    "deepnote_cell_type": "markdown",
    "tags": []
   },
   "source": [
    "### Import pretest and proprocessing\n",
    "\n",
    "Today we will prepare a submission file for pretest set for the phase 1 (Development)."
   ]
  },
  {
   "cell_type": "code",
   "execution_count": null,
   "metadata": {
    "cell_id": "00061-f73edc34-076e-4df4-a56e-025c9642a5f0",
    "deepnote_cell_type": "code",
    "deepnote_to_be_reexecuted": false,
    "execution_millis": 4,
    "execution_start": 1633172226754,
    "source_hash": "40ed25ed",
    "tags": []
   },
   "outputs": [
    {
     "data": {
      "text/plain": [
       "(2000, 13)"
      ]
     },
     "execution_count": 21,
     "metadata": {},
     "output_type": "execute_result"
    }
   ],
   "source": [
    "pretest = pd.read_csv(dataset + \"pretest.csv\")\n",
    "pretest.shape"
   ]
  },
  {
   "cell_type": "code",
   "execution_count": null,
   "metadata": {
    "cell_id": "00062-504e3874-ce4f-4cdf-a8a4-6b5d1792ae44",
    "deepnote_cell_type": "code",
    "deepnote_to_be_reexecuted": false,
    "execution_millis": 4,
    "execution_start": 1633172226754,
    "source_hash": "64a7b60d",
    "tags": []
   },
   "outputs": [
    {
     "data": {
      "text/plain": [
       "MOFname                                           object\n",
       "volume [A^3]                                     float64\n",
       "weight [u]                                       float64\n",
       "surface_area [m^2/g]                             float64\n",
       "void_fraction                                    float64\n",
       "void_volume [cm^3/g]                             float64\n",
       "functional_groups                                  int16\n",
       "metal_linker                                       int64\n",
       "organic_linker1                                    int64\n",
       "organic_linker2                                    int64\n",
       "topology                                            int8\n",
       "CO2/N2_selectivity                               float64\n",
       "heat_adsorption_CO2_P0.15bar_T298K [kcal/mol]    float64\n",
       "dtype: object"
      ]
     },
     "execution_count": 22,
     "metadata": {},
     "output_type": "execute_result"
    }
   ],
   "source": [
    "col = [\"functional_groups\", \"topology\"]\n",
    "for i in col:\n",
    "    pretest[i] = pretest[i].astype(\"category\").cat.codes\n",
    "\n",
    "pretest.dtypes"
   ]
  },
  {
   "cell_type": "code",
   "execution_count": null,
   "metadata": {
    "cell_id": "00063-72ea5c9c-0c1c-4312-9710-7b1f879c7c2a",
    "deepnote_cell_type": "code",
    "deepnote_to_be_reexecuted": false,
    "execution_millis": 108,
    "execution_start": 1633172226798,
    "source_hash": "4506e71d",
    "tags": []
   },
   "outputs": [
    {
     "data": {
      "application/vnd.deepnote.dataframe.v2+json": {
       "column_count": 13,
       "columns": [
        {
         "dtype": "object",
         "name": "MOFname",
         "stats": {
          "categories": [
           {
            "count": 1,
            "name": "mof_unit_pretest_1"
           },
           {
            "count": 1,
            "name": "mof_unit_pretest_2"
           },
           {
            "count": 1998,
            "name": "1998 others"
           }
          ],
          "nan_count": 0,
          "unique_count": 2000
         }
        },
        {
         "dtype": "float64",
         "name": "volume [A^3]",
         "stats": {
          "histogram": [
           {
            "bin_end": 8649.632203199999,
            "bin_start": 670.112177,
            "count": 1756
           },
           {
            "bin_end": 16629.1522294,
            "bin_start": 8649.632203199999,
            "count": 94
           },
           {
            "bin_end": 24608.6722556,
            "bin_start": 16629.1522294,
            "count": 69
           },
           {
            "bin_end": 32588.1922818,
            "bin_start": 24608.6722556,
            "count": 51
           },
           {
            "bin_end": 40567.712308,
            "bin_start": 32588.1922818,
            "count": 20
           },
           {
            "bin_end": 48547.2323342,
            "bin_start": 40567.712308,
            "count": 4
           },
           {
            "bin_end": 56526.7523604,
            "bin_start": 48547.2323342,
            "count": 2
           },
           {
            "bin_end": 64506.2723866,
            "bin_start": 56526.7523604,
            "count": 1
           },
           {
            "bin_end": 72485.7924128,
            "bin_start": 64506.2723866,
            "count": 1
           },
           {
            "bin_end": 80465.312439,
            "bin_start": 72485.7924128,
            "count": 2
           }
          ],
          "max": "80465.312439",
          "min": "670.112177",
          "nan_count": 0,
          "unique_count": 2000
         }
        },
        {
         "dtype": "float64",
         "name": "weight [u]",
         "stats": {
          "histogram": [
           {
            "bin_end": 2093.460792,
            "bin_start": 467.01368,
            "count": 1471
           },
           {
            "bin_end": 3719.9079039999997,
            "bin_start": 2093.460792,
            "count": 306
           },
           {
            "bin_end": 5346.3550159999995,
            "bin_start": 3719.9079039999997,
            "count": 133
           },
           {
            "bin_end": 6972.802127999999,
            "bin_start": 5346.3550159999995,
            "count": 54
           },
           {
            "bin_end": 8599.24924,
            "bin_start": 6972.802127999999,
            "count": 26
           },
           {
            "bin_end": 10225.696351999999,
            "bin_start": 8599.24924,
            "count": 4
           },
           {
            "bin_end": 11852.143463999999,
            "bin_start": 10225.696351999999,
            "count": 2
           },
           {
            "bin_end": 13478.590575999999,
            "bin_start": 11852.143463999999,
            "count": 2
           },
           {
            "bin_end": 15105.037687999999,
            "bin_start": 13478.590575999999,
            "count": 1
           },
           {
            "bin_end": 16731.4848,
            "bin_start": 15105.037687999999,
            "count": 1
           }
          ],
          "max": "16731.4848",
          "min": "467.01368",
          "nan_count": 0,
          "unique_count": 1978
         }
        },
        {
         "dtype": "float64",
         "name": "surface_area [m^2/g]",
         "stats": {
          "histogram": [
           {
            "bin_end": 668.5939999999999,
            "bin_start": 0,
            "count": 411
           },
           {
            "bin_end": 1337.1879999999999,
            "bin_start": 668.5939999999999,
            "count": 275
           },
           {
            "bin_end": 2005.7819999999997,
            "bin_start": 1337.1879999999999,
            "count": 325
           },
           {
            "bin_end": 2674.3759999999997,
            "bin_start": 2005.7819999999997,
            "count": 296
           },
           {
            "bin_end": 3342.97,
            "bin_start": 2674.3759999999997,
            "count": 240
           },
           {
            "bin_end": 4011.5639999999994,
            "bin_start": 3342.97,
            "count": 173
           },
           {
            "bin_end": 4680.157999999999,
            "bin_start": 4011.5639999999994,
            "count": 142
           },
           {
            "bin_end": 5348.7519999999995,
            "bin_start": 4680.157999999999,
            "count": 76
           },
           {
            "bin_end": 6017.346,
            "bin_start": 5348.7519999999995,
            "count": 41
           },
           {
            "bin_end": 6685.94,
            "bin_start": 6017.346,
            "count": 21
           }
          ],
          "max": "6685.94",
          "min": "0.0",
          "nan_count": 0,
          "unique_count": 1688
         }
        },
        {
         "dtype": "float64",
         "name": "void_fraction",
         "stats": {
          "histogram": [
           {
            "bin_end": 0.086871,
            "bin_start": 0,
            "count": 154
           },
           {
            "bin_end": 0.173742,
            "bin_start": 0.086871,
            "count": 341
           },
           {
            "bin_end": 0.260613,
            "bin_start": 0.173742,
            "count": 379
           },
           {
            "bin_end": 0.347484,
            "bin_start": 0.260613,
            "count": 355
           },
           {
            "bin_end": 0.43435500000000005,
            "bin_start": 0.347484,
            "count": 285
           },
           {
            "bin_end": 0.521226,
            "bin_start": 0.43435500000000005,
            "count": 116
           },
           {
            "bin_end": 0.608097,
            "bin_start": 0.521226,
            "count": 146
           },
           {
            "bin_end": 0.694968,
            "bin_start": 0.608097,
            "count": 129
           },
           {
            "bin_end": 0.7818390000000001,
            "bin_start": 0.694968,
            "count": 69
           },
           {
            "bin_end": 0.86871,
            "bin_start": 0.7818390000000001,
            "count": 26
           }
          ],
          "max": "0.86871",
          "min": "0.0",
          "nan_count": 0,
          "unique_count": 1936
         }
        },
        {
         "dtype": "float64",
         "name": "void_volume [cm^3/g]",
         "stats": {
          "histogram": [
           {
            "bin_end": 0.52083,
            "bin_start": 0,
            "count": 1341
           },
           {
            "bin_end": 1.04166,
            "bin_start": 0.52083,
            "count": 365
           },
           {
            "bin_end": 1.56249,
            "bin_start": 1.04166,
            "count": 126
           },
           {
            "bin_end": 2.08332,
            "bin_start": 1.56249,
            "count": 87
           },
           {
            "bin_end": 2.60415,
            "bin_start": 2.08332,
            "count": 32
           },
           {
            "bin_end": 3.12498,
            "bin_start": 2.60415,
            "count": 20
           },
           {
            "bin_end": 3.64581,
            "bin_start": 3.12498,
            "count": 13
           },
           {
            "bin_end": 4.16664,
            "bin_start": 3.64581,
            "count": 7
           },
           {
            "bin_end": 4.68747,
            "bin_start": 4.16664,
            "count": 8
           },
           {
            "bin_end": 5.2083,
            "bin_start": 4.68747,
            "count": 1
           }
          ],
          "max": "5.2083",
          "min": "0.0",
          "nan_count": 0,
          "unique_count": 1797
         }
        },
        {
         "dtype": "int16",
         "name": "functional_groups",
         "stats": {
          "histogram": [
           {
            "bin_end": 36.6,
            "bin_start": -1,
            "count": 194
           },
           {
            "bin_end": 74.2,
            "bin_start": 36.6,
            "count": 217
           },
           {
            "bin_end": 111.80000000000001,
            "bin_start": 74.2,
            "count": 208
           },
           {
            "bin_end": 149.4,
            "bin_start": 111.80000000000001,
            "count": 265
           },
           {
            "bin_end": 187,
            "bin_start": 149.4,
            "count": 173
           },
           {
            "bin_end": 224.60000000000002,
            "bin_start": 187,
            "count": 198
           },
           {
            "bin_end": 262.2,
            "bin_start": 224.60000000000002,
            "count": 203
           },
           {
            "bin_end": 299.8,
            "bin_start": 262.2,
            "count": 227
           },
           {
            "bin_end": 337.40000000000003,
            "bin_start": 299.8,
            "count": 163
           },
           {
            "bin_end": 375,
            "bin_start": 337.40000000000003,
            "count": 152
           }
          ],
          "max": "375",
          "min": "-1",
          "nan_count": 0,
          "unique_count": 377
         }
        },
        {
         "dtype": "int64",
         "name": "metal_linker",
         "stats": {
          "histogram": [
           {
            "bin_end": 2.1,
            "bin_start": 1,
            "count": 780
           },
           {
            "bin_end": 3.2,
            "bin_start": 2.1,
            "count": 658
           },
           {
            "bin_end": 4.300000000000001,
            "bin_start": 3.2,
            "count": 157
           },
           {
            "bin_end": 5.4,
            "bin_start": 4.300000000000001,
            "count": 0
           },
           {
            "bin_end": 6.5,
            "bin_start": 5.4,
            "count": 0
           },
           {
            "bin_end": 7.6000000000000005,
            "bin_start": 6.5,
            "count": 0
           },
           {
            "bin_end": 8.700000000000001,
            "bin_start": 7.6000000000000005,
            "count": 0
           },
           {
            "bin_end": 9.8,
            "bin_start": 8.700000000000001,
            "count": 243
           },
           {
            "bin_end": 10.9,
            "bin_start": 9.8,
            "count": 73
           },
           {
            "bin_end": 12,
            "bin_start": 10.9,
            "count": 89
           }
          ],
          "max": "12",
          "min": "1",
          "nan_count": 0,
          "unique_count": 7
         }
        },
        {
         "dtype": "int64",
         "name": "organic_linker1",
         "stats": {
          "histogram": [
           {
            "bin_end": 6.5,
            "bin_start": 1,
            "count": 796
           },
           {
            "bin_end": 12,
            "bin_start": 6.5,
            "count": 403
           },
           {
            "bin_end": 17.5,
            "bin_start": 12,
            "count": 417
           },
           {
            "bin_end": 23,
            "bin_start": 17.5,
            "count": 200
           },
           {
            "bin_end": 28.5,
            "bin_start": 23,
            "count": 77
           },
           {
            "bin_end": 34,
            "bin_start": 28.5,
            "count": 3
           },
           {
            "bin_end": 39.5,
            "bin_start": 34,
            "count": 23
           },
           {
            "bin_end": 45,
            "bin_start": 39.5,
            "count": 32
           },
           {
            "bin_end": 50.5,
            "bin_start": 45,
            "count": 37
           },
           {
            "bin_end": 56,
            "bin_start": 50.5,
            "count": 12
           }
          ],
          "max": "56",
          "min": "1",
          "nan_count": 0,
          "unique_count": 52
         }
        },
        {
         "dtype": "int64",
         "name": "organic_linker2",
         "stats": {
          "histogram": [
           {
            "bin_end": 6.7,
            "bin_start": 1,
            "count": 137
           },
           {
            "bin_end": 12.4,
            "bin_start": 6.7,
            "count": 239
           },
           {
            "bin_end": 18.1,
            "bin_start": 12.4,
            "count": 485
           },
           {
            "bin_end": 23.8,
            "bin_start": 18.1,
            "count": 442
           },
           {
            "bin_end": 29.5,
            "bin_start": 23.8,
            "count": 590
           },
           {
            "bin_end": 35.2,
            "bin_start": 29.5,
            "count": 8
           },
           {
            "bin_end": 40.9,
            "bin_start": 35.2,
            "count": 19
           },
           {
            "bin_end": 46.6,
            "bin_start": 40.9,
            "count": 10
           },
           {
            "bin_end": 52.300000000000004,
            "bin_start": 46.6,
            "count": 23
           },
           {
            "bin_end": 58,
            "bin_start": 52.300000000000004,
            "count": 47
           }
          ],
          "max": "58",
          "min": "1",
          "nan_count": 0,
          "unique_count": 51
         }
        },
        {
         "dtype": "int8",
         "name": "topology",
         "stats": {
          "histogram": [
           {
            "bin_end": 0.9,
            "bin_start": 0,
            "count": 157
           },
           {
            "bin_end": 1.8,
            "bin_start": 0.9,
            "count": 89
           },
           {
            "bin_end": 2.7,
            "bin_start": 1.8,
            "count": 73
           },
           {
            "bin_end": 3.6,
            "bin_start": 2.7,
            "count": 21
           },
           {
            "bin_end": 4.5,
            "bin_start": 3.6,
            "count": 203
           },
           {
            "bin_end": 5.4,
            "bin_start": 4.5,
            "count": 1201
           },
           {
            "bin_end": 6.3,
            "bin_start": 5.4,
            "count": 10
           },
           {
            "bin_end": 7.2,
            "bin_start": 6.3,
            "count": 1
           },
           {
            "bin_end": 8.1,
            "bin_start": 7.2,
            "count": 243
           },
           {
            "bin_end": 9,
            "bin_start": 8.1,
            "count": 2
           }
          ],
          "max": "9",
          "min": "0",
          "nan_count": 0,
          "unique_count": 10
         }
        },
        {
         "dtype": "float64",
         "name": "CO2/N2_selectivity",
         "stats": {
          "histogram": [
           {
            "bin_end": 47.684215235,
            "bin_start": 2.28261165,
            "count": 1780
           },
           {
            "bin_end": 93.08581882000001,
            "bin_start": 47.684215235,
            "count": 186
           },
           {
            "bin_end": 138.48742240500002,
            "bin_start": 93.08581882000001,
            "count": 29
           },
           {
            "bin_end": 183.88902599000002,
            "bin_start": 138.48742240500002,
            "count": 3
           },
           {
            "bin_end": 229.29062957500003,
            "bin_start": 183.88902599000002,
            "count": 1
           },
           {
            "bin_end": 274.69223316,
            "bin_start": 229.29062957500003,
            "count": 0
           },
           {
            "bin_end": 320.09383674500003,
            "bin_start": 274.69223316,
            "count": 0
           },
           {
            "bin_end": 365.49544033,
            "bin_start": 320.09383674500003,
            "count": 0
           },
           {
            "bin_end": 410.897043915,
            "bin_start": 365.49544033,
            "count": 0
           },
           {
            "bin_end": 456.2986475,
            "bin_start": 410.897043915,
            "count": 1
           }
          ],
          "max": "456.2986475",
          "min": "2.28261165",
          "nan_count": 0,
          "unique_count": 2000
         }
        },
        {
         "dtype": "float64",
         "name": "heat_adsorption_CO2_P0.15bar_T298K [kcal/mol]",
         "stats": {
          "histogram": [
           {
            "bin_end": 2.6509652,
            "bin_start": 1.7565849999999998,
            "count": 30
           },
           {
            "bin_end": 3.5453453999999995,
            "bin_start": 2.6509652,
            "count": 242
           },
           {
            "bin_end": 4.439725599999999,
            "bin_start": 3.5453453999999995,
            "count": 187
           },
           {
            "bin_end": 5.3341058,
            "bin_start": 4.439725599999999,
            "count": 336
           },
           {
            "bin_end": 6.228486,
            "bin_start": 5.3341058,
            "count": 578
           },
           {
            "bin_end": 7.122866199999999,
            "bin_start": 6.228486,
            "count": 311
           },
           {
            "bin_end": 8.0172464,
            "bin_start": 7.122866199999999,
            "count": 193
           },
           {
            "bin_end": 8.9116266,
            "bin_start": 8.0172464,
            "count": 79
           },
           {
            "bin_end": 9.806006799999999,
            "bin_start": 8.9116266,
            "count": 31
           },
           {
            "bin_end": 10.700387,
            "bin_start": 9.806006799999999,
            "count": 13
           }
          ],
          "max": "10.700387",
          "min": "1.7565849999999998",
          "nan_count": 0,
          "unique_count": 2000
         }
        },
        {
         "dtype": "int64",
         "name": "_deepnote_index_column"
        }
       ],
       "row_count": 2000,
       "rows_bottom": [
        {
         "CO2/N2_selectivity": 2.749424899,
         "MOFname": "mof_unit_pretest_1963",
         "_deepnote_index_column": 1962,
         "functional_groups": 25,
         "heat_adsorption_CO2_P0.15bar_T298K [kcal/mol]": 1.7565849999999998,
         "metal_linker": 2,
         "organic_linker1": 20,
         "organic_linker2": 25,
         "surface_area [m^2/g]": 6319.94,
         "topology": 4,
         "void_fraction": 0.83819,
         "void_volume [cm^3/g]": 4.4588,
         "volume [A^3]": 26604.007471,
         "weight [u]": 3011.773773
        },
        {
         "CO2/N2_selectivity": 4.81495642,
         "MOFname": "mof_unit_pretest_1964",
         "_deepnote_index_column": 1963,
         "functional_groups": 224,
         "heat_adsorption_CO2_P0.15bar_T298K [kcal/mol]": 4.15681,
         "metal_linker": 2,
         "organic_linker1": 11,
         "organic_linker2": 20,
         "surface_area [m^2/g]": 2429.41,
         "topology": 5,
         "void_fraction": 0.34319,
         "void_volume [cm^3/g]": 0.4576,
         "volume [A^3]": 1531.130181,
         "weight [u]": 691.54766
        },
        {
         "CO2/N2_selectivity": 2.950583944,
         "MOFname": "mof_unit_pretest_1965",
         "_deepnote_index_column": 1964,
         "functional_groups": 65,
         "heat_adsorption_CO2_P0.15bar_T298K [kcal/mol]": 2.893219,
         "metal_linker": 1,
         "organic_linker1": 21,
         "organic_linker2": 26,
         "surface_area [m^2/g]": 5053.63,
         "topology": 5,
         "void_fraction": 0.7194699999999999,
         "void_volume [cm^3/g]": 2.0756,
         "volume [A^3]": 4982.932646,
         "weight [u]": 1040.19106
        },
        {
         "CO2/N2_selectivity": 3.3385561580000003,
         "MOFname": "mof_unit_pretest_1966",
         "_deepnote_index_column": 1965,
         "functional_groups": 266,
         "heat_adsorption_CO2_P0.15bar_T298K [kcal/mol]": 2.957154,
         "metal_linker": 2,
         "organic_linker1": 4,
         "organic_linker2": 27,
         "surface_area [m^2/g]": 4901.58,
         "topology": 4,
         "void_fraction": 0.70973,
         "void_volume [cm^3/g]": 2.1613,
         "volume [A^3]": 18349.883679,
         "weight [u]": 3628.804
        },
        {
         "CO2/N2_selectivity": 43.66039384,
         "MOFname": "mof_unit_pretest_1967",
         "_deepnote_index_column": 1966,
         "functional_groups": 206,
         "heat_adsorption_CO2_P0.15bar_T298K [kcal/mol]": 6.890489,
         "metal_linker": 10,
         "organic_linker1": 47,
         "organic_linker2": 48,
         "surface_area [m^2/g]": 0,
         "topology": 2,
         "void_fraction": 0.01973,
         "void_volume [cm^3/g]": 0.0124,
         "volume [A^3]": 1751.314475,
         "weight [u]": 1672.412856
        },
        {
         "CO2/N2_selectivity": 3.977001354,
         "MOFname": "mof_unit_pretest_1968",
         "_deepnote_index_column": 1967,
         "functional_groups": 67,
         "heat_adsorption_CO2_P0.15bar_T298K [kcal/mol]": 3.176847,
         "metal_linker": 3,
         "organic_linker1": 21,
         "organic_linker2": 25,
         "surface_area [m^2/g]": 3981.95,
         "topology": 5,
         "void_fraction": 0.538,
         "void_volume [cm^3/g]": 0.7982,
         "volume [A^3]": 2800.014744,
         "weight [u]": 1136.47974
        },
        {
         "CO2/N2_selectivity": 4.126510978,
         "MOFname": "mof_unit_pretest_1969",
         "_deepnote_index_column": 1968,
         "functional_groups": 255,
         "heat_adsorption_CO2_P0.15bar_T298K [kcal/mol]": 3.059794,
         "metal_linker": 3,
         "organic_linker1": 22,
         "organic_linker2": 27,
         "surface_area [m^2/g]": 4141.64,
         "topology": 4,
         "void_fraction": 0.58925,
         "void_volume [cm^3/g]": 1.3541,
         "volume [A^3]": 17906.403167,
         "weight [u]": 4692.45696
        },
        {
         "CO2/N2_selectivity": 6.513730399,
         "MOFname": "mof_unit_pretest_1970",
         "_deepnote_index_column": 1969,
         "functional_groups": 39,
         "heat_adsorption_CO2_P0.15bar_T298K [kcal/mol]": 4.111286,
         "metal_linker": 3,
         "organic_linker1": 12,
         "organic_linker2": 20,
         "surface_area [m^2/g]": 2270.4,
         "topology": 5,
         "void_fraction": 0.39678,
         "void_volume [cm^3/g]": 0.4864,
         "volume [A^3]": 1528.8317539999998,
         "weight [u]": 751.06032
        },
        {
         "CO2/N2_selectivity": 7.782426546,
         "MOFname": "mof_unit_pretest_1971",
         "_deepnote_index_column": 1970,
         "functional_groups": 160,
         "heat_adsorption_CO2_P0.15bar_T298K [kcal/mol]": 4.575605,
         "metal_linker": 4,
         "organic_linker1": 6,
         "organic_linker2": 25,
         "surface_area [m^2/g]": 1381.6,
         "topology": 0,
         "void_fraction": 0.31482,
         "void_volume [cm^3/g]": 0.2526,
         "volume [A^3]": 4536.898249,
         "weight [u]": 3405.8085
        },
        {
         "CO2/N2_selectivity": 6.175174142,
         "MOFname": "mof_unit_pretest_1972",
         "_deepnote_index_column": 1971,
         "functional_groups": 243,
         "heat_adsorption_CO2_P0.15bar_T298K [kcal/mol]": 4.176143,
         "metal_linker": 9,
         "organic_linker1": 20,
         "organic_linker2": 22,
         "surface_area [m^2/g]": 2049,
         "topology": 8,
         "void_fraction": 0.31445,
         "void_volume [cm^3/g]": 0.3466,
         "volume [A^3]": 2152.79575,
         "weight [u]": 1176.3194
        },
        {
         "CO2/N2_selectivity": 4.950156641,
         "MOFname": "mof_unit_pretest_1973",
         "_deepnote_index_column": 1972,
         "functional_groups": 324,
         "heat_adsorption_CO2_P0.15bar_T298K [kcal/mol]": 3.655535,
         "metal_linker": 1,
         "organic_linker1": 12,
         "organic_linker2": 26,
         "surface_area [m^2/g]": 3729.5,
         "topology": 5,
         "void_fraction": 0.54396,
         "void_volume [cm^3/g]": 0.9444,
         "volume [A^3]": 3269.071988,
         "weight [u]": 1133.93876
        },
        {
         "CO2/N2_selectivity": 3.917811162,
         "MOFname": "mof_unit_pretest_1974",
         "_deepnote_index_column": 1973,
         "functional_groups": 65,
         "heat_adsorption_CO2_P0.15bar_T298K [kcal/mol]": 3.150682,
         "metal_linker": 3,
         "organic_linker1": 2,
         "organic_linker2": 20,
         "surface_area [m^2/g]": 4717.46,
         "topology": 5,
         "void_fraction": 0.6089600000000001,
         "void_volume [cm^3/g]": 1.3363,
         "volume [A^3]": 3006.176384,
         "weight [u]": 825.01828
        },
        {
         "CO2/N2_selectivity": 3.172814135,
         "MOFname": "mof_unit_pretest_1975",
         "_deepnote_index_column": 1974,
         "functional_groups": 115,
         "heat_adsorption_CO2_P0.15bar_T298K [kcal/mol]": 2.812587,
         "metal_linker": 3,
         "organic_linker1": 2,
         "organic_linker2": 19,
         "surface_area [m^2/g]": 5692.3,
         "topology": 4,
         "void_fraction": 0.77864,
         "void_volume [cm^3/g]": 3.1105,
         "volume [A^3]": 21562.291531,
         "weight [u]": 3250.49456
        },
        {
         "CO2/N2_selectivity": 3.496131512,
         "MOFname": "mof_unit_pretest_1976",
         "_deepnote_index_column": 1975,
         "functional_groups": 244,
         "heat_adsorption_CO2_P0.15bar_T298K [kcal/mol]": 3.182175,
         "metal_linker": 1,
         "organic_linker1": 6,
         "organic_linker2": 29,
         "surface_area [m^2/g]": 5291.59,
         "topology": 5,
         "void_fraction": 0.7075600000000001,
         "void_volume [cm^3/g]": 2.1249,
         "volume [A^3]": 39704.673429,
         "weight [u]": 7961.8072
        },
        {
         "CO2/N2_selectivity": 2.944529531,
         "MOFname": "mof_unit_pretest_1977",
         "_deepnote_index_column": 1976,
         "functional_groups": 116,
         "heat_adsorption_CO2_P0.15bar_T298K [kcal/mol]": 2.969951,
         "metal_linker": 3,
         "organic_linker1": 7,
         "organic_linker2": 28,
         "surface_area [m^2/g]": 4445.01,
         "topology": 4,
         "void_fraction": 0.8351799999999999,
         "void_volume [cm^3/g]": 3.4306,
         "volume [A^3]": 59361.86809,
         "weight [u]": 8703.04336
        },
        {
         "CO2/N2_selectivity": 13.97651127,
         "MOFname": "mof_unit_pretest_1978",
         "_deepnote_index_column": 1977,
         "functional_groups": 153,
         "heat_adsorption_CO2_P0.15bar_T298K [kcal/mol]": 5.2048,
         "metal_linker": 9,
         "organic_linker1": 5,
         "organic_linker2": 18,
         "surface_area [m^2/g]": 402.68,
         "topology": 8,
         "void_fraction": 0.1199,
         "void_volume [cm^3/g]": 0.0561,
         "volume [A^3]": 1896.579235,
         "weight [u]": 2443.1828800000003
        },
        {
         "CO2/N2_selectivity": 4.550306607,
         "MOFname": "mof_unit_pretest_1979",
         "_deepnote_index_column": 1978,
         "functional_groups": 152,
         "heat_adsorption_CO2_P0.15bar_T298K [kcal/mol]": 3.392249,
         "metal_linker": 2,
         "organic_linker1": 23,
         "organic_linker2": 25,
         "surface_area [m^2/g]": 5209.01,
         "topology": 5,
         "void_fraction": 0.61098,
         "void_volume [cm^3/g]": 1.3333,
         "volume [A^3]": 3701.623503,
         "weight [u]": 1021.53846
        },
        {
         "CO2/N2_selectivity": 4.182764434,
         "MOFname": "mof_unit_pretest_1980",
         "_deepnote_index_column": 1979,
         "functional_groups": 231,
         "heat_adsorption_CO2_P0.15bar_T298K [kcal/mol]": 3.130719,
         "metal_linker": 1,
         "organic_linker1": 7,
         "organic_linker2": 11,
         "surface_area [m^2/g]": 4566.39,
         "topology": 5,
         "void_fraction": 0.6372,
         "void_volume [cm^3/g]": 1.503,
         "volume [A^3]": 41553.835369,
         "weight [u]": 10609.14816
        },
        {
         "CO2/N2_selectivity": 7.467759126,
         "MOFname": "mof_unit_pretest_1981",
         "_deepnote_index_column": 1980,
         "functional_groups": 299,
         "heat_adsorption_CO2_P0.15bar_T298K [kcal/mol]": 3.904462,
         "metal_linker": 3,
         "organic_linker1": 1,
         "organic_linker2": 24,
         "surface_area [m^2/g]": 3455.05,
         "topology": 4,
         "void_fraction": 0.48578,
         "void_volume [cm^3/g]": 0.8126,
         "volume [A^3]": 5009.10834,
         "weight [u]": 1803.42572
        },
        {
         "CO2/N2_selectivity": 4.336663422,
         "MOFname": "mof_unit_pretest_1982",
         "_deepnote_index_column": 1981,
         "functional_groups": 130,
         "heat_adsorption_CO2_P0.15bar_T298K [kcal/mol]": 3.823728,
         "metal_linker": 2,
         "organic_linker1": 4,
         "organic_linker2": 25,
         "surface_area [m^2/g]": 4341.42,
         "topology": 4,
         "void_fraction": 0.58348,
         "void_volume [cm^3/g]": 1.2848,
         "volume [A^3]": 15128.142553,
         "weight [u]": 4137.329479999999
        },
        {
         "CO2/N2_selectivity": 4.543114694,
         "MOFname": "mof_unit_pretest_1983",
         "_deepnote_index_column": 1982,
         "functional_groups": 95,
         "heat_adsorption_CO2_P0.15bar_T298K [kcal/mol]": 3.405867,
         "metal_linker": 3,
         "organic_linker1": 6,
         "organic_linker2": 24,
         "surface_area [m^2/g]": 4766.59,
         "topology": 5,
         "void_fraction": 0.57685,
         "void_volume [cm^3/g]": 1.1955,
         "volume [A^3]": 2523.079793,
         "weight [u]": 733.162613
        },
        {
         "CO2/N2_selectivity": 3.262558028,
         "MOFname": "mof_unit_pretest_1984",
         "_deepnote_index_column": 1983,
         "functional_groups": 357,
         "heat_adsorption_CO2_P0.15bar_T298K [kcal/mol]": 2.271462,
         "metal_linker": 3,
         "organic_linker1": 20,
         "organic_linker2": 27,
         "surface_area [m^2/g]": 5016.07,
         "topology": 4,
         "void_fraction": 0.81412,
         "void_volume [cm^3/g]": 3.5121,
         "volume [A^3]": 33147.281373000005,
         "weight [u]": 4627.273279999999
        },
        {
         "CO2/N2_selectivity": 4.2331690680000005,
         "MOFname": "mof_unit_pretest_1985",
         "_deepnote_index_column": 1984,
         "functional_groups": 156,
         "heat_adsorption_CO2_P0.15bar_T298K [kcal/mol]": 3.82195,
         "metal_linker": 2,
         "organic_linker1": 7,
         "organic_linker2": 23,
         "surface_area [m^2/g]": 4285.06,
         "topology": 5,
         "void_fraction": 0.65747,
         "void_volume [cm^3/g]": 1.5257,
         "volume [A^3]": 4644.763969,
         "weight [u]": 1205.3456199999998
        },
        {
         "CO2/N2_selectivity": 5.174784895,
         "MOFname": "mof_unit_pretest_1986",
         "_deepnote_index_column": 1985,
         "functional_groups": 130,
         "heat_adsorption_CO2_P0.15bar_T298K [kcal/mol]": 3.828359,
         "metal_linker": 2,
         "organic_linker1": 11,
         "organic_linker2": 21,
         "surface_area [m^2/g]": 4083.96,
         "topology": 5,
         "void_fraction": 0.4933,
         "void_volume [cm^3/g]": 0.8449,
         "volume [A^3]": 1465.706508,
         "weight [u]": 515.37718
        },
        {
         "CO2/N2_selectivity": 3.499796625,
         "MOFname": "mof_unit_pretest_1987",
         "_deepnote_index_column": 1986,
         "functional_groups": 277,
         "heat_adsorption_CO2_P0.15bar_T298K [kcal/mol]": 3.060597,
         "metal_linker": 2,
         "organic_linker1": 4,
         "organic_linker2": 7,
         "surface_area [m^2/g]": 4343.96,
         "topology": 4,
         "void_fraction": 0.66498,
         "void_volume [cm^3/g]": 1.6981,
         "volume [A^3]": 16829.557642,
         "weight [u]": 3968.85808
        },
        {
         "CO2/N2_selectivity": 3.793509503,
         "MOFname": "mof_unit_pretest_1988",
         "_deepnote_index_column": 1987,
         "functional_groups": 270,
         "heat_adsorption_CO2_P0.15bar_T298K [kcal/mol]": 3.13701,
         "metal_linker": 3,
         "organic_linker1": 3,
         "organic_linker2": 4,
         "surface_area [m^2/g]": 4283.37,
         "topology": 4,
         "void_fraction": 0.7430899999999999,
         "void_volume [cm^3/g]": 2.2968,
         "volume [A^3]": 32689.292788,
         "weight [u]": 6368.96288
        },
        {
         "CO2/N2_selectivity": 6.175411193,
         "MOFname": "mof_unit_pretest_1989",
         "_deepnote_index_column": 1988,
         "functional_groups": 173,
         "heat_adsorption_CO2_P0.15bar_T298K [kcal/mol]": 3.942724,
         "metal_linker": 2,
         "organic_linker1": 17,
         "organic_linker2": 24,
         "surface_area [m^2/g]": 2578.92,
         "topology": 4,
         "void_fraction": 0.59846,
         "void_volume [cm^3/g]": 0.8794,
         "volume [A^3]": 19679.741412,
         "weight [u]": 8065.052159999999
        },
        {
         "CO2/N2_selectivity": 2.989103452,
         "MOFname": "mof_unit_pretest_1990",
         "_deepnote_index_column": 1989,
         "functional_groups": 152,
         "heat_adsorption_CO2_P0.15bar_T298K [kcal/mol]": 2.913185,
         "metal_linker": 3,
         "organic_linker1": 6,
         "organic_linker2": 29,
         "surface_area [m^2/g]": 5297.4,
         "topology": 5,
         "void_fraction": 0.7107,
         "void_volume [cm^3/g]": 2.0982,
         "volume [A^3]": 6625.148565,
         "weight [u]": 1351.38382
        },
        {
         "CO2/N2_selectivity": 6.23172012,
         "MOFname": "mof_unit_pretest_1991",
         "_deepnote_index_column": 1990,
         "functional_groups": 133,
         "heat_adsorption_CO2_P0.15bar_T298K [kcal/mol]": 3.4834120000000004,
         "metal_linker": 2,
         "organic_linker1": 34,
         "organic_linker2": 34,
         "surface_area [m^2/g]": 3893.19,
         "topology": 6,
         "void_fraction": 0.58838,
         "void_volume [cm^3/g]": 1.2232,
         "volume [A^3]": 8035.092122,
         "weight [u]": 2327.5434800000003
        },
        {
         "CO2/N2_selectivity": 3.629443169,
         "MOFname": "mof_unit_pretest_1992",
         "_deepnote_index_column": 1991,
         "functional_groups": 105,
         "heat_adsorption_CO2_P0.15bar_T298K [kcal/mol]": 3.066646,
         "metal_linker": 1,
         "organic_linker1": 8,
         "organic_linker2": 12,
         "surface_area [m^2/g]": 4460.46,
         "topology": 5,
         "void_fraction": 0.6792,
         "void_volume [cm^3/g]": 1.6132,
         "volume [A^3]": 9607.440531,
         "weight [u]": 2435.933803
        },
        {
         "CO2/N2_selectivity": 15.37722164,
         "MOFname": "mof_unit_pretest_1993",
         "_deepnote_index_column": 1992,
         "functional_groups": 109,
         "heat_adsorption_CO2_P0.15bar_T298K [kcal/mol]": 5.310767,
         "metal_linker": 10,
         "organic_linker1": 45,
         "organic_linker2": 51,
         "surface_area [m^2/g]": 515.9,
         "topology": 2,
         "void_fraction": 0.13582,
         "void_volume [cm^3/g]": 0.0914,
         "volume [A^3]": 2346.770472,
         "weight [u]": 2101.156667
        },
        {
         "CO2/N2_selectivity": 4.897691747,
         "MOFname": "mof_unit_pretest_1994",
         "_deepnote_index_column": 1993,
         "functional_groups": 171,
         "heat_adsorption_CO2_P0.15bar_T298K [kcal/mol]": 3.523423,
         "metal_linker": 3,
         "organic_linker1": 21,
         "organic_linker2": 26,
         "surface_area [m^2/g]": 3214.62,
         "topology": 5,
         "void_fraction": 0.52904,
         "void_volume [cm^3/g]": 0.7262,
         "volume [A^3]": 2965.451007,
         "weight [u]": 1300.89188
        },
        {
         "CO2/N2_selectivity": 4.369918633,
         "MOFname": "mof_unit_pretest_1995",
         "_deepnote_index_column": 1994,
         "functional_groups": 25,
         "heat_adsorption_CO2_P0.15bar_T298K [kcal/mol]": 2.851009,
         "metal_linker": 3,
         "organic_linker1": 21,
         "organic_linker2": 23,
         "surface_area [m^2/g]": 5404.89,
         "topology": 5,
         "void_fraction": 0.5885199999999999,
         "void_volume [cm^3/g]": 1.3018,
         "volume [A^3]": 2799.554047,
         "weight [u]": 762.164073
        },
        {
         "CO2/N2_selectivity": 4.778697788000001,
         "MOFname": "mof_unit_pretest_1996",
         "_deepnote_index_column": 1995,
         "functional_groups": 49,
         "heat_adsorption_CO2_P0.15bar_T298K [kcal/mol]": 3.675003,
         "metal_linker": 2,
         "organic_linker1": 1,
         "organic_linker2": 14,
         "surface_area [m^2/g]": 3630.31,
         "topology": 4,
         "void_fraction": 0.5898100000000001,
         "void_volume [cm^3/g]": 1.1504,
         "volume [A^3]": 5111.109714,
         "weight [u]": 1578.08222
        },
        {
         "CO2/N2_selectivity": 6.883387497999999,
         "MOFname": "mof_unit_pretest_1997",
         "_deepnote_index_column": 1996,
         "functional_groups": 26,
         "heat_adsorption_CO2_P0.15bar_T298K [kcal/mol]": 3.732121,
         "metal_linker": 2,
         "organic_linker1": 10,
         "organic_linker2": 20,
         "surface_area [m^2/g]": 2546.02,
         "topology": 5,
         "void_fraction": 0.36132,
         "void_volume [cm^3/g]": 0.412,
         "volume [A^3]": 911.269336,
         "weight [u]": 481.27968
        },
        {
         "CO2/N2_selectivity": 5.270734026,
         "MOFname": "mof_unit_pretest_1998",
         "_deepnote_index_column": 1997,
         "functional_groups": 143,
         "heat_adsorption_CO2_P0.15bar_T298K [kcal/mol]": 3.354425,
         "metal_linker": 2,
         "organic_linker1": 7,
         "organic_linker2": 20,
         "surface_area [m^2/g]": 4296.42,
         "topology": 5,
         "void_fraction": 0.6029800000000001,
         "void_volume [cm^3/g]": 1.3641,
         "volume [A^3]": 4236.596493999999,
         "weight [u]": 1127.7926
        },
        {
         "CO2/N2_selectivity": 3.172914376,
         "MOFname": "mof_unit_pretest_1999",
         "_deepnote_index_column": 1998,
         "functional_groups": 186,
         "heat_adsorption_CO2_P0.15bar_T298K [kcal/mol]": 2.643592,
         "metal_linker": 2,
         "organic_linker1": 6,
         "organic_linker2": 11,
         "surface_area [m^2/g]": 6252.01,
         "topology": 4,
         "void_fraction": 0.75732,
         "void_volume [cm^3/g]": 2.9852,
         "volume [A^3]": 22861.645381,
         "weight [u]": 3492.7127200000004
        },
        {
         "CO2/N2_selectivity": 9.704603731,
         "MOFname": "mof_unit_pretest_2000",
         "_deepnote_index_column": 1999,
         "functional_groups": 179,
         "heat_adsorption_CO2_P0.15bar_T298K [kcal/mol]": 7.289341999999999,
         "metal_linker": 10,
         "organic_linker1": 47,
         "organic_linker2": 50,
         "surface_area [m^2/g]": 0,
         "topology": 2,
         "void_fraction": 0.02102,
         "void_volume [cm^3/g]": 0.0144,
         "volume [A^3]": 1959.675947,
         "weight [u]": 1725.765236
        }
       ],
       "rows_top": [
        {
         "CO2/N2_selectivity": 14.04879074,
         "MOFname": "mof_unit_pretest_1",
         "_deepnote_index_column": 0,
         "functional_groups": 305,
         "heat_adsorption_CO2_P0.15bar_T298K [kcal/mol]": 5.604779,
         "metal_linker": 4,
         "organic_linker1": 7,
         "organic_linker2": 27,
         "surface_area [m^2/g]": 4148.48,
         "topology": 0,
         "void_fraction": 0.41225,
         "void_volume [cm^3/g]": 0.6872,
         "volume [A^3]": 6288.293858,
         "weight [u]": 2271.68714
        },
        {
         "CO2/N2_selectivity": 20.21722169,
         "MOFname": "mof_unit_pretest_2",
         "_deepnote_index_column": 1,
         "functional_groups": 149,
         "heat_adsorption_CO2_P0.15bar_T298K [kcal/mol]": 6.148776,
         "metal_linker": 2,
         "organic_linker1": 4,
         "organic_linker2": 26,
         "surface_area [m^2/g]": 2191.34,
         "topology": 5,
         "void_fraction": 0.3023099999999999,
         "void_volume [cm^3/g]": 0.3672,
         "volume [A^3]": 1790.506437,
         "weight [u]": 887.74732
        },
        {
         "CO2/N2_selectivity": 33.10866151,
         "MOFname": "mof_unit_pretest_3",
         "_deepnote_index_column": 2,
         "functional_groups": 371,
         "heat_adsorption_CO2_P0.15bar_T298K [kcal/mol]": 6.164397,
         "metal_linker": 3,
         "organic_linker1": 18,
         "organic_linker2": 22,
         "surface_area [m^2/g]": 2030.88,
         "topology": 5,
         "void_fraction": 0.28533,
         "void_volume [cm^3/g]": 0.3256,
         "volume [A^3]": 2348.969203,
         "weight [u]": 1239.7658800000002
        },
        {
         "CO2/N2_selectivity": 12.80056168,
         "MOFname": "mof_unit_pretest_4",
         "_deepnote_index_column": 3,
         "functional_groups": 91,
         "heat_adsorption_CO2_P0.15bar_T298K [kcal/mol]": 5.164957,
         "metal_linker": 2,
         "organic_linker1": 8,
         "organic_linker2": 15,
         "surface_area [m^2/g]": 3587.13,
         "topology": 5,
         "void_fraction": 0.41963,
         "void_volume [cm^3/g]": 0.6475,
         "volume [A^3]": 2941.571525,
         "weight [u]": 1147.9514
        },
        {
         "CO2/N2_selectivity": 23.39561652,
         "MOFname": "mof_unit_pretest_5",
         "_deepnote_index_column": 4,
         "functional_groups": 65,
         "heat_adsorption_CO2_P0.15bar_T298K [kcal/mol]": 7.090687,
         "metal_linker": 3,
         "organic_linker1": 10,
         "organic_linker2": 22,
         "surface_area [m^2/g]": 0,
         "topology": 5,
         "void_fraction": 0.0706,
         "void_volume [cm^3/g]": 0.0466,
         "volume [A^3]": 705.397601,
         "weight [u]": 643.27074
        },
        {
         "CO2/N2_selectivity": 49.25180982,
         "MOFname": "mof_unit_pretest_6",
         "_deepnote_index_column": 5,
         "functional_groups": 251,
         "heat_adsorption_CO2_P0.15bar_T298K [kcal/mol]": 7.334542999999999,
         "metal_linker": 9,
         "organic_linker1": 10,
         "organic_linker2": 28,
         "surface_area [m^2/g]": 1480.38,
         "topology": 8,
         "void_fraction": 0.20913,
         "void_volume [cm^3/g]": 0.221,
         "volume [A^3]": 2795.376504,
         "weight [u]": 1592.74518
        },
        {
         "CO2/N2_selectivity": 18.48760329,
         "MOFname": "mof_unit_pretest_7",
         "_deepnote_index_column": 6,
         "functional_groups": 65,
         "heat_adsorption_CO2_P0.15bar_T298K [kcal/mol]": 5.671204,
         "metal_linker": 3,
         "organic_linker1": 1,
         "organic_linker2": 18,
         "surface_area [m^2/g]": 1769.29,
         "topology": 5,
         "void_fraction": 0.28863,
         "void_volume [cm^3/g]": 0.2897,
         "volume [A^3]": 1493.202771,
         "weight [u]": 895.9242800000001
        },
        {
         "CO2/N2_selectivity": 13.97259895,
         "MOFname": "mof_unit_pretest_8",
         "_deepnote_index_column": 7,
         "functional_groups": 30,
         "heat_adsorption_CO2_P0.15bar_T298K [kcal/mol]": 5.274335,
         "metal_linker": 3,
         "organic_linker1": 16,
         "organic_linker2": 16,
         "surface_area [m^2/g]": 2734.28,
         "topology": 5,
         "void_fraction": 0.38902,
         "void_volume [cm^3/g]": 0.5434,
         "volume [A^3]": 4288.4052950000005,
         "weight [u]": 1848.99596
        },
        {
         "CO2/N2_selectivity": 10.29489266,
         "MOFname": "mof_unit_pretest_9",
         "_deepnote_index_column": 8,
         "functional_groups": 25,
         "heat_adsorption_CO2_P0.15bar_T298K [kcal/mol]": 5.064876,
         "metal_linker": 4,
         "organic_linker1": 3,
         "organic_linker2": 27,
         "surface_area [m^2/g]": 3985.18,
         "topology": 0,
         "void_fraction": 0.43976,
         "void_volume [cm^3/g]": 0.7731,
         "volume [A^3]": 6880.322139,
         "weight [u]": 2356.7782260000004
        },
        {
         "CO2/N2_selectivity": 72.74346069,
         "MOFname": "mof_unit_pretest_10",
         "_deepnote_index_column": 9,
         "functional_groups": 129,
         "heat_adsorption_CO2_P0.15bar_T298K [kcal/mol]": 7.425464,
         "metal_linker": 2,
         "organic_linker1": 10,
         "organic_linker2": 29,
         "surface_area [m^2/g]": 1426.86,
         "topology": 5,
         "void_fraction": 0.2068199999999999,
         "void_volume [cm^3/g]": 0.2121,
         "volume [A^3]": 1750.548457,
         "weight [u]": 1027.715
        },
        {
         "CO2/N2_selectivity": 35.17498629,
         "MOFname": "mof_unit_pretest_11",
         "_deepnote_index_column": 10,
         "functional_groups": 350,
         "heat_adsorption_CO2_P0.15bar_T298K [kcal/mol]": 6.726739,
         "metal_linker": 4,
         "organic_linker1": 6,
         "organic_linker2": 17,
         "surface_area [m^2/g]": 2213.81,
         "topology": 0,
         "void_fraction": 0.28601,
         "void_volume [cm^3/g]": 0.3604,
         "volume [A^3]": 4158.54216,
         "weight [u]": 1987.45176
        },
        {
         "CO2/N2_selectivity": 32.90207562,
         "MOFname": "mof_unit_pretest_12",
         "_deepnote_index_column": 11,
         "functional_groups": 320,
         "heat_adsorption_CO2_P0.15bar_T298K [kcal/mol]": 6.600984,
         "metal_linker": 4,
         "organic_linker1": 27,
         "organic_linker2": 27,
         "surface_area [m^2/g]": 1770.07,
         "topology": 0,
         "void_fraction": 0.2340199999999999,
         "void_volume [cm^3/g]": 0.2959,
         "volume [A^3]": 7354.202104000001,
         "weight [u]": 3502.94744
        },
        {
         "CO2/N2_selectivity": 14.18270662,
         "MOFname": "mof_unit_pretest_13",
         "_deepnote_index_column": 12,
         "functional_groups": 290,
         "heat_adsorption_CO2_P0.15bar_T298K [kcal/mol]": 5.996164,
         "metal_linker": 3,
         "organic_linker1": 9,
         "organic_linker2": 9,
         "surface_area [m^2/g]": 0,
         "topology": 4,
         "void_fraction": 0.24333,
         "void_volume [cm^3/g]": 0.2756,
         "volume [A^3]": 5067.83424,
         "weight [u]": 2694.70244
        },
        {
         "CO2/N2_selectivity": 64.13190702,
         "MOFname": "mof_unit_pretest_14",
         "_deepnote_index_column": 13,
         "functional_groups": 121,
         "heat_adsorption_CO2_P0.15bar_T298K [kcal/mol]": 7.544046000000001,
         "metal_linker": 4,
         "organic_linker1": 4,
         "organic_linker2": 11,
         "surface_area [m^2/g]": 645.62,
         "topology": 0,
         "void_fraction": 0.13293,
         "void_volume [cm^3/g]": 0.107,
         "volume [A^3]": 3930.439874,
         "weight [u]": 2941.622173
        },
        {
         "CO2/N2_selectivity": 165.80064319999997,
         "MOFname": "mof_unit_pretest_15",
         "_deepnote_index_column": 14,
         "functional_groups": 133,
         "heat_adsorption_CO2_P0.15bar_T298K [kcal/mol]": 8.819875,
         "metal_linker": 4,
         "organic_linker1": 14,
         "organic_linker2": 22,
         "surface_area [m^2/g]": 0,
         "topology": 0,
         "void_fraction": 0.0748,
         "void_volume [cm^3/g]": 0.0533,
         "volume [A^3]": 2004.557069,
         "weight [u]": 1695.0737800000002
        },
        {
         "CO2/N2_selectivity": 13.89850112,
         "MOFname": "mof_unit_pretest_16",
         "_deepnote_index_column": 15,
         "functional_groups": 59,
         "heat_adsorption_CO2_P0.15bar_T298K [kcal/mol]": 5.212527,
         "metal_linker": 3,
         "organic_linker1": 10,
         "organic_linker2": 23,
         "surface_area [m^2/g]": 1774.18,
         "topology": 5,
         "void_fraction": 0.2609599999999999,
         "void_volume [cm^3/g]": 0.2788,
         "volume [A^3]": 1043.078308,
         "weight [u]": 587.97836
        },
        {
         "CO2/N2_selectivity": 11.39964462,
         "MOFname": "mof_unit_pretest_17",
         "_deepnote_index_column": 16,
         "functional_groups": 202,
         "heat_adsorption_CO2_P0.15bar_T298K [kcal/mol]": 4.847198000000001,
         "metal_linker": 2,
         "organic_linker1": 11,
         "organic_linker2": 14,
         "surface_area [m^2/g]": 2536.87,
         "topology": 5,
         "void_fraction": 0.30959,
         "void_volume [cm^3/g]": 0.3688,
         "volume [A^3]": 1148.410429,
         "weight [u]": 580.49356
        },
        {
         "CO2/N2_selectivity": 11.00255867,
         "MOFname": "mof_unit_pretest_18",
         "_deepnote_index_column": 17,
         "functional_groups": 347,
         "heat_adsorption_CO2_P0.15bar_T298K [kcal/mol]": 5.209406,
         "metal_linker": 3,
         "organic_linker1": 18,
         "organic_linker2": 26,
         "surface_area [m^2/g]": 3712.31,
         "topology": 5,
         "void_fraction": 0.4831399999999999,
         "void_volume [cm^3/g]": 0.9375,
         "volume [A^3]": 3756.862488,
         "weight [u]": 1165.90236
        },
        {
         "CO2/N2_selectivity": 14.22726006,
         "MOFname": "mof_unit_pretest_19",
         "_deepnote_index_column": 18,
         "functional_groups": 85,
         "heat_adsorption_CO2_P0.15bar_T298K [kcal/mol]": 4.948911,
         "metal_linker": 2,
         "organic_linker1": 4,
         "organic_linker2": 29,
         "surface_area [m^2/g]": 3478.72,
         "topology": 5,
         "void_fraction": 0.4154199999999999,
         "void_volume [cm^3/g]": 0.6488,
         "volume [A^3]": 2873.520984,
         "weight [u]": 1107.9749800000002
        },
        {
         "CO2/N2_selectivity": 32.82573611,
         "MOFname": "mof_unit_pretest_20",
         "_deepnote_index_column": 19,
         "functional_groups": 371,
         "heat_adsorption_CO2_P0.15bar_T298K [kcal/mol]": 6.621175,
         "metal_linker": 3,
         "organic_linker1": 4,
         "organic_linker2": 7,
         "surface_area [m^2/g]": 1247.59,
         "topology": 5,
         "void_fraction": 0.21677,
         "void_volume [cm^3/g]": 0.1853,
         "volume [A^3]": 1821.909507,
         "weight [u]": 1283.711
        },
        {
         "CO2/N2_selectivity": 8.36419162,
         "MOFname": "mof_unit_pretest_21",
         "_deepnote_index_column": 20,
         "functional_groups": 229,
         "heat_adsorption_CO2_P0.15bar_T298K [kcal/mol]": 4.905192,
         "metal_linker": 3,
         "organic_linker1": 1,
         "organic_linker2": 28,
         "surface_area [m^2/g]": 3114.67,
         "topology": 5,
         "void_fraction": 0.4329199999999999,
         "void_volume [cm^3/g]": 0.6133,
         "volume [A^3]": 2492.1623050000003,
         "weight [u]": 1059.35664
        },
        {
         "CO2/N2_selectivity": 31.52642488,
         "MOFname": "mof_unit_pretest_22",
         "_deepnote_index_column": 21,
         "functional_groups": 259,
         "heat_adsorption_CO2_P0.15bar_T298K [kcal/mol]": 6.377837,
         "metal_linker": 2,
         "organic_linker1": 4,
         "organic_linker2": 13,
         "surface_area [m^2/g]": 1291.07,
         "topology": 5,
         "void_fraction": 0.20065,
         "void_volume [cm^3/g]": 0.2075,
         "volume [A^3]": 1347.684216,
         "weight [u]": 784.7154400000001
        },
        {
         "CO2/N2_selectivity": 33.87359855,
         "MOFname": "mof_unit_pretest_23",
         "_deepnote_index_column": 22,
         "functional_groups": 245,
         "heat_adsorption_CO2_P0.15bar_T298K [kcal/mol]": 6.402529,
         "metal_linker": 9,
         "organic_linker1": 2,
         "organic_linker2": 2,
         "surface_area [m^2/g]": 457.88,
         "topology": 8,
         "void_fraction": 0.12567,
         "void_volume [cm^3/g]": 0.1146,
         "volume [A^3]": 2264.969206,
         "weight [u]": 1495.88506
        },
        {
         "CO2/N2_selectivity": 17.45588102,
         "MOFname": "mof_unit_pretest_24",
         "_deepnote_index_column": 23,
         "functional_groups": 172,
         "heat_adsorption_CO2_P0.15bar_T298K [kcal/mol]": 5.835593,
         "metal_linker": 2,
         "organic_linker1": 14,
         "organic_linker2": 19,
         "surface_area [m^2/g]": 2353.16,
         "topology": 5,
         "void_fraction": 0.30135,
         "void_volume [cm^3/g]": 0.3541,
         "volume [A^3]": 1212.656776,
         "weight [u]": 621.5006599999999
        },
        {
         "CO2/N2_selectivity": 40.83383262,
         "MOFname": "mof_unit_pretest_25",
         "_deepnote_index_column": 24,
         "functional_groups": 375,
         "heat_adsorption_CO2_P0.15bar_T298K [kcal/mol]": 8.105341000000001,
         "metal_linker": 4,
         "organic_linker1": 1,
         "organic_linker2": 11,
         "surface_area [m^2/g]": 0,
         "topology": 0,
         "void_fraction": 0.0738,
         "void_volume [cm^3/g]": 0.0543,
         "volume [A^3]": 3993.131734000001,
         "weight [u]": 3266.17824
        },
        {
         "CO2/N2_selectivity": 47.83305961,
         "MOFname": "mof_unit_pretest_26",
         "_deepnote_index_column": 25,
         "functional_groups": 0,
         "heat_adsorption_CO2_P0.15bar_T298K [kcal/mol]": 6.679682000000001,
         "metal_linker": 9,
         "organic_linker1": 18,
         "organic_linker2": 19,
         "surface_area [m^2/g]": 1032.36,
         "topology": 8,
         "void_fraction": 0.20059,
         "void_volume [cm^3/g]": 0.1633,
         "volume [A^3]": 2432.756583,
         "weight [u]": 1799.63768
        },
        {
         "CO2/N2_selectivity": 13.02054117,
         "MOFname": "mof_unit_pretest_27",
         "_deepnote_index_column": 26,
         "functional_groups": 115,
         "heat_adsorption_CO2_P0.15bar_T298K [kcal/mol]": 5.577853,
         "metal_linker": 9,
         "organic_linker1": 4,
         "organic_linker2": 11,
         "surface_area [m^2/g]": 1497.16,
         "topology": 8,
         "void_fraction": 0.25654,
         "void_volume [cm^3/g]": 0.2587,
         "volume [A^3]": 1638.493106,
         "weight [u]": 978.31388
        },
        {
         "CO2/N2_selectivity": 16.26037363,
         "MOFname": "mof_unit_pretest_28",
         "_deepnote_index_column": 27,
         "functional_groups": 95,
         "heat_adsorption_CO2_P0.15bar_T298K [kcal/mol]": 5.46802,
         "metal_linker": 3,
         "organic_linker1": 4,
         "organic_linker2": 16,
         "surface_area [m^2/g]": 1740.33,
         "topology": 5,
         "void_fraction": 0.26968,
         "void_volume [cm^3/g]": 0.2973,
         "volume [A^3]": 1298.343461,
         "weight [u]": 709.260263
        },
        {
         "CO2/N2_selectivity": 11.75062397,
         "MOFname": "mof_unit_pretest_29",
         "_deepnote_index_column": 28,
         "functional_groups": 200,
         "heat_adsorption_CO2_P0.15bar_T298K [kcal/mol]": 4.967974,
         "metal_linker": 3,
         "organic_linker1": 14,
         "organic_linker2": 27,
         "surface_area [m^2/g]": 2712.76,
         "topology": 5,
         "void_fraction": 0.3867,
         "void_volume [cm^3/g]": 0.537,
         "volume [A^3]": 2002.451074,
         "weight [u]": 868.3934199999999
        },
        {
         "CO2/N2_selectivity": 17.95802711,
         "MOFname": "mof_unit_pretest_30",
         "_deepnote_index_column": 29,
         "functional_groups": 165,
         "heat_adsorption_CO2_P0.15bar_T298K [kcal/mol]": 6.072034,
         "metal_linker": 2,
         "organic_linker1": 4,
         "organic_linker2": 18,
         "surface_area [m^2/g]": 1482.66,
         "topology": 5,
         "void_fraction": 0.22557,
         "void_volume [cm^3/g]": 0.2191,
         "volume [A^3]": 1534.629101,
         "weight [u]": 951.66213
        },
        {
         "CO2/N2_selectivity": 25.39120983,
         "MOFname": "mof_unit_pretest_31",
         "_deepnote_index_column": 30,
         "functional_groups": 172,
         "heat_adsorption_CO2_P0.15bar_T298K [kcal/mol]": 5.803627,
         "metal_linker": 12,
         "organic_linker1": 1,
         "organic_linker2": 10,
         "surface_area [m^2/g]": 2540.58,
         "topology": 1,
         "void_fraction": 0.31956,
         "void_volume [cm^3/g]": 0.3931,
         "volume [A^3]": 2033.553469,
         "weight [u]": 995.58428
        },
        {
         "CO2/N2_selectivity": 12.4541596,
         "MOFname": "mof_unit_pretest_32",
         "_deepnote_index_column": 31,
         "functional_groups": 54,
         "heat_adsorption_CO2_P0.15bar_T298K [kcal/mol]": 4.956232,
         "metal_linker": 2,
         "organic_linker1": 24,
         "organic_linker2": 29,
         "surface_area [m^2/g]": 3117.28,
         "topology": 5,
         "void_fraction": 0.36578,
         "void_volume [cm^3/g]": 0.5096,
         "volume [A^3]": 2776.2598350000003,
         "weight [u]": 1199.98268
        },
        {
         "CO2/N2_selectivity": 19.18901518,
         "MOFname": "mof_unit_pretest_33",
         "_deepnote_index_column": 32,
         "functional_groups": 163,
         "heat_adsorption_CO2_P0.15bar_T298K [kcal/mol]": 6.3690370000000005,
         "metal_linker": 2,
         "organic_linker1": 5,
         "organic_linker2": 13,
         "surface_area [m^2/g]": 791.22,
         "topology": 5,
         "void_fraction": 0.17359,
         "void_volume [cm^3/g]": 0.1217,
         "volume [A^3]": 920.860707,
         "weight [u]": 791.1949400000001
        },
        {
         "CO2/N2_selectivity": 12.9285465,
         "MOFname": "mof_unit_pretest_34",
         "_deepnote_index_column": 33,
         "functional_groups": 299,
         "heat_adsorption_CO2_P0.15bar_T298K [kcal/mol]": 5.32066,
         "metal_linker": 3,
         "organic_linker1": 25,
         "organic_linker2": 27,
         "surface_area [m^2/g]": 4701.36,
         "topology": 5,
         "void_fraction": 0.4900899999999999,
         "void_volume [cm^3/g]": 1.0379,
         "volume [A^3]": 4529.021154,
         "weight [u]": 1287.85344
        },
        {
         "CO2/N2_selectivity": 27.13887544,
         "MOFname": "mof_unit_pretest_35",
         "_deepnote_index_column": 34,
         "functional_groups": 276,
         "heat_adsorption_CO2_P0.15bar_T298K [kcal/mol]": 6.894887,
         "metal_linker": 9,
         "organic_linker1": 5,
         "organic_linker2": 24,
         "surface_area [m^2/g]": 0,
         "topology": 8,
         "void_fraction": 0.09917,
         "void_volume [cm^3/g]": 0.0809,
         "volume [A^3]": 1348.618265,
         "weight [u]": 996.19844
        },
        {
         "CO2/N2_selectivity": 17.46808633,
         "MOFname": "mof_unit_pretest_36",
         "_deepnote_index_column": 35,
         "functional_groups": 139,
         "heat_adsorption_CO2_P0.15bar_T298K [kcal/mol]": 5.769334,
         "metal_linker": 3,
         "organic_linker1": 10,
         "organic_linker2": 11,
         "surface_area [m^2/g]": 1210.82,
         "topology": 5,
         "void_fraction": 0.21938,
         "void_volume [cm^3/g]": 0.1905,
         "volume [A^3]": 704.9624269999999,
         "weight [u]": 488.949783
        },
        {
         "CO2/N2_selectivity": 25.36073055,
         "MOFname": "mof_unit_pretest_37",
         "_deepnote_index_column": 36,
         "functional_groups": 206,
         "heat_adsorption_CO2_P0.15bar_T298K [kcal/mol]": 6.365133,
         "metal_linker": 10,
         "organic_linker1": 50,
         "organic_linker2": 57,
         "surface_area [m^2/g]": 511.79,
         "topology": 2,
         "void_fraction": 0.10188,
         "void_volume [cm^3/g]": 0.0728,
         "volume [A^3]": 2345.350561,
         "weight [u]": 1976.672576
        },
        {
         "CO2/N2_selectivity": 12.51165092,
         "MOFname": "mof_unit_pretest_38",
         "_deepnote_index_column": 37,
         "functional_groups": 193,
         "heat_adsorption_CO2_P0.15bar_T298K [kcal/mol]": 4.724266,
         "metal_linker": 12,
         "organic_linker1": 1,
         "organic_linker2": 22,
         "surface_area [m^2/g]": 2450.29,
         "topology": 1,
         "void_fraction": 0.36068,
         "void_volume [cm^3/g]": 0.4336,
         "volume [A^3]": 5140.2653740000005,
         "weight [u]": 2575.1096
        }
       ]
      },
      "text/html": [
       "<div>\n",
       "<style scoped>\n",
       "    .dataframe tbody tr th:only-of-type {\n",
       "        vertical-align: middle;\n",
       "    }\n",
       "\n",
       "    .dataframe tbody tr th {\n",
       "        vertical-align: top;\n",
       "    }\n",
       "\n",
       "    .dataframe thead th {\n",
       "        text-align: right;\n",
       "    }\n",
       "</style>\n",
       "<table border=\"1\" class=\"dataframe\">\n",
       "  <thead>\n",
       "    <tr style=\"text-align: right;\">\n",
       "      <th></th>\n",
       "      <th>MOFname</th>\n",
       "      <th>volume [A^3]</th>\n",
       "      <th>weight [u]</th>\n",
       "      <th>surface_area [m^2/g]</th>\n",
       "      <th>void_fraction</th>\n",
       "      <th>void_volume [cm^3/g]</th>\n",
       "      <th>functional_groups</th>\n",
       "      <th>metal_linker</th>\n",
       "      <th>organic_linker1</th>\n",
       "      <th>organic_linker2</th>\n",
       "      <th>topology</th>\n",
       "      <th>CO2/N2_selectivity</th>\n",
       "      <th>heat_adsorption_CO2_P0.15bar_T298K [kcal/mol]</th>\n",
       "    </tr>\n",
       "  </thead>\n",
       "  <tbody>\n",
       "    <tr>\n",
       "      <th>0</th>\n",
       "      <td>mof_unit_pretest_1</td>\n",
       "      <td>6288.293858</td>\n",
       "      <td>2271.687140</td>\n",
       "      <td>4148.48</td>\n",
       "      <td>0.41225</td>\n",
       "      <td>0.6872</td>\n",
       "      <td>305</td>\n",
       "      <td>4</td>\n",
       "      <td>7</td>\n",
       "      <td>27</td>\n",
       "      <td>0</td>\n",
       "      <td>14.04879074</td>\n",
       "      <td>5.604779</td>\n",
       "    </tr>\n",
       "    <tr>\n",
       "      <th>1</th>\n",
       "      <td>mof_unit_pretest_2</td>\n",
       "      <td>1790.506437</td>\n",
       "      <td>887.747320</td>\n",
       "      <td>2191.34</td>\n",
       "      <td>0.30231</td>\n",
       "      <td>0.3672</td>\n",
       "      <td>149</td>\n",
       "      <td>2</td>\n",
       "      <td>4</td>\n",
       "      <td>26</td>\n",
       "      <td>5</td>\n",
       "      <td>20.21722169</td>\n",
       "      <td>6.148776</td>\n",
       "    </tr>\n",
       "    <tr>\n",
       "      <th>2</th>\n",
       "      <td>mof_unit_pretest_3</td>\n",
       "      <td>2348.969203</td>\n",
       "      <td>1239.765880</td>\n",
       "      <td>2030.88</td>\n",
       "      <td>0.28533</td>\n",
       "      <td>0.3256</td>\n",
       "      <td>371</td>\n",
       "      <td>3</td>\n",
       "      <td>18</td>\n",
       "      <td>22</td>\n",
       "      <td>5</td>\n",
       "      <td>33.10866151</td>\n",
       "      <td>6.164397</td>\n",
       "    </tr>\n",
       "    <tr>\n",
       "      <th>3</th>\n",
       "      <td>mof_unit_pretest_4</td>\n",
       "      <td>2941.571525</td>\n",
       "      <td>1147.951400</td>\n",
       "      <td>3587.13</td>\n",
       "      <td>0.41963</td>\n",
       "      <td>0.6475</td>\n",
       "      <td>91</td>\n",
       "      <td>2</td>\n",
       "      <td>8</td>\n",
       "      <td>15</td>\n",
       "      <td>5</td>\n",
       "      <td>12.80056168</td>\n",
       "      <td>5.164957</td>\n",
       "    </tr>\n",
       "    <tr>\n",
       "      <th>4</th>\n",
       "      <td>mof_unit_pretest_5</td>\n",
       "      <td>705.397601</td>\n",
       "      <td>643.270740</td>\n",
       "      <td>0.00</td>\n",
       "      <td>0.07060</td>\n",
       "      <td>0.0466</td>\n",
       "      <td>65</td>\n",
       "      <td>3</td>\n",
       "      <td>10</td>\n",
       "      <td>22</td>\n",
       "      <td>5</td>\n",
       "      <td>23.39561652</td>\n",
       "      <td>7.090687</td>\n",
       "    </tr>\n",
       "    <tr>\n",
       "      <th>...</th>\n",
       "      <td>...</td>\n",
       "      <td>...</td>\n",
       "      <td>...</td>\n",
       "      <td>...</td>\n",
       "      <td>...</td>\n",
       "      <td>...</td>\n",
       "      <td>...</td>\n",
       "      <td>...</td>\n",
       "      <td>...</td>\n",
       "      <td>...</td>\n",
       "      <td>...</td>\n",
       "      <td>...</td>\n",
       "      <td>...</td>\n",
       "    </tr>\n",
       "    <tr>\n",
       "      <th>1995</th>\n",
       "      <td>mof_unit_pretest_1996</td>\n",
       "      <td>5111.109714</td>\n",
       "      <td>1578.082220</td>\n",
       "      <td>3630.31</td>\n",
       "      <td>0.58981</td>\n",
       "      <td>1.1504</td>\n",
       "      <td>49</td>\n",
       "      <td>2</td>\n",
       "      <td>1</td>\n",
       "      <td>14</td>\n",
       "      <td>4</td>\n",
       "      <td>4.77869779</td>\n",
       "      <td>3.675003</td>\n",
       "    </tr>\n",
       "    <tr>\n",
       "      <th>1996</th>\n",
       "      <td>mof_unit_pretest_1997</td>\n",
       "      <td>911.269336</td>\n",
       "      <td>481.279680</td>\n",
       "      <td>2546.02</td>\n",
       "      <td>0.36132</td>\n",
       "      <td>0.4120</td>\n",
       "      <td>26</td>\n",
       "      <td>2</td>\n",
       "      <td>10</td>\n",
       "      <td>20</td>\n",
       "      <td>5</td>\n",
       "      <td>6.88338750</td>\n",
       "      <td>3.732121</td>\n",
       "    </tr>\n",
       "    <tr>\n",
       "      <th>1997</th>\n",
       "      <td>mof_unit_pretest_1998</td>\n",
       "      <td>4236.596494</td>\n",
       "      <td>1127.792600</td>\n",
       "      <td>4296.42</td>\n",
       "      <td>0.60298</td>\n",
       "      <td>1.3641</td>\n",
       "      <td>143</td>\n",
       "      <td>2</td>\n",
       "      <td>7</td>\n",
       "      <td>20</td>\n",
       "      <td>5</td>\n",
       "      <td>5.27073403</td>\n",
       "      <td>3.354425</td>\n",
       "    </tr>\n",
       "    <tr>\n",
       "      <th>1998</th>\n",
       "      <td>mof_unit_pretest_1999</td>\n",
       "      <td>22861.645381</td>\n",
       "      <td>3492.712720</td>\n",
       "      <td>6252.01</td>\n",
       "      <td>0.75732</td>\n",
       "      <td>2.9852</td>\n",
       "      <td>186</td>\n",
       "      <td>2</td>\n",
       "      <td>6</td>\n",
       "      <td>11</td>\n",
       "      <td>4</td>\n",
       "      <td>3.17291438</td>\n",
       "      <td>2.643592</td>\n",
       "    </tr>\n",
       "    <tr>\n",
       "      <th>1999</th>\n",
       "      <td>mof_unit_pretest_2000</td>\n",
       "      <td>1959.675947</td>\n",
       "      <td>1725.765236</td>\n",
       "      <td>0.00</td>\n",
       "      <td>0.02102</td>\n",
       "      <td>0.0144</td>\n",
       "      <td>179</td>\n",
       "      <td>10</td>\n",
       "      <td>47</td>\n",
       "      <td>50</td>\n",
       "      <td>2</td>\n",
       "      <td>9.70460373</td>\n",
       "      <td>7.289342</td>\n",
       "    </tr>\n",
       "  </tbody>\n",
       "</table>\n",
       "<p>2000 rows × 13 columns</p>\n",
       "</div>"
      ],
      "text/plain": [
       "                    MOFname  volume [A^3]   weight [u]  surface_area [m^2/g]  \\\n",
       "0        mof_unit_pretest_1   6288.293858  2271.687140               4148.48   \n",
       "1        mof_unit_pretest_2   1790.506437   887.747320               2191.34   \n",
       "2        mof_unit_pretest_3   2348.969203  1239.765880               2030.88   \n",
       "3        mof_unit_pretest_4   2941.571525  1147.951400               3587.13   \n",
       "4        mof_unit_pretest_5    705.397601   643.270740                  0.00   \n",
       "...                     ...           ...          ...                   ...   \n",
       "1995  mof_unit_pretest_1996   5111.109714  1578.082220               3630.31   \n",
       "1996  mof_unit_pretest_1997    911.269336   481.279680               2546.02   \n",
       "1997  mof_unit_pretest_1998   4236.596494  1127.792600               4296.42   \n",
       "1998  mof_unit_pretest_1999  22861.645381  3492.712720               6252.01   \n",
       "1999  mof_unit_pretest_2000   1959.675947  1725.765236                  0.00   \n",
       "\n",
       "      void_fraction  void_volume [cm^3/g]  functional_groups  metal_linker  \\\n",
       "0           0.41225                0.6872                305             4   \n",
       "1           0.30231                0.3672                149             2   \n",
       "2           0.28533                0.3256                371             3   \n",
       "3           0.41963                0.6475                 91             2   \n",
       "4           0.07060                0.0466                 65             3   \n",
       "...             ...                   ...                ...           ...   \n",
       "1995        0.58981                1.1504                 49             2   \n",
       "1996        0.36132                0.4120                 26             2   \n",
       "1997        0.60298                1.3641                143             2   \n",
       "1998        0.75732                2.9852                186             2   \n",
       "1999        0.02102                0.0144                179            10   \n",
       "\n",
       "      organic_linker1  organic_linker2  topology  CO2/N2_selectivity  \\\n",
       "0                   7               27         0         14.04879074   \n",
       "1                   4               26         5         20.21722169   \n",
       "2                  18               22         5         33.10866151   \n",
       "3                   8               15         5         12.80056168   \n",
       "4                  10               22         5         23.39561652   \n",
       "...               ...              ...       ...                 ...   \n",
       "1995                1               14         4          4.77869779   \n",
       "1996               10               20         5          6.88338750   \n",
       "1997                7               20         5          5.27073403   \n",
       "1998                6               11         4          3.17291438   \n",
       "1999               47               50         2          9.70460373   \n",
       "\n",
       "      heat_adsorption_CO2_P0.15bar_T298K [kcal/mol]  \n",
       "0                                          5.604779  \n",
       "1                                          6.148776  \n",
       "2                                          6.164397  \n",
       "3                                          5.164957  \n",
       "4                                          7.090687  \n",
       "...                                             ...  \n",
       "1995                                       3.675003  \n",
       "1996                                       3.732121  \n",
       "1997                                       3.354425  \n",
       "1998                                       2.643592  \n",
       "1999                                       7.289342  \n",
       "\n",
       "[2000 rows x 13 columns]"
      ]
     },
     "execution_count": 23,
     "metadata": {},
     "output_type": "execute_result"
    }
   ],
   "source": [
    "pretest"
   ]
  },
  {
   "cell_type": "markdown",
   "metadata": {
    "cell_id": "00064-c3d9ffcb-9efc-4378-aac6-4bbe16cfd4f5",
    "deepnote_cell_type": "markdown",
    "tags": []
   },
   "source": [
    "### Let's predict and create a submission file\n",
    "\n",
    "Join the [Codalab competition](https://competitions.codalab.org/competitions/34540) for this course!\n",
    "\n",
    "Create a `submission.csv` with your predictions to join the competition and upload it to the competition site."
   ]
  },
  {
   "cell_type": "code",
   "execution_count": null,
   "metadata": {
    "cell_id": "00065-9df320e3-5077-48e9-a233-00b42eced7f1",
    "deepnote_cell_type": "code",
    "deepnote_to_be_reexecuted": false,
    "execution_millis": 151,
    "execution_start": 1633172226899,
    "source_hash": "e4bd47fb",
    "tags": []
   },
   "outputs": [
    {
     "data": {
      "text/plain": [
       "array([[ 73.82591 ],\n",
       "       [126.64194 ],\n",
       "       [200.3367  ],\n",
       "       ...,\n",
       "       [ 42.292492],\n",
       "       [ 48.924824],\n",
       "       [ 49.931744]], dtype=float32)"
      ]
     },
     "execution_count": 24,
     "metadata": {},
     "output_type": "execute_result"
    }
   ],
   "source": [
    "pretest_pred = model.predict(pretest.iloc[:, [1,2,3,4,5,7,8,9,11,12]])\n",
    "pretest_pred"
   ]
  },
  {
   "cell_type": "markdown",
   "metadata": {
    "created_in_deepnote_cell": true,
    "deepnote_cell_type": "markdown",
    "tags": []
   },
   "source": [
    "<a style='text-decoration:none;line-height:16px;display:flex;color:#5B5B62;padding:10px;justify-content:end;' href='https://deepnote.com?utm_source=created-in-deepnote-cell&projectId=71f6eb72-f79d-4dec-bd79-97456fb0fc4e' target=\"_blank\">\n",
    "<img alt='Created in deepnote.com' style='display:inline;max-height:16px;margin:0px;margin-right:7.5px;' src='data:image/svg+xml;base64,PD94bWwgdmVyc2lvbj0iMS4wIiBlbmNvZGluZz0iVVRGLTgiPz4KPHN2ZyB3aWR0aD0iODBweCIgaGVpZ2h0PSI4MHB4IiB2aWV3Qm94PSIwIDAgODAgODAiIHZlcnNpb249IjEuMSIgeG1sbnM9Imh0dHA6Ly93d3cudzMub3JnLzIwMDAvc3ZnIiB4bWxuczp4bGluaz0iaHR0cDovL3d3dy53My5vcmcvMTk5OS94bGluayI+CiAgICA8IS0tIEdlbmVyYXRvcjogU2tldGNoIDU0LjEgKDc2NDkwKSAtIGh0dHBzOi8vc2tldGNoYXBwLmNvbSAtLT4KICAgIDx0aXRsZT5Hcm91cCAzPC90aXRsZT4KICAgIDxkZXNjPkNyZWF0ZWQgd2l0aCBTa2V0Y2guPC9kZXNjPgogICAgPGcgaWQ9IkxhbmRpbmciIHN0cm9rZT0ibm9uZSIgc3Ryb2tlLXdpZHRoPSIxIiBmaWxsPSJub25lIiBmaWxsLXJ1bGU9ImV2ZW5vZGQiPgogICAgICAgIDxnIGlkPSJBcnRib2FyZCIgdHJhbnNmb3JtPSJ0cmFuc2xhdGUoLTEyMzUuMDAwMDAwLCAtNzkuMDAwMDAwKSI+CiAgICAgICAgICAgIDxnIGlkPSJHcm91cC0zIiB0cmFuc2Zvcm09InRyYW5zbGF0ZSgxMjM1LjAwMDAwMCwgNzkuMDAwMDAwKSI+CiAgICAgICAgICAgICAgICA8cG9seWdvbiBpZD0iUGF0aC0yMCIgZmlsbD0iIzAyNjVCNCIgcG9pbnRzPSIyLjM3NjIzNzYyIDgwIDM4LjA0NzY2NjcgODAgNTcuODIxNzgyMiA3My44MDU3NTkyIDU3LjgyMTc4MjIgMzIuNzU5MjczOSAzOS4xNDAyMjc4IDMxLjY4MzE2ODMiPjwvcG9seWdvbj4KICAgICAgICAgICAgICAgIDxwYXRoIGQ9Ik0zNS4wMDc3MTgsODAgQzQyLjkwNjIwMDcsNzYuNDU0OTM1OCA0Ny41NjQ5MTY3LDcxLjU0MjI2NzEgNDguOTgzODY2LDY1LjI2MTk5MzkgQzUxLjExMjI4OTksNTUuODQxNTg0MiA0MS42NzcxNzk1LDQ5LjIxMjIyODQgMjUuNjIzOTg0Niw0OS4yMTIyMjg0IEMyNS40ODQ5Mjg5LDQ5LjEyNjg0NDggMjkuODI2MTI5Niw0My4yODM4MjQ4IDM4LjY0NzU4NjksMzEuNjgzMTY4MyBMNzIuODcxMjg3MSwzMi41NTQ0MjUgTDY1LjI4MDk3Myw2Ny42NzYzNDIxIEw1MS4xMTIyODk5LDc3LjM3NjE0NCBMMzUuMDA3NzE4LDgwIFoiIGlkPSJQYXRoLTIyIiBmaWxsPSIjMDAyODY4Ij48L3BhdGg+CiAgICAgICAgICAgICAgICA8cGF0aCBkPSJNMCwzNy43MzA0NDA1IEwyNy4xMTQ1MzcsMC4yNTcxMTE0MzYgQzYyLjM3MTUxMjMsLTEuOTkwNzE3MDEgODAsMTAuNTAwMzkyNyA4MCwzNy43MzA0NDA1IEM4MCw2NC45NjA0ODgyIDY0Ljc3NjUwMzgsNzkuMDUwMzQxNCAzNC4zMjk1MTEzLDgwIEM0Ny4wNTUzNDg5LDc3LjU2NzA4MDggNTMuNDE4MjY3Nyw3MC4zMTM2MTAzIDUzLjQxODI2NzcsNTguMjM5NTg4NSBDNTMuNDE4MjY3Nyw0MC4xMjg1NTU3IDM2LjMwMzk1NDQsMzcuNzMwNDQwNSAyNS4yMjc0MTcsMzcuNzMwNDQwNSBDMTcuODQzMDU4NiwzNy43MzA0NDA1IDkuNDMzOTE5NjYsMzcuNzMwNDQwNSAwLDM3LjczMDQ0MDUgWiIgaWQ9IlBhdGgtMTkiIGZpbGw9IiMzNzkzRUYiPjwvcGF0aD4KICAgICAgICAgICAgPC9nPgogICAgICAgIDwvZz4KICAgIDwvZz4KPC9zdmc+' > </img>\n",
    "Created in <span style='font-weight:600;margin-left:4px;'>Deepnote</span></a>"
   ]
  }
 ],
 "metadata": {
  "colab": {
   "authorship_tag": "ABX9TyPN8k7TffsssTOVwMWzWg57",
   "collapsed_sections": [],
   "name": "linear-regression.ipynb",
   "provenance": [],
   "toc_visible": true
  },
  "deepnote": {},
  "deepnote_execution_queue": [],
  "deepnote_notebook_id": "1d6c0e40-73ec-4d79-a0ae-a5df93a98852",
  "kernelspec": {
   "display_name": "Python 3",
   "language": "python",
   "name": "python3"
  },
  "language_info": {
   "codemirror_mode": {
    "name": "ipython",
    "version": 3
   },
   "file_extension": ".py",
   "mimetype": "text/x-python",
   "name": "python",
   "nbconvert_exporter": "python",
   "pygments_lexer": "ipython3",
   "version": "3.7.10"
  }
 },
 "nbformat": 4,
 "nbformat_minor": 4
}
