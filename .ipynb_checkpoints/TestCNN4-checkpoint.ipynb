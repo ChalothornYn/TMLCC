{
 "cells": [
  {
   "cell_type": "code",
   "execution_count": 1,
   "id": "737908b8",
   "metadata": {},
   "outputs": [],
   "source": [
    "import numpy as np\n",
    "\n",
    "import pandas as pd\n",
    "from pandas import read_csv\n",
    "\n",
    "from matplotlib import pyplot as plt\n",
    "\n",
    "from scipy.stats import zscore\n",
    "from sklearn.model_selection import train_test_split"
   ]
  },
  {
   "cell_type": "markdown",
   "id": "cd3ce540",
   "metadata": {},
   "source": [
    "# Load Data"
   ]
  },
  {
   "cell_type": "code",
   "execution_count": 2,
   "id": "0240f2d7",
   "metadata": {},
   "outputs": [],
   "source": [
    "df = read_csv('data_ss.csv')"
   ]
  },
  {
   "cell_type": "code",
   "execution_count": 3,
   "id": "0292ab27",
   "metadata": {
    "scrolled": true
   },
   "outputs": [
    {
     "name": "stdout",
     "output_type": "stream",
     "text": [
      "<class 'pandas.core.frame.DataFrame'>\n",
      "RangeIndex: 54074 entries, 0 to 54073\n",
      "Data columns (total 27 columns):\n",
      " #   Column                       Non-Null Count  Dtype  \n",
      "---  ------                       --------------  -----  \n",
      " 0   CO2_working_capacity         54074 non-null  float64\n",
      " 1   CO2/N2_selectivity           54074 non-null  float64\n",
      " 2   heat_adsorption_CO2          54074 non-null  float64\n",
      " 3   density                      54074 non-null  float64\n",
      " 4   surface_area                 54074 non-null  float64\n",
      " 5   void_fraction                54074 non-null  float64\n",
      " 6   void_volume                  54074 non-null  float64\n",
      " 7   og1_linker_RB                54074 non-null  int64  \n",
      " 8   og1_linker_nTripleBond       54074 non-null  int64  \n",
      " 9   og1_linker_nSingleBond       54074 non-null  int64  \n",
      " 10  og2_linker_nTripleBond       54074 non-null  int64  \n",
      " 11  og2_linker_cLogP             54074 non-null  float64\n",
      " 12  og2_linker_AP                54074 non-null  float64\n",
      " 13  og2_linker_atomInRingsRatio  54074 non-null  float64\n",
      " 14  og2_linker_nAromaticBond     54074 non-null  int64  \n",
      " 15  functional_groups            54074 non-null  object \n",
      " 16  topology                     54074 non-null  object \n",
      " 17  bcu                          54074 non-null  int64  \n",
      " 18  etb                          54074 non-null  int64  \n",
      " 19  fof                          54074 non-null  int64  \n",
      " 20  nbo                          54074 non-null  int64  \n",
      " 21  pcu                          54074 non-null  int64  \n",
      " 22  pts                          54074 non-null  int64  \n",
      " 23  rht                          54074 non-null  int64  \n",
      " 24  sra                          54074 non-null  int64  \n",
      " 25  tbo                          54074 non-null  int64  \n",
      " 26  the                          54074 non-null  int64  \n",
      "dtypes: float64(10), int64(15), object(2)\n",
      "memory usage: 11.1+ MB\n"
     ]
    }
   ],
   "source": [
    "df.info()"
   ]
  },
  {
   "cell_type": "code",
   "execution_count": 4,
   "id": "31b38e6b",
   "metadata": {},
   "outputs": [
    {
     "name": "stdout",
     "output_type": "stream",
     "text": [
      "<class 'pandas.core.frame.DataFrame'>\n",
      "RangeIndex: 54074 entries, 0 to 54073\n",
      "Data columns (total 15 columns):\n",
      " #   Column                       Non-Null Count  Dtype  \n",
      "---  ------                       --------------  -----  \n",
      " 0   CO2_working_capacity         54074 non-null  float64\n",
      " 1   CO2/N2_selectivity           54074 non-null  float64\n",
      " 2   heat_adsorption_CO2          54074 non-null  float64\n",
      " 3   density                      54074 non-null  float64\n",
      " 4   surface_area                 54074 non-null  float64\n",
      " 5   void_fraction                54074 non-null  float64\n",
      " 6   void_volume                  54074 non-null  float64\n",
      " 7   og1_linker_RB                54074 non-null  int64  \n",
      " 8   og1_linker_nTripleBond       54074 non-null  int64  \n",
      " 9   og1_linker_nSingleBond       54074 non-null  int64  \n",
      " 10  og2_linker_nTripleBond       54074 non-null  int64  \n",
      " 11  og2_linker_cLogP             54074 non-null  float64\n",
      " 12  og2_linker_AP                54074 non-null  float64\n",
      " 13  og2_linker_atomInRingsRatio  54074 non-null  float64\n",
      " 14  og2_linker_nAromaticBond     54074 non-null  int64  \n",
      "dtypes: float64(10), int64(5)\n",
      "memory usage: 6.2 MB\n"
     ]
    }
   ],
   "source": [
    "df_train = df.drop(['functional_groups', 'topology'], axis = 1)\n",
    "# df_train.info()\n",
    "\n",
    "# drop topology one-hot\n",
    "df_train = df_train.drop(df_train.columns[15:], axis = 1)\n",
    "df_train.info()"
   ]
  },
  {
   "cell_type": "code",
   "execution_count": 5,
   "id": "85638adf",
   "metadata": {},
   "outputs": [],
   "source": [
    "X = df_train.drop('CO2_working_capacity', axis = 1)\n",
    "y = df_train['CO2_working_capacity'].values"
   ]
  },
  {
   "cell_type": "code",
   "execution_count": 6,
   "id": "393567de",
   "metadata": {},
   "outputs": [],
   "source": [
    "X_train, X_test, y_train, y_test = train_test_split(X, y, test_size=0.2, random_state=42)"
   ]
  },
  {
   "cell_type": "code",
   "execution_count": 7,
   "id": "e0035f4b",
   "metadata": {},
   "outputs": [
    {
     "data": {
      "text/html": [
       "<div>\n",
       "<style scoped>\n",
       "    .dataframe tbody tr th:only-of-type {\n",
       "        vertical-align: middle;\n",
       "    }\n",
       "\n",
       "    .dataframe tbody tr th {\n",
       "        vertical-align: top;\n",
       "    }\n",
       "\n",
       "    .dataframe thead th {\n",
       "        text-align: right;\n",
       "    }\n",
       "</style>\n",
       "<table border=\"1\" class=\"dataframe\">\n",
       "  <thead>\n",
       "    <tr style=\"text-align: right;\">\n",
       "      <th></th>\n",
       "      <th>CO2_working_capacity</th>\n",
       "      <th>CO2/N2_selectivity</th>\n",
       "      <th>heat_adsorption_CO2</th>\n",
       "      <th>density</th>\n",
       "      <th>surface_area</th>\n",
       "      <th>void_fraction</th>\n",
       "      <th>void_volume</th>\n",
       "      <th>og1_linker_RB</th>\n",
       "      <th>og1_linker_nTripleBond</th>\n",
       "      <th>og1_linker_nSingleBond</th>\n",
       "      <th>og2_linker_nTripleBond</th>\n",
       "      <th>og2_linker_cLogP</th>\n",
       "      <th>og2_linker_AP</th>\n",
       "      <th>og2_linker_atomInRingsRatio</th>\n",
       "      <th>og2_linker_nAromaticBond</th>\n",
       "    </tr>\n",
       "  </thead>\n",
       "  <tbody>\n",
       "    <tr>\n",
       "      <th>23912</th>\n",
       "      <td>130.462802</td>\n",
       "      <td>13.646863</td>\n",
       "      <td>5.545981</td>\n",
       "      <td>0.721259</td>\n",
       "      <td>2727.99</td>\n",
       "      <td>0.35561</td>\n",
       "      <td>0.4930</td>\n",
       "      <td>0</td>\n",
       "      <td>0</td>\n",
       "      <td>3</td>\n",
       "      <td>0</td>\n",
       "      <td>2.44018</td>\n",
       "      <td>1.000000</td>\n",
       "      <td>1.000000</td>\n",
       "      <td>11</td>\n",
       "    </tr>\n",
       "    <tr>\n",
       "      <th>52440</th>\n",
       "      <td>12.107044</td>\n",
       "      <td>17.267465</td>\n",
       "      <td>5.044852</td>\n",
       "      <td>1.228662</td>\n",
       "      <td>1140.54</td>\n",
       "      <td>0.27981</td>\n",
       "      <td>0.2277</td>\n",
       "      <td>0</td>\n",
       "      <td>2</td>\n",
       "      <td>14</td>\n",
       "      <td>2</td>\n",
       "      <td>0.90398</td>\n",
       "      <td>0.000000</td>\n",
       "      <td>0.666667</td>\n",
       "      <td>0</td>\n",
       "    </tr>\n",
       "    <tr>\n",
       "      <th>45289</th>\n",
       "      <td>148.457962</td>\n",
       "      <td>19.424196</td>\n",
       "      <td>5.534532</td>\n",
       "      <td>0.917302</td>\n",
       "      <td>1688.07</td>\n",
       "      <td>0.29359</td>\n",
       "      <td>0.3201</td>\n",
       "      <td>0</td>\n",
       "      <td>0</td>\n",
       "      <td>0</td>\n",
       "      <td>0</td>\n",
       "      <td>4.74658</td>\n",
       "      <td>1.000000</td>\n",
       "      <td>1.000000</td>\n",
       "      <td>21</td>\n",
       "    </tr>\n",
       "    <tr>\n",
       "      <th>5815</th>\n",
       "      <td>230.429033</td>\n",
       "      <td>54.673990</td>\n",
       "      <td>7.442451</td>\n",
       "      <td>1.399875</td>\n",
       "      <td>927.85</td>\n",
       "      <td>0.18238</td>\n",
       "      <td>0.1303</td>\n",
       "      <td>1</td>\n",
       "      <td>0</td>\n",
       "      <td>1</td>\n",
       "      <td>0</td>\n",
       "      <td>2.44018</td>\n",
       "      <td>1.000000</td>\n",
       "      <td>1.000000</td>\n",
       "      <td>11</td>\n",
       "    </tr>\n",
       "    <tr>\n",
       "      <th>7</th>\n",
       "      <td>59.739057</td>\n",
       "      <td>10.999299</td>\n",
       "      <td>5.539327</td>\n",
       "      <td>0.623834</td>\n",
       "      <td>3276.11</td>\n",
       "      <td>0.41004</td>\n",
       "      <td>0.6573</td>\n",
       "      <td>0</td>\n",
       "      <td>0</td>\n",
       "      <td>0</td>\n",
       "      <td>0</td>\n",
       "      <td>6.93878</td>\n",
       "      <td>0.761905</td>\n",
       "      <td>0.904762</td>\n",
       "      <td>36</td>\n",
       "    </tr>\n",
       "    <tr>\n",
       "      <th>...</th>\n",
       "      <td>...</td>\n",
       "      <td>...</td>\n",
       "      <td>...</td>\n",
       "      <td>...</td>\n",
       "      <td>...</td>\n",
       "      <td>...</td>\n",
       "      <td>...</td>\n",
       "      <td>...</td>\n",
       "      <td>...</td>\n",
       "      <td>...</td>\n",
       "      <td>...</td>\n",
       "      <td>...</td>\n",
       "      <td>...</td>\n",
       "      <td>...</td>\n",
       "      <td>...</td>\n",
       "    </tr>\n",
       "    <tr>\n",
       "      <th>11284</th>\n",
       "      <td>121.783077</td>\n",
       "      <td>27.256049</td>\n",
       "      <td>5.940989</td>\n",
       "      <td>1.579951</td>\n",
       "      <td>1031.34</td>\n",
       "      <td>0.21327</td>\n",
       "      <td>0.1350</td>\n",
       "      <td>0</td>\n",
       "      <td>1</td>\n",
       "      <td>0</td>\n",
       "      <td>0</td>\n",
       "      <td>2.44018</td>\n",
       "      <td>1.000000</td>\n",
       "      <td>1.000000</td>\n",
       "      <td>11</td>\n",
       "    </tr>\n",
       "    <tr>\n",
       "      <th>44732</th>\n",
       "      <td>202.940651</td>\n",
       "      <td>40.418769</td>\n",
       "      <td>6.861470</td>\n",
       "      <td>1.559030</td>\n",
       "      <td>630.97</td>\n",
       "      <td>0.15121</td>\n",
       "      <td>0.0970</td>\n",
       "      <td>0</td>\n",
       "      <td>0</td>\n",
       "      <td>0</td>\n",
       "      <td>0</td>\n",
       "      <td>3.59338</td>\n",
       "      <td>1.000000</td>\n",
       "      <td>1.000000</td>\n",
       "      <td>16</td>\n",
       "    </tr>\n",
       "    <tr>\n",
       "      <th>38158</th>\n",
       "      <td>81.033106</td>\n",
       "      <td>18.374829</td>\n",
       "      <td>5.657585</td>\n",
       "      <td>0.824344</td>\n",
       "      <td>1997.11</td>\n",
       "      <td>0.27535</td>\n",
       "      <td>0.3340</td>\n",
       "      <td>0</td>\n",
       "      <td>0</td>\n",
       "      <td>3</td>\n",
       "      <td>0</td>\n",
       "      <td>3.45738</td>\n",
       "      <td>0.857143</td>\n",
       "      <td>0.857143</td>\n",
       "      <td>12</td>\n",
       "    </tr>\n",
       "    <tr>\n",
       "      <th>860</th>\n",
       "      <td>68.297946</td>\n",
       "      <td>13.670052</td>\n",
       "      <td>4.964187</td>\n",
       "      <td>0.697246</td>\n",
       "      <td>2950.88</td>\n",
       "      <td>0.37112</td>\n",
       "      <td>0.5323</td>\n",
       "      <td>0</td>\n",
       "      <td>0</td>\n",
       "      <td>0</td>\n",
       "      <td>0</td>\n",
       "      <td>4.18438</td>\n",
       "      <td>1.000000</td>\n",
       "      <td>1.000000</td>\n",
       "      <td>19</td>\n",
       "    </tr>\n",
       "    <tr>\n",
       "      <th>15795</th>\n",
       "      <td>81.752345</td>\n",
       "      <td>20.770237</td>\n",
       "      <td>5.688366</td>\n",
       "      <td>0.919483</td>\n",
       "      <td>1963.14</td>\n",
       "      <td>0.31930</td>\n",
       "      <td>0.3473</td>\n",
       "      <td>0</td>\n",
       "      <td>0</td>\n",
       "      <td>9</td>\n",
       "      <td>0</td>\n",
       "      <td>6.93878</td>\n",
       "      <td>0.761905</td>\n",
       "      <td>0.904762</td>\n",
       "      <td>36</td>\n",
       "    </tr>\n",
       "  </tbody>\n",
       "</table>\n",
       "<p>43259 rows × 15 columns</p>\n",
       "</div>"
      ],
      "text/plain": [
       "       CO2_working_capacity  CO2/N2_selectivity  heat_adsorption_CO2  \\\n",
       "23912            130.462802           13.646863             5.545981   \n",
       "52440             12.107044           17.267465             5.044852   \n",
       "45289            148.457962           19.424196             5.534532   \n",
       "5815             230.429033           54.673990             7.442451   \n",
       "7                 59.739057           10.999299             5.539327   \n",
       "...                     ...                 ...                  ...   \n",
       "11284            121.783077           27.256049             5.940989   \n",
       "44732            202.940651           40.418769             6.861470   \n",
       "38158             81.033106           18.374829             5.657585   \n",
       "860               68.297946           13.670052             4.964187   \n",
       "15795             81.752345           20.770237             5.688366   \n",
       "\n",
       "        density  surface_area  void_fraction  void_volume  og1_linker_RB  \\\n",
       "23912  0.721259       2727.99        0.35561       0.4930              0   \n",
       "52440  1.228662       1140.54        0.27981       0.2277              0   \n",
       "45289  0.917302       1688.07        0.29359       0.3201              0   \n",
       "5815   1.399875        927.85        0.18238       0.1303              1   \n",
       "7      0.623834       3276.11        0.41004       0.6573              0   \n",
       "...         ...           ...            ...          ...            ...   \n",
       "11284  1.579951       1031.34        0.21327       0.1350              0   \n",
       "44732  1.559030        630.97        0.15121       0.0970              0   \n",
       "38158  0.824344       1997.11        0.27535       0.3340              0   \n",
       "860    0.697246       2950.88        0.37112       0.5323              0   \n",
       "15795  0.919483       1963.14        0.31930       0.3473              0   \n",
       "\n",
       "       og1_linker_nTripleBond  og1_linker_nSingleBond  og2_linker_nTripleBond  \\\n",
       "23912                       0                       3                       0   \n",
       "52440                       2                      14                       2   \n",
       "45289                       0                       0                       0   \n",
       "5815                        0                       1                       0   \n",
       "7                           0                       0                       0   \n",
       "...                       ...                     ...                     ...   \n",
       "11284                       1                       0                       0   \n",
       "44732                       0                       0                       0   \n",
       "38158                       0                       3                       0   \n",
       "860                         0                       0                       0   \n",
       "15795                       0                       9                       0   \n",
       "\n",
       "       og2_linker_cLogP  og2_linker_AP  og2_linker_atomInRingsRatio  \\\n",
       "23912           2.44018       1.000000                     1.000000   \n",
       "52440           0.90398       0.000000                     0.666667   \n",
       "45289           4.74658       1.000000                     1.000000   \n",
       "5815            2.44018       1.000000                     1.000000   \n",
       "7               6.93878       0.761905                     0.904762   \n",
       "...                 ...            ...                          ...   \n",
       "11284           2.44018       1.000000                     1.000000   \n",
       "44732           3.59338       1.000000                     1.000000   \n",
       "38158           3.45738       0.857143                     0.857143   \n",
       "860             4.18438       1.000000                     1.000000   \n",
       "15795           6.93878       0.761905                     0.904762   \n",
       "\n",
       "       og2_linker_nAromaticBond  \n",
       "23912                        11  \n",
       "52440                         0  \n",
       "45289                        21  \n",
       "5815                         11  \n",
       "7                            36  \n",
       "...                         ...  \n",
       "11284                        11  \n",
       "44732                        16  \n",
       "38158                        12  \n",
       "860                          19  \n",
       "15795                        36  \n",
       "\n",
       "[43259 rows x 15 columns]"
      ]
     },
     "execution_count": 7,
     "metadata": {},
     "output_type": "execute_result"
    }
   ],
   "source": [
    "X_train"
   ]
  },
  {
   "cell_type": "markdown",
   "id": "a0f36955",
   "metadata": {},
   "source": [
    "# DNN Model"
   ]
  },
  {
   "cell_type": "code",
   "execution_count": 8,
   "id": "992f5fe6",
   "metadata": {},
   "outputs": [],
   "source": [
    "import tensorflow as tf\n",
    "from tensorflow.keras.models import Sequential\n",
    "from tensorflow.keras.layers import Dense, Activation, Dropout\n",
    "from tensorflow.keras.callbacks import EarlyStopping\n",
    "from tensorflow.keras.callbacks import ModelCheckpoint\n",
    "\n",
    "from sklearn import preprocessing"
   ]
  },
  {
   "cell_type": "code",
   "execution_count": 9,
   "id": "ae4e112a",
   "metadata": {},
   "outputs": [
    {
     "name": "stdout",
     "output_type": "stream",
     "text": [
      "[[1.1088902e+02 2.1472874e+01 5.6240263e+00 8.9619809e-01 2.1126626e+03\n",
      "  3.0800247e-01 4.5871526e-01 3.7240788e-01 1.8715158e-01 1.5273124e+00\n",
      "  4.1170660e-01 2.8978281e+00 5.5856055e-01 7.8140241e-01 1.1603384e+01]]\n"
     ]
    }
   ],
   "source": [
    "normalizer = tf.keras.layers.Normalization(axis=-1)\n",
    "normalizer.adapt(np.array(X_train))\n",
    "print(normalizer.mean.numpy())"
   ]
  },
  {
   "cell_type": "code",
   "execution_count": 10,
   "id": "dbdc4ea5",
   "metadata": {},
   "outputs": [],
   "source": [
    "def build_and_compile_model(norm):\n",
    "  model = Sequential([\n",
    "      norm,\n",
    "      Dense(64, activation='relu'),\n",
    "      Dense(64, activation='relu'),\n",
    "      Dense(64, activation='relu'),\n",
    "      Dense(64, activation='relu'),\n",
    "      Dropout(0.2),\n",
    "      Dense(1)\n",
    "  ])\n",
    "\n",
    "  model.compile(loss='mean_absolute_error',\n",
    "                optimizer=tf.keras.optimizers.Adam(0.001))\n",
    "  return model"
   ]
  },
  {
   "cell_type": "code",
   "execution_count": 11,
   "id": "f467e62a",
   "metadata": {
    "scrolled": true
   },
   "outputs": [
    {
     "name": "stdout",
     "output_type": "stream",
     "text": [
      "Model: \"sequential\"\n",
      "_________________________________________________________________\n",
      "Layer (type)                 Output Shape              Param #   \n",
      "=================================================================\n",
      "normalization (Normalization (None, 15)                31        \n",
      "_________________________________________________________________\n",
      "dense (Dense)                (None, 64)                1024      \n",
      "_________________________________________________________________\n",
      "dense_1 (Dense)              (None, 64)                4160      \n",
      "_________________________________________________________________\n",
      "dense_2 (Dense)              (None, 64)                4160      \n",
      "_________________________________________________________________\n",
      "dense_3 (Dense)              (None, 64)                4160      \n",
      "_________________________________________________________________\n",
      "dropout (Dropout)            (None, 64)                0         \n",
      "_________________________________________________________________\n",
      "dense_4 (Dense)              (None, 1)                 65        \n",
      "=================================================================\n",
      "Total params: 13,600\n",
      "Trainable params: 13,569\n",
      "Non-trainable params: 31\n",
      "_________________________________________________________________\n"
     ]
    }
   ],
   "source": [
    "dnn_model = build_and_compile_model(normalizer)\n",
    "dnn_model.summary()\n",
    "\n",
    "monitor = EarlyStopping(monitor='val_loss', min_delta=0, patience=15, verbose=1, mode='auto', restore_best_weights=True)"
   ]
  },
  {
   "cell_type": "code",
   "execution_count": 12,
   "id": "5229657f",
   "metadata": {},
   "outputs": [
    {
     "name": "stdout",
     "output_type": "stream",
     "text": [
      "Epoch 1/30\n",
      "1082/1082 [==============================] - 6s 4ms/step - loss: 17.8662 - val_loss: 4.7964\n",
      "Epoch 2/30\n",
      "1082/1082 [==============================] - 4s 4ms/step - loss: 10.2429 - val_loss: 3.4638\n",
      "Epoch 3/30\n",
      "1082/1082 [==============================] - 4s 4ms/step - loss: 9.8885 - val_loss: 2.5860\n",
      "Epoch 4/30\n",
      "1082/1082 [==============================] - 4s 4ms/step - loss: 9.8044 - val_loss: 2.9768\n",
      "Epoch 5/30\n",
      "1082/1082 [==============================] - 4s 4ms/step - loss: 9.7570 - val_loss: 4.1802\n",
      "Epoch 6/30\n",
      "1082/1082 [==============================] - 4s 4ms/step - loss: 9.7586 - val_loss: 2.0189\n",
      "Epoch 7/30\n",
      "1082/1082 [==============================] - 4s 4ms/step - loss: 9.6428 - val_loss: 4.6192\n",
      "Epoch 8/30\n",
      "1082/1082 [==============================] - 4s 4ms/step - loss: 9.5238 - val_loss: 2.6611\n",
      "Epoch 9/30\n",
      "1082/1082 [==============================] - 4s 4ms/step - loss: 9.5911 - val_loss: 3.3526\n",
      "Epoch 10/30\n",
      "1082/1082 [==============================] - 4s 4ms/step - loss: 9.4951 - val_loss: 1.7489\n",
      "Epoch 11/30\n",
      "1082/1082 [==============================] - 4s 4ms/step - loss: 9.4875 - val_loss: 2.3350\n",
      "Epoch 12/30\n",
      "1082/1082 [==============================] - 4s 4ms/step - loss: 9.4677 - val_loss: 2.9604\n",
      "Epoch 13/30\n",
      "1082/1082 [==============================] - 4s 4ms/step - loss: 9.4522 - val_loss: 2.5403\n",
      "Epoch 14/30\n",
      "1082/1082 [==============================] - 4s 4ms/step - loss: 9.2680 - val_loss: 6.1001\n",
      "Epoch 15/30\n",
      "1082/1082 [==============================] - 4s 4ms/step - loss: 9.3238 - val_loss: 3.7330\n",
      "Epoch 16/30\n",
      "1082/1082 [==============================] - 4s 4ms/step - loss: 9.3192 - val_loss: 2.0116\n",
      "Epoch 17/30\n",
      "1082/1082 [==============================] - 4s 4ms/step - loss: 9.3069 - val_loss: 2.2101\n",
      "Epoch 18/30\n",
      "1082/1082 [==============================] - 4s 4ms/step - loss: 9.2815 - val_loss: 1.3381\n",
      "Epoch 19/30\n",
      "1082/1082 [==============================] - 4s 4ms/step - loss: 9.1606 - val_loss: 3.5053\n",
      "Epoch 20/30\n",
      "1082/1082 [==============================] - 4s 4ms/step - loss: 9.1714 - val_loss: 5.5490\n",
      "Epoch 21/30\n",
      "1082/1082 [==============================] - 4s 4ms/step - loss: 9.1784 - val_loss: 5.1542\n",
      "Epoch 22/30\n",
      "1082/1082 [==============================] - 4s 4ms/step - loss: 9.0609 - val_loss: 3.7877\n",
      "Epoch 23/30\n",
      "1082/1082 [==============================] - 4s 4ms/step - loss: 9.0658 - val_loss: 4.7489\n",
      "Epoch 24/30\n",
      "1082/1082 [==============================] - 4s 4ms/step - loss: 8.9996 - val_loss: 7.0971\n",
      "Epoch 25/30\n",
      "1082/1082 [==============================] - 4s 4ms/step - loss: 9.0687 - val_loss: 1.2240\n",
      "Epoch 26/30\n",
      "1082/1082 [==============================] - 4s 4ms/step - loss: 8.9001 - val_loss: 2.8879\n",
      "Epoch 27/30\n",
      "1082/1082 [==============================] - 4s 3ms/step - loss: 8.9001 - val_loss: 2.4047\n",
      "Epoch 28/30\n",
      "1082/1082 [==============================] - 4s 4ms/step - loss: 8.9165 - val_loss: 2.4022\n",
      "Epoch 29/30\n",
      "1082/1082 [==============================] - 4s 4ms/step - loss: 8.8343 - val_loss: 3.1851\n",
      "Epoch 30/30\n",
      "1082/1082 [==============================] - 4s 4ms/step - loss: 8.9137 - val_loss: 1.1521\n"
     ]
    }
   ],
   "source": [
    "history = dnn_model.fit(X_train,  y_train, validation_split = 0.2, epochs=30, callbacks=[monitor])"
   ]
  },
  {
   "cell_type": "code",
   "execution_count": 13,
   "id": "2edef817",
   "metadata": {},
   "outputs": [
    {
     "data": {
      "text/plain": [
       "[<matplotlib.lines.Line2D at 0x16410968948>]"
      ]
     },
     "execution_count": 13,
     "metadata": {},
     "output_type": "execute_result"
    },
    {
     "data": {
      "image/png": "[encoded data removed]",
      "text/plain": [
       "<Figure size 432x288 with 1 Axes>"
      ]
     },
     "metadata": {
      "needs_background": "light"
     },
     "output_type": "display_data"
    }
   ],
   "source": [
    "history_dict = history.history\n",
    "loss_values = history_dict['loss']\n",
    "val_loss_values = history_dict['val_loss']\n",
    "plt.plot(loss_values, 'b', label='training loss')\n",
    "plt.plot(val_loss_values, 'r', label='val training loss')"
   ]
  },
  {
   "cell_type": "code",
   "execution_count": 14,
   "id": "05383403",
   "metadata": {},
   "outputs": [],
   "source": [
    "y_train_pred = dnn_model.predict(X_train)\n",
    "y_test_pred = dnn_model.predict(X_test)"
   ]
  },
  {
   "cell_type": "code",
   "execution_count": 35,
   "id": "2121dabb",
   "metadata": {
    "scrolled": true
   },
   "outputs": [
    {
     "data": {
      "text/html": [
       "<div>\n",
       "<style scoped>\n",
       "    .dataframe tbody tr th:only-of-type {\n",
       "        vertical-align: middle;\n",
       "    }\n",
       "\n",
       "    .dataframe tbody tr th {\n",
       "        vertical-align: top;\n",
       "    }\n",
       "\n",
       "    .dataframe thead th {\n",
       "        text-align: right;\n",
       "    }\n",
       "</style>\n",
       "<table border=\"1\" class=\"dataframe\">\n",
       "  <thead>\n",
       "    <tr style=\"text-align: right;\">\n",
       "      <th></th>\n",
       "      <th>real</th>\n",
       "      <th>predicted</th>\n",
       "    </tr>\n",
       "  </thead>\n",
       "  <tbody>\n",
       "    <tr>\n",
       "      <th>0</th>\n",
       "      <td>143.151576</td>\n",
       "      <td>139.953049</td>\n",
       "    </tr>\n",
       "    <tr>\n",
       "      <th>1</th>\n",
       "      <td>62.808160</td>\n",
       "      <td>64.455376</td>\n",
       "    </tr>\n",
       "    <tr>\n",
       "      <th>2</th>\n",
       "      <td>-4.046852</td>\n",
       "      <td>-2.199294</td>\n",
       "    </tr>\n",
       "    <tr>\n",
       "      <th>3</th>\n",
       "      <td>-6.129127</td>\n",
       "      <td>-4.985468</td>\n",
       "    </tr>\n",
       "    <tr>\n",
       "      <th>4</th>\n",
       "      <td>66.724601</td>\n",
       "      <td>64.734680</td>\n",
       "    </tr>\n",
       "    <tr>\n",
       "      <th>5</th>\n",
       "      <td>61.675735</td>\n",
       "      <td>61.886395</td>\n",
       "    </tr>\n",
       "    <tr>\n",
       "      <th>6</th>\n",
       "      <td>99.334318</td>\n",
       "      <td>100.730057</td>\n",
       "    </tr>\n",
       "    <tr>\n",
       "      <th>7</th>\n",
       "      <td>248.853061</td>\n",
       "      <td>246.204544</td>\n",
       "    </tr>\n",
       "    <tr>\n",
       "      <th>8</th>\n",
       "      <td>124.596147</td>\n",
       "      <td>124.945778</td>\n",
       "    </tr>\n",
       "    <tr>\n",
       "      <th>9</th>\n",
       "      <td>72.819227</td>\n",
       "      <td>73.322441</td>\n",
       "    </tr>\n",
       "  </tbody>\n",
       "</table>\n",
       "</div>"
      ],
      "text/plain": [
       "         real   predicted\n",
       "0  143.151576  139.953049\n",
       "1   62.808160   64.455376\n",
       "2   -4.046852   -2.199294\n",
       "3   -6.129127   -4.985468\n",
       "4   66.724601   64.734680\n",
       "5   61.675735   61.886395\n",
       "6   99.334318  100.730057\n",
       "7  248.853061  246.204544\n",
       "8  124.596147  124.945778\n",
       "9   72.819227   73.322441"
      ]
     },
     "execution_count": 35,
     "metadata": {},
     "output_type": "execute_result"
    }
   ],
   "source": [
    "num = 10\n",
    "real = y_test[:num]\n",
    "predicted = [y_test_pred[i][0] for i in range(0,num)]\n",
    "  \n",
    "dict = { \n",
    "    'real': real,\n",
    "    'predicted': predicted\n",
    "}\n",
    "    \n",
    "predict = pd.DataFrame(dict)\n",
    "\n",
    "predict"
   ]
  },
  {
   "cell_type": "code",
   "execution_count": 36,
   "id": "6db0270f",
   "metadata": {
    "scrolled": false
   },
   "outputs": [],
   "source": [
    "# mse_neural, mae_neural = dnn_model.evaluate(X_test, y_test)\n",
    "# print('MSE from neural net: ', mse_neural)\n",
    "# print('MAE from neural net: ', mae_neural)"
   ]
  },
  {
   "cell_type": "code",
   "execution_count": 17,
   "id": "13d90688",
   "metadata": {},
   "outputs": [
    {
     "name": "stdout",
     "output_type": "stream",
     "text": [
      "338/338 [==============================] - 1s 2ms/step - loss: 1.1311\n"
     ]
    },
    {
     "data": {
      "text/plain": [
       "1.1310585737228394"
      ]
     },
     "execution_count": 17,
     "metadata": {},
     "output_type": "execute_result"
    }
   ],
   "source": [
    "dnn_model.evaluate(X_test, y_test)"
   ]
  },
  {
   "cell_type": "code",
   "execution_count": null,
   "id": "408f7e5a",
   "metadata": {},
   "outputs": [],
   "source": [
    "# test_results = {}\n",
    "# test_results['dnn_model'] = dnn_model.evaluate(X_test, y_test, verbose=0)"
   ]
  },
  {
   "cell_type": "code",
   "execution_count": null,
   "id": "ed144c38",
   "metadata": {},
   "outputs": [],
   "source": [
    "# test_results"
   ]
  },
  {
   "cell_type": "markdown",
   "id": "a01f90bd",
   "metadata": {},
   "source": [
    "# Submission"
   ]
  },
  {
   "cell_type": "code",
   "execution_count": null,
   "id": "f540a893",
   "metadata": {},
   "outputs": [],
   "source": []
  },
  {
   "cell_type": "code",
   "execution_count": null,
   "id": "391f722d",
   "metadata": {},
   "outputs": [],
   "source": []
  },
  {
   "cell_type": "code",
   "execution_count": null,
   "id": "79397dd4",
   "metadata": {},
   "outputs": [],
   "source": []
  },
  {
   "cell_type": "code",
   "execution_count": null,
   "id": "199ebc97",
   "metadata": {},
   "outputs": [],
   "source": []
  },
  {
   "cell_type": "code",
   "execution_count": null,
   "id": "44e004ed",
   "metadata": {},
   "outputs": [],
   "source": []
  }
 ],
 "metadata": {
  "kernelspec": {
   "display_name": "TMLCC",
   "language": "python",
   "name": "tmlcc"
  },
  "language_info": {
   "codemirror_mode": {
    "name": "ipython",
    "version": 3
   },
   "file_extension": ".py",
   "mimetype": "text/x-python",
   "name": "python",
   "nbconvert_exporter": "python",
   "pygments_lexer": "ipython3",
   "version": "3.7.9"
  }
 },
 "nbformat": 4,
 "nbformat_minor": 5
}
