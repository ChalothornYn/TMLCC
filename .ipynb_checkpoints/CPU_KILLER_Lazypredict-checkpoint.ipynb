{
 "cells": [
  {
   "cell_type": "code",
   "execution_count": 7,
   "id": "ffc266e1",
   "metadata": {},
   "outputs": [],
   "source": [
    "import numpy as np\n",
    "\n",
    "import pandas as pd\n",
    "from pandas import read_csv\n",
    "\n",
    "from sklearn.model_selection import train_test_split"
   ]
  },
  {
   "cell_type": "code",
   "execution_count": 16,
   "id": "6c7db226",
   "metadata": {},
   "outputs": [],
   "source": [
    "df_km = read_csv('data_check_lazy.csv')[:1000]"
   ]
  },
  {
   "cell_type": "code",
   "execution_count": 17,
   "id": "6cdb4aba",
   "metadata": {},
   "outputs": [],
   "source": [
    "X = df_km.drop(columns=['MOFname','CO2_working_capacity','functional_groups','topology','volume','weight'])\n",
    "Y = df_km['CO2_working_capacity']"
   ]
  },
  {
   "cell_type": "code",
   "execution_count": 18,
   "id": "a9b69708",
   "metadata": {},
   "outputs": [],
   "source": [
    "x_train, x_test, y_train, y_test = train_test_split(X,Y, test_size=0.2, random_state=42)"
   ]
  },
  {
   "cell_type": "code",
   "execution_count": 19,
   "id": "03a6a180",
   "metadata": {},
   "outputs": [
    {
     "name": "stderr",
     "output_type": "stream",
     "text": [
      "100%|██████████████████████████████████████████████████████████████████████████████████| 42/42 [00:03<00:00, 11.78it/s]"
     ]
    },
    {
     "name": "stdout",
     "output_type": "stream",
     "text": [
      "                               Adjusted R-Squared  R-Squared   RMSE  \\\n",
      "Model                                                                 \n",
      "LGBMRegressor                                0.79       0.80  34.88   \n",
      "HistGradientBoostingRegressor                0.78       0.79  35.35   \n",
      "GradientBoostingRegressor                    0.78       0.79  35.39   \n",
      "RandomForestRegressor                        0.78       0.79  35.47   \n",
      "ExtraTreesRegressor                          0.77       0.79  35.92   \n",
      "BaggingRegressor                             0.76       0.78  36.63   \n",
      "XGBRegressor                                 0.76       0.78  36.64   \n",
      "KNeighborsRegressor                          0.76       0.77  37.20   \n",
      "AdaBoostRegressor                            0.69       0.71  41.65   \n",
      "TransformedTargetRegressor                   0.68       0.70  42.90   \n",
      "LinearRegression                             0.68       0.70  42.90   \n",
      "Ridge                                        0.68       0.70  42.91   \n",
      "BayesianRidge                                0.67       0.70  42.94   \n",
      "RidgeCV                                      0.67       0.70  43.01   \n",
      "LassoLarsIC                                  0.67       0.69  43.11   \n",
      "ElasticNetCV                                 0.67       0.69  43.33   \n",
      "SGDRegressor                                 0.66       0.69  43.62   \n",
      "LarsCV                                       0.66       0.69  43.63   \n",
      "LassoCV                                      0.66       0.69  43.66   \n",
      "LassoLarsCV                                  0.66       0.69  43.68   \n",
      "Lasso                                        0.66       0.69  43.70   \n",
      "Lars                                         0.66       0.68  43.93   \n",
      "HuberRegressor                               0.65       0.68  44.30   \n",
      "OrthogonalMatchingPursuitCV                  0.65       0.67  44.62   \n",
      "LinearSVR                                    0.65       0.67  44.84   \n",
      "PassiveAggressiveRegressor                   0.63       0.65  45.83   \n",
      "ElasticNet                                   0.62       0.64  46.64   \n",
      "TweedieRegressor                             0.56       0.59  50.01   \n",
      "GeneralizedLinearRegressor                   0.56       0.59  50.01   \n",
      "RANSACRegressor                              0.55       0.58  50.78   \n",
      "OrthogonalMatchingPursuit                    0.53       0.56  51.54   \n",
      "DecisionTreeRegressor                        0.52       0.55  51.98   \n",
      "ExtraTreeRegressor                           0.52       0.55  52.08   \n",
      "GammaRegressor                               0.49       0.53  53.60   \n",
      "LassoLars                                    0.48       0.51  54.26   \n",
      "PoissonRegressor                             0.45       0.48  56.08   \n",
      "MLPRegressor                                 0.35       0.40  60.59   \n",
      "GaussianProcessRegressor                     0.29       0.34  63.30   \n",
      "NuSVR                                        0.23       0.28  66.17   \n",
      "SVR                                          0.21       0.26  66.92   \n",
      "DummyRegressor                              -0.07      -0.00  78.02   \n",
      "KernelRidge                                 -1.87      -1.68 127.59   \n",
      "\n",
      "                               Time Taken  \n",
      "Model                                      \n",
      "LGBMRegressor                        0.06  \n",
      "HistGradientBoostingRegressor        0.59  \n",
      "GradientBoostingRegressor            0.17  \n",
      "RandomForestRegressor                0.41  \n",
      "ExtraTreesRegressor                  0.29  \n",
      "BaggingRegressor                     0.05  \n",
      "XGBRegressor                         0.06  \n",
      "KNeighborsRegressor                  0.01  \n",
      "AdaBoostRegressor                    0.11  \n",
      "TransformedTargetRegressor           0.01  \n",
      "LinearRegression                     0.01  \n",
      "Ridge                                0.01  \n",
      "BayesianRidge                        0.01  \n",
      "RidgeCV                              0.01  \n",
      "LassoLarsIC                          0.02  \n",
      "ElasticNetCV                         0.06  \n",
      "SGDRegressor                         0.01  \n",
      "LarsCV                               0.03  \n",
      "LassoCV                              0.06  \n",
      "LassoLarsCV                          0.03  \n",
      "Lasso                                0.01  \n",
      "Lars                                 0.01  \n",
      "HuberRegressor                       0.03  \n",
      "OrthogonalMatchingPursuitCV          0.02  \n",
      "LinearSVR                            0.02  \n",
      "PassiveAggressiveRegressor           0.02  \n",
      "ElasticNet                           0.01  \n",
      "TweedieRegressor                     0.01  \n",
      "GeneralizedLinearRegressor           0.01  \n",
      "RANSACRegressor                      0.08  \n",
      "OrthogonalMatchingPursuit            0.01  \n",
      "DecisionTreeRegressor                0.01  \n",
      "ExtraTreeRegressor                   0.01  \n",
      "GammaRegressor                       0.01  \n",
      "LassoLars                            0.01  \n",
      "PoissonRegressor                     0.04  \n",
      "MLPRegressor                         1.00  \n",
      "GaussianProcessRegressor             0.09  \n",
      "NuSVR                                0.03  \n",
      "SVR                                  0.03  \n",
      "DummyRegressor                       0.01  \n",
      "KernelRidge                          0.03  \n"
     ]
    },
    {
     "name": "stderr",
     "output_type": "stream",
     "text": [
      "\n"
     ]
    }
   ],
   "source": [
    "from lazypredict.Supervised import LazyClassifier, LazyRegressor\n",
    "reg = LazyRegressor(verbose=0, ignore_warnings=False, custom_metric=None)\n",
    "models, predictions = reg.fit(x_train, x_test, y_train, y_test)\n",
    "\n",
    "print(models)"
   ]
  }
 ],
 "metadata": {
  "kernelspec": {
   "display_name": "TMLCC",
   "language": "python",
   "name": "tmlcc"
  },
  "language_info": {
   "codemirror_mode": {
    "name": "ipython",
    "version": 3
   },
   "file_extension": ".py",
   "mimetype": "text/x-python",
   "name": "python",
   "nbconvert_exporter": "python",
   "pygments_lexer": "ipython3",
   "version": "3.7.9"
  }
 },
 "nbformat": 4,
 "nbformat_minor": 5
}
