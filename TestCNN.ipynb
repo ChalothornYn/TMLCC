{
 "cells": [
  {
   "cell_type": "code",
   "execution_count": 1,
   "id": "737908b8",
   "metadata": {},
   "outputs": [],
   "source": [
    "import numpy as np\n",
    "\n",
    "import pandas as pd\n",
    "from pandas import read_csv\n",
    "\n",
    "from tensorflow.keras.models import Sequential\n",
    "from tensorflow.keras.layers import Dense\n",
    "from tensorflow.keras.wrappers.scikit_learn import KerasRegressor\n",
    "\n",
    "from sklearn.model_selection import cross_val_score\n",
    "from sklearn.model_selection import KFold\n",
    "from sklearn.pipeline import Pipeline\n",
    "from sklearn.model_selection import train_test_split"
   ]
  },
  {
   "cell_type": "markdown",
   "id": "cd3ce540",
   "metadata": {},
   "source": [
    "# Load Data"
   ]
  },
  {
   "cell_type": "code",
   "execution_count": 2,
   "id": "0240f2d7",
   "metadata": {},
   "outputs": [],
   "source": [
    "df = read_csv('new_train.csv')"
   ]
  },
  {
   "cell_type": "code",
   "execution_count": 3,
   "id": "348b0f62",
   "metadata": {
    "scrolled": true
   },
   "outputs": [
    {
     "data": {
      "text/html": [
       "<div>\n",
       "<style scoped>\n",
       "    .dataframe tbody tr th:only-of-type {\n",
       "        vertical-align: middle;\n",
       "    }\n",
       "\n",
       "    .dataframe tbody tr th {\n",
       "        vertical-align: top;\n",
       "    }\n",
       "\n",
       "    .dataframe thead th {\n",
       "        text-align: right;\n",
       "    }\n",
       "</style>\n",
       "<table border=\"1\" class=\"dataframe\">\n",
       "  <thead>\n",
       "    <tr style=\"text-align: right;\">\n",
       "      <th></th>\n",
       "      <th>MOFname</th>\n",
       "      <th>volume</th>\n",
       "      <th>weight</th>\n",
       "      <th>density</th>\n",
       "      <th>surface_area</th>\n",
       "      <th>void_fraction</th>\n",
       "      <th>void_volume</th>\n",
       "      <th>functional_groups</th>\n",
       "      <th>metal_linker</th>\n",
       "      <th>organic_linker1</th>\n",
       "      <th>organic_linker2</th>\n",
       "      <th>topology</th>\n",
       "      <th>CO2/N2_selectivity</th>\n",
       "      <th>heat_adsorption_CO2</th>\n",
       "      <th>CO2_working_capacity</th>\n",
       "    </tr>\n",
       "  </thead>\n",
       "  <tbody>\n",
       "    <tr>\n",
       "      <th>0</th>\n",
       "      <td>mof_unit_1</td>\n",
       "      <td>1116.667429</td>\n",
       "      <td>875.240600</td>\n",
       "      <td>1.301526</td>\n",
       "      <td>0.00</td>\n",
       "      <td>0.07899</td>\n",
       "      <td>0.0607</td>\n",
       "      <td>COOH-OEt</td>\n",
       "      <td>3</td>\n",
       "      <td>4</td>\n",
       "      <td>11</td>\n",
       "      <td>pcu</td>\n",
       "      <td>22.864166</td>\n",
       "      <td>6.786041</td>\n",
       "      <td>105.284502</td>\n",
       "    </tr>\n",
       "    <tr>\n",
       "      <th>1</th>\n",
       "      <td>mof_unit_2</td>\n",
       "      <td>2769.503842</td>\n",
       "      <td>2211.697211</td>\n",
       "      <td>1.326090</td>\n",
       "      <td>603.61</td>\n",
       "      <td>0.13794</td>\n",
       "      <td>0.1040</td>\n",
       "      <td>F-OMe</td>\n",
       "      <td>10</td>\n",
       "      <td>44</td>\n",
       "      <td>57</td>\n",
       "      <td>etb</td>\n",
       "      <td>33.616780</td>\n",
       "      <td>7.147286</td>\n",
       "      <td>101.224774</td>\n",
       "    </tr>\n",
       "    <tr>\n",
       "      <th>2</th>\n",
       "      <td>mof_unit_3</td>\n",
       "      <td>1089.818728</td>\n",
       "      <td>773.687960</td>\n",
       "      <td>1.178856</td>\n",
       "      <td>788.50</td>\n",
       "      <td>0.14874</td>\n",
       "      <td>0.1262</td>\n",
       "      <td>OMe-COOH</td>\n",
       "      <td>2</td>\n",
       "      <td>22</td>\n",
       "      <td>24</td>\n",
       "      <td>pcu</td>\n",
       "      <td>19.263726</td>\n",
       "      <td>6.347967</td>\n",
       "      <td>118.987011</td>\n",
       "    </tr>\n",
       "    <tr>\n",
       "      <th>3</th>\n",
       "      <td>mof_unit_4</td>\n",
       "      <td>2205.198301</td>\n",
       "      <td>1304.638720</td>\n",
       "      <td>0.982408</td>\n",
       "      <td>1441.53</td>\n",
       "      <td>0.21814</td>\n",
       "      <td>0.2220</td>\n",
       "      <td>H-SO3H</td>\n",
       "      <td>9</td>\n",
       "      <td>17</td>\n",
       "      <td>24</td>\n",
       "      <td>sra</td>\n",
       "      <td>25.701377</td>\n",
       "      <td>6.190085</td>\n",
       "      <td>187.626004</td>\n",
       "    </tr>\n",
       "    <tr>\n",
       "      <th>4</th>\n",
       "      <td>mof_unit_5</td>\n",
       "      <td>1137.800963</td>\n",
       "      <td>901.736120</td>\n",
       "      <td>1.316020</td>\n",
       "      <td>0.00</td>\n",
       "      <td>0.07778</td>\n",
       "      <td>0.0591</td>\n",
       "      <td>NHMe-OH</td>\n",
       "      <td>2</td>\n",
       "      <td>1</td>\n",
       "      <td>22</td>\n",
       "      <td>pcu</td>\n",
       "      <td>30.001838</td>\n",
       "      <td>6.478063</td>\n",
       "      <td>79.210001</td>\n",
       "    </tr>\n",
       "    <tr>\n",
       "      <th>5</th>\n",
       "      <td>mof_unit_6</td>\n",
       "      <td>3954.659761</td>\n",
       "      <td>1543.027680</td>\n",
       "      <td>0.647909</td>\n",
       "      <td>2430.55</td>\n",
       "      <td>0.37094</td>\n",
       "      <td>0.5725</td>\n",
       "      <td>Pr-NO2</td>\n",
       "      <td>9</td>\n",
       "      <td>7</td>\n",
       "      <td>23</td>\n",
       "      <td>sra</td>\n",
       "      <td>17.146541</td>\n",
       "      <td>5.398304</td>\n",
       "      <td>55.786959</td>\n",
       "    </tr>\n",
       "    <tr>\n",
       "      <th>6</th>\n",
       "      <td>mof_unit_7</td>\n",
       "      <td>3565.914939</td>\n",
       "      <td>1954.749656</td>\n",
       "      <td>0.910268</td>\n",
       "      <td>1530.02</td>\n",
       "      <td>0.33337</td>\n",
       "      <td>0.3662</td>\n",
       "      <td>NH2</td>\n",
       "      <td>10</td>\n",
       "      <td>53</td>\n",
       "      <td>55</td>\n",
       "      <td>etb</td>\n",
       "      <td>18.363791</td>\n",
       "      <td>6.303857</td>\n",
       "      <td>111.690462</td>\n",
       "    </tr>\n",
       "    <tr>\n",
       "      <th>7</th>\n",
       "      <td>mof_unit_8</td>\n",
       "      <td>916.043907</td>\n",
       "      <td>639.111560</td>\n",
       "      <td>1.158537</td>\n",
       "      <td>1685.58</td>\n",
       "      <td>0.28458</td>\n",
       "      <td>0.2456</td>\n",
       "      <td>Br</td>\n",
       "      <td>2</td>\n",
       "      <td>5</td>\n",
       "      <td>13</td>\n",
       "      <td>pcu</td>\n",
       "      <td>12.684804</td>\n",
       "      <td>5.234732</td>\n",
       "      <td>58.989774</td>\n",
       "    </tr>\n",
       "    <tr>\n",
       "      <th>8</th>\n",
       "      <td>mof_unit_9</td>\n",
       "      <td>2228.882339</td>\n",
       "      <td>1422.691820</td>\n",
       "      <td>1.059920</td>\n",
       "      <td>1458.02</td>\n",
       "      <td>0.24277</td>\n",
       "      <td>0.2291</td>\n",
       "      <td>HCO</td>\n",
       "      <td>4</td>\n",
       "      <td>14</td>\n",
       "      <td>19</td>\n",
       "      <td>acs</td>\n",
       "      <td>37.040424</td>\n",
       "      <td>6.298964</td>\n",
       "      <td>135.587108</td>\n",
       "    </tr>\n",
       "    <tr>\n",
       "      <th>9</th>\n",
       "      <td>mof_unit_10</td>\n",
       "      <td>4275.421420</td>\n",
       "      <td>1606.196000</td>\n",
       "      <td>0.623834</td>\n",
       "      <td>3276.11</td>\n",
       "      <td>0.41004</td>\n",
       "      <td>0.6573</td>\n",
       "      <td>NHMe-OH</td>\n",
       "      <td>3</td>\n",
       "      <td>13</td>\n",
       "      <td>29</td>\n",
       "      <td>pcu</td>\n",
       "      <td>10.999299</td>\n",
       "      <td>5.539327</td>\n",
       "      <td>59.739057</td>\n",
       "    </tr>\n",
       "  </tbody>\n",
       "</table>\n",
       "</div>"
      ],
      "text/plain": [
       "       MOFname       volume       weight   density  surface_area  \\\n",
       "0   mof_unit_1  1116.667429   875.240600  1.301526          0.00   \n",
       "1   mof_unit_2  2769.503842  2211.697211  1.326090        603.61   \n",
       "2   mof_unit_3  1089.818728   773.687960  1.178856        788.50   \n",
       "3   mof_unit_4  2205.198301  1304.638720  0.982408       1441.53   \n",
       "4   mof_unit_5  1137.800963   901.736120  1.316020          0.00   \n",
       "5   mof_unit_6  3954.659761  1543.027680  0.647909       2430.55   \n",
       "6   mof_unit_7  3565.914939  1954.749656  0.910268       1530.02   \n",
       "7   mof_unit_8   916.043907   639.111560  1.158537       1685.58   \n",
       "8   mof_unit_9  2228.882339  1422.691820  1.059920       1458.02   \n",
       "9  mof_unit_10  4275.421420  1606.196000  0.623834       3276.11   \n",
       "\n",
       "   void_fraction  void_volume functional_groups  metal_linker  \\\n",
       "0        0.07899       0.0607          COOH-OEt             3   \n",
       "1        0.13794       0.1040             F-OMe            10   \n",
       "2        0.14874       0.1262          OMe-COOH             2   \n",
       "3        0.21814       0.2220            H-SO3H             9   \n",
       "4        0.07778       0.0591           NHMe-OH             2   \n",
       "5        0.37094       0.5725            Pr-NO2             9   \n",
       "6        0.33337       0.3662               NH2            10   \n",
       "7        0.28458       0.2456                Br             2   \n",
       "8        0.24277       0.2291               HCO             4   \n",
       "9        0.41004       0.6573           NHMe-OH             3   \n",
       "\n",
       "   organic_linker1  organic_linker2 topology  CO2/N2_selectivity  \\\n",
       "0                4               11      pcu           22.864166   \n",
       "1               44               57      etb           33.616780   \n",
       "2               22               24      pcu           19.263726   \n",
       "3               17               24      sra           25.701377   \n",
       "4                1               22      pcu           30.001838   \n",
       "5                7               23      sra           17.146541   \n",
       "6               53               55      etb           18.363791   \n",
       "7                5               13      pcu           12.684804   \n",
       "8               14               19      acs           37.040424   \n",
       "9               13               29      pcu           10.999299   \n",
       "\n",
       "   heat_adsorption_CO2  CO2_working_capacity  \n",
       "0             6.786041            105.284502  \n",
       "1             7.147286            101.224774  \n",
       "2             6.347967            118.987011  \n",
       "3             6.190085            187.626004  \n",
       "4             6.478063             79.210001  \n",
       "5             5.398304             55.786959  \n",
       "6             6.303857            111.690462  \n",
       "7             5.234732             58.989774  \n",
       "8             6.298964            135.587108  \n",
       "9             5.539327             59.739057  "
      ]
     },
     "execution_count": 3,
     "metadata": {},
     "output_type": "execute_result"
    }
   ],
   "source": [
    "df.head(10)"
   ]
  },
  {
   "cell_type": "code",
   "execution_count": 4,
   "id": "bde4001f",
   "metadata": {
    "scrolled": true
   },
   "outputs": [
    {
     "name": "stdout",
     "output_type": "stream",
     "text": [
      "<class 'pandas.core.frame.DataFrame'>\n",
      "RangeIndex: 68613 entries, 0 to 68612\n",
      "Data columns (total 15 columns):\n",
      " #   Column                Non-Null Count  Dtype  \n",
      "---  ------                --------------  -----  \n",
      " 0   MOFname               68613 non-null  object \n",
      " 1   volume                68613 non-null  float64\n",
      " 2   weight                68613 non-null  float64\n",
      " 3   density               68613 non-null  float64\n",
      " 4   surface_area          68613 non-null  float64\n",
      " 5   void_fraction         68613 non-null  float64\n",
      " 6   void_volume           68613 non-null  float64\n",
      " 7   functional_groups     68290 non-null  object \n",
      " 8   metal_linker          68613 non-null  int64  \n",
      " 9   organic_linker1       68613 non-null  int64  \n",
      " 10  organic_linker2       68613 non-null  int64  \n",
      " 11  topology              68613 non-null  object \n",
      " 12  CO2/N2_selectivity    68613 non-null  float64\n",
      " 13  heat_adsorption_CO2   66526 non-null  float64\n",
      " 14  CO2_working_capacity  68613 non-null  float64\n",
      "dtypes: float64(9), int64(3), object(3)\n",
      "memory usage: 7.9+ MB\n"
     ]
    }
   ],
   "source": [
    "df.info()"
   ]
  },
  {
   "cell_type": "code",
   "execution_count": 5,
   "id": "f4f3e101",
   "metadata": {},
   "outputs": [
    {
     "data": {
      "text/plain": [
       "array([ 3, 10,  2,  9,  4,  1, 12], dtype=int64)"
      ]
     },
     "execution_count": 5,
     "metadata": {},
     "output_type": "execute_result"
    }
   ],
   "source": [
    "df['metal_linker'].unique()"
   ]
  },
  {
   "cell_type": "markdown",
   "id": "9862d0bc",
   "metadata": {},
   "source": [
    "# Clean Data"
   ]
  },
  {
   "cell_type": "code",
   "execution_count": 6,
   "id": "37966dc9",
   "metadata": {},
   "outputs": [
    {
     "data": {
      "text/plain": [
       "MOFname                    0\n",
       "volume                     0\n",
       "weight                     0\n",
       "density                    0\n",
       "surface_area               0\n",
       "void_fraction              0\n",
       "void_volume                0\n",
       "functional_groups        323\n",
       "metal_linker               0\n",
       "organic_linker1            0\n",
       "organic_linker2            0\n",
       "topology                   0\n",
       "CO2/N2_selectivity         0\n",
       "heat_adsorption_CO2     2087\n",
       "CO2_working_capacity       0\n",
       "dtype: int64"
      ]
     },
     "execution_count": 6,
     "metadata": {},
     "output_type": "execute_result"
    }
   ],
   "source": [
    "# Show sum of NULL for each column\n",
    "df.isnull().sum()"
   ]
  },
  {
   "cell_type": "code",
   "execution_count": 7,
   "id": "2f9232b4",
   "metadata": {
    "colab": {
     "base_uri": "https://localhost:8080/"
    },
    "id": "Q7c_gziai9sG",
    "outputId": "ca183cce-fccf-4941-ad47-f632a146158d",
    "scrolled": false
   },
   "outputs": [
    {
     "data": {
      "text/plain": [
       "MOFname                 0\n",
       "volume                  0\n",
       "weight                  0\n",
       "density                 0\n",
       "surface_area            0\n",
       "void_fraction           0\n",
       "void_volume             0\n",
       "functional_groups       0\n",
       "metal_linker            0\n",
       "organic_linker1         0\n",
       "organic_linker2         0\n",
       "topology                0\n",
       "CO2/N2_selectivity      0\n",
       "heat_adsorption_CO2     0\n",
       "CO2_working_capacity    0\n",
       "dtype: int64"
      ]
     },
     "execution_count": 7,
     "metadata": {},
     "output_type": "execute_result"
    }
   ],
   "source": [
    "# Clean na from selected columns\n",
    "df['functional_groups'].fillna(value = 'empty',inplace=True)\n",
    "df.dropna(inplace=True)\n",
    "df.isnull().sum()"
   ]
  },
  {
   "cell_type": "code",
   "execution_count": 8,
   "id": "c118a37a",
   "metadata": {},
   "outputs": [],
   "source": [
    "# One hot encoding"
   ]
  },
  {
   "cell_type": "code",
   "execution_count": 9,
   "id": "e594818a",
   "metadata": {},
   "outputs": [
    {
     "data": {
      "text/html": [
       "<div>\n",
       "<style scoped>\n",
       "    .dataframe tbody tr th:only-of-type {\n",
       "        vertical-align: middle;\n",
       "    }\n",
       "\n",
       "    .dataframe tbody tr th {\n",
       "        vertical-align: top;\n",
       "    }\n",
       "\n",
       "    .dataframe thead th {\n",
       "        text-align: right;\n",
       "    }\n",
       "</style>\n",
       "<table border=\"1\" class=\"dataframe\">\n",
       "  <thead>\n",
       "    <tr style=\"text-align: right;\">\n",
       "      <th></th>\n",
       "      <th>Metal_1</th>\n",
       "      <th>Metal_2</th>\n",
       "      <th>Metal_3</th>\n",
       "      <th>Metal_4</th>\n",
       "      <th>Metal_9</th>\n",
       "      <th>Metal_10</th>\n",
       "      <th>Metal_12</th>\n",
       "    </tr>\n",
       "  </thead>\n",
       "  <tbody>\n",
       "    <tr>\n",
       "      <th>0</th>\n",
       "      <td>0</td>\n",
       "      <td>0</td>\n",
       "      <td>1</td>\n",
       "      <td>0</td>\n",
       "      <td>0</td>\n",
       "      <td>0</td>\n",
       "      <td>0</td>\n",
       "    </tr>\n",
       "    <tr>\n",
       "      <th>1</th>\n",
       "      <td>0</td>\n",
       "      <td>0</td>\n",
       "      <td>0</td>\n",
       "      <td>0</td>\n",
       "      <td>0</td>\n",
       "      <td>1</td>\n",
       "      <td>0</td>\n",
       "    </tr>\n",
       "    <tr>\n",
       "      <th>2</th>\n",
       "      <td>0</td>\n",
       "      <td>1</td>\n",
       "      <td>0</td>\n",
       "      <td>0</td>\n",
       "      <td>0</td>\n",
       "      <td>0</td>\n",
       "      <td>0</td>\n",
       "    </tr>\n",
       "    <tr>\n",
       "      <th>3</th>\n",
       "      <td>0</td>\n",
       "      <td>0</td>\n",
       "      <td>0</td>\n",
       "      <td>0</td>\n",
       "      <td>1</td>\n",
       "      <td>0</td>\n",
       "      <td>0</td>\n",
       "    </tr>\n",
       "    <tr>\n",
       "      <th>4</th>\n",
       "      <td>0</td>\n",
       "      <td>1</td>\n",
       "      <td>0</td>\n",
       "      <td>0</td>\n",
       "      <td>0</td>\n",
       "      <td>0</td>\n",
       "      <td>0</td>\n",
       "    </tr>\n",
       "  </tbody>\n",
       "</table>\n",
       "</div>"
      ],
      "text/plain": [
       "   Metal_1  Metal_2  Metal_3  Metal_4  Metal_9  Metal_10  Metal_12\n",
       "0        0        0        1        0        0         0         0\n",
       "1        0        0        0        0        0         1         0\n",
       "2        0        1        0        0        0         0         0\n",
       "3        0        0        0        0        1         0         0\n",
       "4        0        1        0        0        0         0         0"
      ]
     },
     "execution_count": 9,
     "metadata": {},
     "output_type": "execute_result"
    }
   ],
   "source": [
    "one_hot = pd.get_dummies(df['metal_linker'], prefix='Metal')\n",
    "one_hot.head()"
   ]
  },
  {
   "cell_type": "markdown",
   "id": "9b0a46d2",
   "metadata": {},
   "source": [
    "# Process"
   ]
  },
  {
   "cell_type": "code",
   "execution_count": 10,
   "id": "ae34447d",
   "metadata": {},
   "outputs": [],
   "source": [
    "df_new = df\n",
    "df.max()\n",
    "df.loc[df['heat_adsorption_CO2'] == df['heat_adsorption_CO2'].max()]\n",
    "df_new = df.drop([68611, 68612])"
   ]
  },
  {
   "cell_type": "code",
   "execution_count": 11,
   "id": "05b3cd4e",
   "metadata": {},
   "outputs": [
    {
     "data": {
      "text/plain": [
       "MOFname                 mof_unit_9999\n",
       "volume                         223965\n",
       "weight                        22595.9\n",
       "density                       3.35179\n",
       "surface_area                  7083.53\n",
       "void_fraction                 0.87206\n",
       "void_volume                    6.6101\n",
       "functional_groups               empty\n",
       "metal_linker                       12\n",
       "organic_linker1                    59\n",
       "organic_linker2                    59\n",
       "topology                          the\n",
       "CO2/N2_selectivity            914.244\n",
       "heat_adsorption_CO2           17.1554\n",
       "CO2_working_capacity          736.062\n",
       "dtype: object"
      ]
     },
     "execution_count": 11,
     "metadata": {},
     "output_type": "execute_result"
    }
   ],
   "source": [
    "df_new.max()"
   ]
  },
  {
   "cell_type": "code",
   "execution_count": 12,
   "id": "ad06f91e",
   "metadata": {},
   "outputs": [],
   "source": [
    "X = df_new.drop(['MOFname', 'CO2_working_capacity', 'functional_groups', 'topology'], axis = 1)\n",
    "y = df_new['CO2_working_capacity']"
   ]
  },
  {
   "cell_type": "code",
   "execution_count": 13,
   "id": "6bdb2c81",
   "metadata": {},
   "outputs": [],
   "source": [
    "X_train, X_test, y_train, y_test = train_test_split(X, y, test_size = 0.2, random_state = 20)"
   ]
  },
  {
   "cell_type": "code",
   "execution_count": 14,
   "id": "b0af40e2",
   "metadata": {
    "scrolled": true
   },
   "outputs": [
    {
     "name": "stdout",
     "output_type": "stream",
     "text": [
      "<class 'pandas.core.frame.DataFrame'>\n",
      "Int64Index: 53219 entries, 58252 to 37135\n",
      "Data columns (total 11 columns):\n",
      " #   Column               Non-Null Count  Dtype  \n",
      "---  ------               --------------  -----  \n",
      " 0   volume               53219 non-null  float64\n",
      " 1   weight               53219 non-null  float64\n",
      " 2   density              53219 non-null  float64\n",
      " 3   surface_area         53219 non-null  float64\n",
      " 4   void_fraction        53219 non-null  float64\n",
      " 5   void_volume          53219 non-null  float64\n",
      " 6   metal_linker         53219 non-null  int64  \n",
      " 7   organic_linker1      53219 non-null  int64  \n",
      " 8   organic_linker2      53219 non-null  int64  \n",
      " 9   CO2/N2_selectivity   53219 non-null  float64\n",
      " 10  heat_adsorption_CO2  53219 non-null  float64\n",
      "dtypes: float64(8), int64(3)\n",
      "memory usage: 4.9 MB\n"
     ]
    }
   ],
   "source": [
    "X_train.info()"
   ]
  },
  {
   "cell_type": "code",
   "execution_count": 15,
   "id": "b89942b3",
   "metadata": {
    "scrolled": true
   },
   "outputs": [],
   "source": [
    "from sklearn.preprocessing import StandardScaler\n",
    "scaler = StandardScaler()\n",
    "scaler.fit(X_train)\n",
    "\n",
    "X_train_scaled = scaler.transform(X_train)\n",
    "X_test_scaled = scaler.transform(X_test)"
   ]
  },
  {
   "cell_type": "code",
   "execution_count": 16,
   "id": "2d075baa",
   "metadata": {},
   "outputs": [],
   "source": [
    "# defind model"
   ]
  },
  {
   "cell_type": "code",
   "execution_count": 17,
   "id": "57b3fd8d",
   "metadata": {},
   "outputs": [],
   "source": [
    "model = Sequential()\n",
    "model.add(Dense(128, input_dim = 11, activation = 'relu'))\n",
    "model.add(Dense(64, activation = 'relu'))"
   ]
  },
  {
   "cell_type": "code",
   "execution_count": 18,
   "id": "744e0de4",
   "metadata": {},
   "outputs": [],
   "source": [
    "#  output layer\n",
    "model.add(Dense(1, activation = 'linear'))"
   ]
  },
  {
   "cell_type": "code",
   "execution_count": 19,
   "id": "e6810b54",
   "metadata": {},
   "outputs": [
    {
     "name": "stdout",
     "output_type": "stream",
     "text": [
      "Model: \"sequential\"\n",
      "_________________________________________________________________\n",
      "Layer (type)                 Output Shape              Param #   \n",
      "=================================================================\n",
      "dense (Dense)                (None, 128)               1536      \n",
      "_________________________________________________________________\n",
      "dense_1 (Dense)              (None, 64)                8256      \n",
      "_________________________________________________________________\n",
      "dense_2 (Dense)              (None, 1)                 65        \n",
      "=================================================================\n",
      "Total params: 9,857\n",
      "Trainable params: 9,857\n",
      "Non-trainable params: 0\n",
      "_________________________________________________________________\n"
     ]
    }
   ],
   "source": [
    "model.compile(loss='mean_squared_error', optimizer='adam', metrics=['mae'])\n",
    "model.summary()"
   ]
  },
  {
   "cell_type": "code",
   "execution_count": 20,
   "id": "642b4da1",
   "metadata": {
    "scrolled": true
   },
   "outputs": [
    {
     "data": {
      "text/plain": [
       "58252     60.119228\n",
       "30397    185.161081\n",
       "14029    482.063139\n",
       "23265     71.020388\n",
       "16110    115.838671\n",
       "            ...    \n",
       "3915     338.620533\n",
       "47497    110.451893\n",
       "31962    128.950371\n",
       "23775     74.298313\n",
       "37135    111.531494\n",
       "Name: CO2_working_capacity, Length: 53219, dtype: float64"
      ]
     },
     "execution_count": 20,
     "metadata": {},
     "output_type": "execute_result"
    }
   ],
   "source": [
    "y_train"
   ]
  },
  {
   "cell_type": "code",
   "execution_count": 37,
   "id": "b1597565",
   "metadata": {},
   "outputs": [
    {
     "name": "stdout",
     "output_type": "stream",
     "text": [
      "[ 60.11922803 185.16108148 482.06313863 ... 128.95037088  74.29831305\n",
      " 111.53149353]\n",
      "[101.75731112  78.90857088  98.07742471 ... 142.66724156  96.28056649\n",
      " 238.90472307]\n"
     ]
    }
   ],
   "source": [
    "y_train = np.asarray(y_train)\n",
    "print(y_train)\n",
    "\n",
    "y_test = np.asarray(y_test)\n",
    "print(y_test)"
   ]
  },
  {
   "cell_type": "code",
   "execution_count": 22,
   "id": "b9f0df0b",
   "metadata": {
    "scrolled": true
   },
   "outputs": [
    {
     "name": "stdout",
     "output_type": "stream",
     "text": [
      "Epoch 1/100\n",
      "1331/1331 [==============================] - 2s 1ms/step - loss: 4159.7407 - mae: 41.8395 - val_loss: 1997.5826 - val_mae: 29.8800\n",
      "Epoch 2/100\n",
      "1331/1331 [==============================] - 2s 1ms/step - loss: 1719.8760 - mae: 28.0188 - val_loss: 1608.0530 - val_mae: 27.5547\n",
      "Epoch 3/100\n",
      "1331/1331 [==============================] - 1s 1ms/step - loss: 1503.4513 - mae: 26.6439 - val_loss: 1469.0504 - val_mae: 26.1281\n",
      "Epoch 4/100\n",
      "1331/1331 [==============================] - 2s 1ms/step - loss: 1392.9424 - mae: 25.8067 - val_loss: 1403.8958 - val_mae: 26.0479\n",
      "Epoch 5/100\n",
      "1331/1331 [==============================] - 2s 1ms/step - loss: 1336.1390 - mae: 25.3340 - val_loss: 1339.2950 - val_mae: 25.2520\n",
      "Epoch 6/100\n",
      "1331/1331 [==============================] - 2s 1ms/step - loss: 1291.7948 - mae: 24.9752 - val_loss: 1305.4786 - val_mae: 24.8915\n",
      "Epoch 7/100\n",
      "1331/1331 [==============================] - 2s 1ms/step - loss: 1264.5137 - mae: 24.7208 - val_loss: 1317.7693 - val_mae: 25.7247\n",
      "Epoch 8/100\n",
      "1331/1331 [==============================] - 2s 1ms/step - loss: 1238.3950 - mae: 24.4913 - val_loss: 1275.4994 - val_mae: 25.1925\n",
      "Epoch 9/100\n",
      "1331/1331 [==============================] - 2s 1ms/step - loss: 1219.6653 - mae: 24.3214 - val_loss: 1233.7947 - val_mae: 24.4221\n",
      "Epoch 10/100\n",
      "1331/1331 [==============================] - 2s 1ms/step - loss: 1203.9863 - mae: 24.2257 - val_loss: 1289.9470 - val_mae: 25.8827\n",
      "Epoch 11/100\n",
      "1331/1331 [==============================] - 2s 1ms/step - loss: 1191.1008 - mae: 24.0847 - val_loss: 1239.2971 - val_mae: 24.2506\n",
      "Epoch 12/100\n",
      "1331/1331 [==============================] - 2s 1ms/step - loss: 1180.6165 - mae: 23.9668 - val_loss: 1222.0100 - val_mae: 24.5315\n",
      "Epoch 13/100\n",
      "1331/1331 [==============================] - 2s 1ms/step - loss: 1162.8752 - mae: 23.7812 - val_loss: 1203.8571 - val_mae: 24.1440\n",
      "Epoch 14/100\n",
      "1331/1331 [==============================] - 2s 1ms/step - loss: 1153.4980 - mae: 23.7393 - val_loss: 1183.6262 - val_mae: 24.0313\n",
      "Epoch 15/100\n",
      "1331/1331 [==============================] - 2s 1ms/step - loss: 1147.8905 - mae: 23.6745 - val_loss: 1172.4875 - val_mae: 23.7185\n",
      "Epoch 16/100\n",
      "1331/1331 [==============================] - 2s 1ms/step - loss: 1138.3859 - mae: 23.6339 - val_loss: 1182.3474 - val_mae: 23.8419\n",
      "Epoch 17/100\n",
      "1331/1331 [==============================] - 2s 1ms/step - loss: 1132.8313 - mae: 23.5176 - val_loss: 1192.3639 - val_mae: 23.9361\n",
      "Epoch 18/100\n",
      "1331/1331 [==============================] - 2s 1ms/step - loss: 1123.8584 - mae: 23.4337 - val_loss: 1181.6465 - val_mae: 23.9557\n",
      "Epoch 19/100\n",
      "1331/1331 [==============================] - 2s 1ms/step - loss: 1120.3772 - mae: 23.4343 - val_loss: 1154.3209 - val_mae: 23.7165\n",
      "Epoch 20/100\n",
      "1331/1331 [==============================] - 2s 1ms/step - loss: 1110.2999 - mae: 23.3432 - val_loss: 1184.6967 - val_mae: 23.9166\n",
      "Epoch 21/100\n",
      "1331/1331 [==============================] - 2s 1ms/step - loss: 1112.1469 - mae: 23.3595 - val_loss: 1136.7614 - val_mae: 23.5129\n",
      "Epoch 22/100\n",
      "1331/1331 [==============================] - 2s 1ms/step - loss: 1103.6221 - mae: 23.2566 - val_loss: 1172.3706 - val_mae: 24.0934\n",
      "Epoch 23/100\n",
      "1331/1331 [==============================] - 2s 1ms/step - loss: 1099.7590 - mae: 23.2102 - val_loss: 1160.5016 - val_mae: 23.6008\n",
      "Epoch 24/100\n",
      "1331/1331 [==============================] - 2s 1ms/step - loss: 1091.5957 - mae: 23.0972 - val_loss: 1130.7893 - val_mae: 23.3278\n",
      "Epoch 25/100\n",
      "1331/1331 [==============================] - 2s 1ms/step - loss: 1090.3007 - mae: 23.1816 - val_loss: 1135.1748 - val_mae: 23.6543\n",
      "Epoch 26/100\n",
      "1331/1331 [==============================] - 2s 1ms/step - loss: 1082.5605 - mae: 23.0510 - val_loss: 1131.7062 - val_mae: 23.3695\n",
      "Epoch 27/100\n",
      "1331/1331 [==============================] - 2s 1ms/step - loss: 1084.4941 - mae: 23.1554 - val_loss: 1123.9891 - val_mae: 23.6050\n",
      "Epoch 28/100\n",
      "1331/1331 [==============================] - 2s 1ms/step - loss: 1078.1747 - mae: 23.0568 - val_loss: 1109.3719 - val_mae: 23.1546\n",
      "Epoch 29/100\n",
      "1331/1331 [==============================] - 2s 1ms/step - loss: 1072.5166 - mae: 22.9645 - val_loss: 1115.5654 - val_mae: 23.7992\n",
      "Epoch 30/100\n",
      "1331/1331 [==============================] - 2s 1ms/step - loss: 1073.3904 - mae: 23.0014 - val_loss: 1117.8344 - val_mae: 23.6155\n",
      "Epoch 31/100\n",
      "1331/1331 [==============================] - 2s 1ms/step - loss: 1067.4512 - mae: 22.9172 - val_loss: 1126.3667 - val_mae: 23.6439\n",
      "Epoch 32/100\n",
      "1331/1331 [==============================] - 2s 1ms/step - loss: 1064.6826 - mae: 22.9361 - val_loss: 1102.1429 - val_mae: 23.1289\n",
      "Epoch 33/100\n",
      "1331/1331 [==============================] - 2s 1ms/step - loss: 1061.8640 - mae: 22.8771 - val_loss: 1104.2001 - val_mae: 23.3559\n",
      "Epoch 34/100\n",
      "1331/1331 [==============================] - 2s 1ms/step - loss: 1057.7472 - mae: 22.8460 - val_loss: 1108.4054 - val_mae: 23.5980\n",
      "Epoch 35/100\n",
      "1331/1331 [==============================] - 2s 1ms/step - loss: 1054.8591 - mae: 22.8071 - val_loss: 1095.7743 - val_mae: 23.1642\n",
      "Epoch 36/100\n",
      "1331/1331 [==============================] - 1s 1ms/step - loss: 1052.9250 - mae: 22.7841 - val_loss: 1083.0822 - val_mae: 22.9957\n",
      "Epoch 37/100\n",
      "1331/1331 [==============================] - 1s 976us/step - loss: 1052.1016 - mae: 22.8532 - val_loss: 1105.2155 - val_mae: 23.8725\n",
      "Epoch 38/100\n",
      "1331/1331 [==============================] - 1s 973us/step - loss: 1045.6848 - mae: 22.7655 - val_loss: 1093.1630 - val_mae: 23.2827\n",
      "Epoch 39/100\n",
      "1331/1331 [==============================] - 1s 997us/step - loss: 1044.3560 - mae: 22.7356 - val_loss: 1098.8807 - val_mae: 23.1922\n",
      "Epoch 40/100\n",
      "1331/1331 [==============================] - 1s 912us/step - loss: 1046.4918 - mae: 22.7552 - val_loss: 1072.8578 - val_mae: 23.0027\n",
      "Epoch 41/100\n",
      "1331/1331 [==============================] - 1s 905us/step - loss: 1035.7498 - mae: 22.6361 - val_loss: 1088.7067 - val_mae: 23.4428\n",
      "Epoch 42/100\n",
      "1331/1331 [==============================] - 1s 988us/step - loss: 1036.4683 - mae: 22.6166 - val_loss: 1081.2306 - val_mae: 23.2208\n",
      "Epoch 43/100\n",
      "1331/1331 [==============================] - 2s 1ms/step - loss: 1036.1034 - mae: 22.6758 - val_loss: 1080.5696 - val_mae: 23.2026\n",
      "Epoch 44/100\n",
      "1331/1331 [==============================] - 1s 1ms/step - loss: 1030.0049 - mae: 22.5999 - val_loss: 1069.8400 - val_mae: 23.0375\n",
      "Epoch 45/100\n",
      "1331/1331 [==============================] - 1s 908us/step - loss: 1029.6545 - mae: 22.6027 - val_loss: 1079.7156 - val_mae: 23.4530\n",
      "Epoch 46/100\n",
      "1331/1331 [==============================] - 2s 1ms/step - loss: 1029.0513 - mae: 22.6079 - val_loss: 1075.9448 - val_mae: 22.9104\n",
      "Epoch 47/100\n",
      "1331/1331 [==============================] - 3s 2ms/step - loss: 1026.6918 - mae: 22.6002 - val_loss: 1065.6536 - val_mae: 22.7308\n",
      "Epoch 48/100\n",
      "1331/1331 [==============================] - 2s 1ms/step - loss: 1024.6709 - mae: 22.5760 - val_loss: 1069.0590 - val_mae: 22.9461\n",
      "Epoch 49/100\n",
      "1331/1331 [==============================] - 2s 1ms/step - loss: 1020.4949 - mae: 22.5089 - val_loss: 1061.6046 - val_mae: 22.8917\n",
      "Epoch 50/100\n",
      "1331/1331 [==============================] - 2s 1ms/step - loss: 1021.7985 - mae: 22.5295 - val_loss: 1093.8845 - val_mae: 23.5451\n",
      "Epoch 51/100\n",
      "1331/1331 [==============================] - 2s 1ms/step - loss: 1021.3233 - mae: 22.5666 - val_loss: 1059.0463 - val_mae: 22.9264\n",
      "Epoch 52/100\n",
      "1331/1331 [==============================] - 2s 1ms/step - loss: 1017.2742 - mae: 22.4853 - val_loss: 1039.8999 - val_mae: 22.4709\n",
      "Epoch 53/100\n",
      "1331/1331 [==============================] - 2s 1ms/step - loss: 1012.3618 - mae: 22.4466 - val_loss: 1038.2917 - val_mae: 22.5955\n",
      "Epoch 54/100\n",
      "1331/1331 [==============================] - 1s 1ms/step - loss: 1012.6686 - mae: 22.4169 - val_loss: 1062.6458 - val_mae: 23.0820\n",
      "Epoch 55/100\n",
      "1331/1331 [==============================] - 1s 998us/step - loss: 1009.2480 - mae: 22.4284 - val_loss: 1106.4089 - val_mae: 23.9801\n",
      "Epoch 56/100\n",
      "1331/1331 [==============================] - 1s 1ms/step - loss: 1006.5927 - mae: 22.4299 - val_loss: 1063.4197 - val_mae: 23.3939\n",
      "Epoch 57/100\n",
      "1331/1331 [==============================] - 2s 1ms/step - loss: 1007.2119 - mae: 22.4064 - val_loss: 1042.1288 - val_mae: 22.6381\n"
     ]
    },
    {
     "name": "stdout",
     "output_type": "stream",
     "text": [
      "Epoch 58/100\n",
      "1331/1331 [==============================] - 1s 1ms/step - loss: 1005.5594 - mae: 22.4106 - val_loss: 1034.0278 - val_mae: 22.6095\n",
      "Epoch 59/100\n",
      "1331/1331 [==============================] - 1s 1ms/step - loss: 1002.4514 - mae: 22.3928 - val_loss: 1054.8048 - val_mae: 23.0218\n",
      "Epoch 60/100\n",
      "1331/1331 [==============================] - 2s 1ms/step - loss: 1002.8633 - mae: 22.3877 - val_loss: 1074.4943 - val_mae: 23.6443\n",
      "Epoch 61/100\n",
      "1331/1331 [==============================] - 2s 1ms/step - loss: 1002.9971 - mae: 22.4165 - val_loss: 1038.7307 - val_mae: 22.5610\n",
      "Epoch 62/100\n",
      "1331/1331 [==============================] - 2s 1ms/step - loss: 997.1986 - mae: 22.3358 - val_loss: 1046.2278 - val_mae: 22.9272\n",
      "Epoch 63/100\n",
      "1331/1331 [==============================] - 2s 1ms/step - loss: 995.3681 - mae: 22.2950 - val_loss: 1040.7267 - val_mae: 22.7409\n",
      "Epoch 64/100\n",
      "1331/1331 [==============================] - 2s 1ms/step - loss: 996.2900 - mae: 22.3272 - val_loss: 1031.2528 - val_mae: 22.6651\n",
      "Epoch 65/100\n",
      "1331/1331 [==============================] - 2s 1ms/step - loss: 995.6190 - mae: 22.2865 - val_loss: 1050.2684 - val_mae: 23.2808\n",
      "Epoch 66/100\n",
      "1331/1331 [==============================] - 2s 1ms/step - loss: 993.2959 - mae: 22.3046 - val_loss: 1057.3368 - val_mae: 22.7621\n",
      "Epoch 67/100\n",
      "1331/1331 [==============================] - 2s 1ms/step - loss: 991.2642 - mae: 22.2800 - val_loss: 1034.0797 - val_mae: 22.6954\n",
      "Epoch 68/100\n",
      "1331/1331 [==============================] - 2s 1ms/step - loss: 990.6950 - mae: 22.2653 - val_loss: 1055.0463 - val_mae: 22.6469\n",
      "Epoch 69/100\n",
      "1331/1331 [==============================] - 2s 1ms/step - loss: 989.3257 - mae: 22.2615 - val_loss: 1045.6786 - val_mae: 22.7543\n",
      "Epoch 70/100\n",
      "1331/1331 [==============================] - 1s 1ms/step - loss: 986.0359 - mae: 22.2526 - val_loss: 1046.2761 - val_mae: 22.6425\n",
      "Epoch 71/100\n",
      "1331/1331 [==============================] - 1s 1ms/step - loss: 988.8656 - mae: 22.2861 - val_loss: 1027.2522 - val_mae: 22.6350\n",
      "Epoch 72/100\n",
      "1331/1331 [==============================] - 2s 1ms/step - loss: 989.0432 - mae: 22.2567 - val_loss: 1038.8650 - val_mae: 22.6368\n",
      "Epoch 73/100\n",
      "1331/1331 [==============================] - 2s 1ms/step - loss: 983.7123 - mae: 22.2052 - val_loss: 1039.4130 - val_mae: 22.9029\n",
      "Epoch 74/100\n",
      "1331/1331 [==============================] - 2s 1ms/step - loss: 984.2620 - mae: 22.2336 - val_loss: 1042.5867 - val_mae: 22.9180\n",
      "Epoch 75/100\n",
      "1331/1331 [==============================] - 1s 1ms/step - loss: 981.3882 - mae: 22.2021 - val_loss: 1018.7556 - val_mae: 22.6585\n",
      "Epoch 76/100\n",
      "1331/1331 [==============================] - 2s 1ms/step - loss: 978.5862 - mae: 22.1316 - val_loss: 1051.9117 - val_mae: 22.9282\n",
      "Epoch 77/100\n",
      "1331/1331 [==============================] - 2s 1ms/step - loss: 983.6147 - mae: 22.2396 - val_loss: 1064.0690 - val_mae: 23.2250\n",
      "Epoch 78/100\n",
      "1331/1331 [==============================] - 1s 977us/step - loss: 980.5514 - mae: 22.1936 - val_loss: 1018.2690 - val_mae: 22.6907\n",
      "Epoch 79/100\n",
      "1331/1331 [==============================] - 1s 1ms/step - loss: 978.5499 - mae: 22.1653 - val_loss: 1034.4225 - val_mae: 23.0154\n",
      "Epoch 80/100\n",
      "1331/1331 [==============================] - 2s 1ms/step - loss: 974.3359 - mae: 22.1022 - val_loss: 1049.3940 - val_mae: 22.7235\n",
      "Epoch 81/100\n",
      "1331/1331 [==============================] - 1s 1ms/step - loss: 977.9852 - mae: 22.1548 - val_loss: 1026.1814 - val_mae: 22.4377\n",
      "Epoch 82/100\n",
      "1331/1331 [==============================] - 1s 907us/step - loss: 974.2100 - mae: 22.0857 - val_loss: 1018.4271 - val_mae: 22.4158\n",
      "Epoch 83/100\n",
      "1331/1331 [==============================] - 1s 904us/step - loss: 973.3069 - mae: 22.1278 - val_loss: 1034.2184 - val_mae: 22.7392\n",
      "Epoch 84/100\n",
      "1331/1331 [==============================] - 1s 901us/step - loss: 974.6647 - mae: 22.1157 - val_loss: 1006.6148 - val_mae: 22.3621\n",
      "Epoch 85/100\n",
      "1331/1331 [==============================] - 1s 912us/step - loss: 972.3810 - mae: 22.0714 - val_loss: 1016.5397 - val_mae: 22.5962\n",
      "Epoch 86/100\n",
      "1331/1331 [==============================] - 1s 912us/step - loss: 968.3564 - mae: 22.0697 - val_loss: 1016.8955 - val_mae: 22.3310\n",
      "Epoch 87/100\n",
      "1331/1331 [==============================] - 1s 913us/step - loss: 975.0386 - mae: 22.1481 - val_loss: 1026.3418 - val_mae: 22.4740\n",
      "Epoch 88/100\n",
      "1331/1331 [==============================] - 1s 903us/step - loss: 970.4218 - mae: 22.0936 - val_loss: 1009.9061 - val_mae: 22.3105\n",
      "Epoch 89/100\n",
      "1331/1331 [==============================] - 1s 901us/step - loss: 970.5485 - mae: 22.0964 - val_loss: 1083.0867 - val_mae: 23.3348\n",
      "Epoch 90/100\n",
      "1331/1331 [==============================] - 1s 911us/step - loss: 971.5112 - mae: 22.1135 - val_loss: 1043.3093 - val_mae: 23.3002\n",
      "Epoch 91/100\n",
      "1331/1331 [==============================] - 1s 926us/step - loss: 971.1998 - mae: 22.1277 - val_loss: 1005.1838 - val_mae: 22.3470\n",
      "Epoch 92/100\n",
      "1331/1331 [==============================] - 1s 916us/step - loss: 966.3201 - mae: 22.0540 - val_loss: 1065.3270 - val_mae: 23.2541\n",
      "Epoch 93/100\n",
      "1331/1331 [==============================] - 1s 898us/step - loss: 970.3154 - mae: 22.1374 - val_loss: 1015.2389 - val_mae: 22.4903\n",
      "Epoch 94/100\n",
      "1331/1331 [==============================] - 1s 914us/step - loss: 965.3768 - mae: 22.0260 - val_loss: 1028.3696 - val_mae: 22.7852\n",
      "Epoch 95/100\n",
      "1331/1331 [==============================] - 1s 907us/step - loss: 964.9048 - mae: 22.0206 - val_loss: 1015.3705 - val_mae: 22.5638\n",
      "Epoch 96/100\n",
      "1331/1331 [==============================] - 1s 898us/step - loss: 966.2371 - mae: 22.0231 - val_loss: 1027.4401 - val_mae: 22.6496\n",
      "Epoch 97/100\n",
      "1331/1331 [==============================] - 1s 914us/step - loss: 965.6299 - mae: 21.9991 - val_loss: 1001.4052 - val_mae: 22.2731\n",
      "Epoch 98/100\n",
      "1331/1331 [==============================] - 1s 903us/step - loss: 966.3412 - mae: 22.0923 - val_loss: 1017.1429 - val_mae: 22.2611\n",
      "Epoch 99/100\n",
      "1331/1331 [==============================] - 1s 909us/step - loss: 963.8757 - mae: 22.0125 - val_loss: 1055.6486 - val_mae: 23.2348\n",
      "Epoch 100/100\n",
      "1331/1331 [==============================] - 1s 914us/step - loss: 960.0850 - mae: 21.9631 - val_loss: 1004.8101 - val_mae: 22.2942\n"
     ]
    }
   ],
   "source": [
    "history = model.fit(X_train_scaled, y_train, validation_split=0.2, epochs=100)"
   ]
  },
  {
   "cell_type": "code",
   "execution_count": 23,
   "id": "5fffd661",
   "metadata": {},
   "outputs": [
    {
     "name": "stdout",
     "output_type": "stream",
     "text": [
      "Predicted value:  [[188.1457  ]\n",
      " [ 61.919033]\n",
      " [ 78.817566]\n",
      " [ 85.129005]\n",
      " [175.29692 ]]\n",
      "Real value:  32184    101.757311\n",
      "939       78.908571\n",
      "50647     98.077425\n",
      "6811      74.048057\n",
      "12119    141.185184\n",
      "Name: CO2_working_capacity, dtype: float64\n"
     ]
    }
   ],
   "source": [
    "# Predict on test data\n",
    "predictions = model.predict(X_test_scaled[:5])\n",
    "print('Predicted value: ', predictions)\n",
    "print('Real value: ', y_test[:5])"
   ]
  },
  {
   "cell_type": "code",
   "execution_count": 24,
   "id": "57923164",
   "metadata": {},
   "outputs": [
    {
     "name": "stdout",
     "output_type": "stream",
     "text": [
      "416/416 [==============================] - 0s 974us/step - loss: 54199881728.0000 - mae: 186395.9688\n",
      "MSE from neural net:  54199881728.0\n",
      "MAE from neural net:  186395.96875\n"
     ]
    }
   ],
   "source": [
    "mse_neural, mae_neural = model.evaluate(X_test, y_test)\n",
    "print('MSE from neural net: ', mse_neural)\n",
    "print('MAE from neural net: ', mae_neural)"
   ]
  },
  {
   "cell_type": "markdown",
   "id": "9e2a4181",
   "metadata": {},
   "source": [
    "# Orther model"
   ]
  },
  {
   "cell_type": "code",
   "execution_count": 30,
   "id": "bb4e1f86",
   "metadata": {},
   "outputs": [],
   "source": [
    "from sklearn.metrics import mean_squared_error, mean_absolute_error"
   ]
  },
  {
   "cell_type": "markdown",
   "id": "b8707cb4",
   "metadata": {},
   "source": [
    "# Random Forest"
   ]
  },
  {
   "cell_type": "code",
   "execution_count": 26,
   "id": "5442ad02",
   "metadata": {},
   "outputs": [
    {
     "data": {
      "text/plain": [
       "RandomForestRegressor(n_estimators=30, random_state=30)"
      ]
     },
     "execution_count": 26,
     "metadata": {},
     "output_type": "execute_result"
    }
   ],
   "source": [
    "from sklearn.ensemble import RandomForestRegressor\n",
    "model = RandomForestRegressor(n_estimators =  30, random_state=30)\n",
    "model.fit(X_train_scaled, y_train)"
   ]
  },
  {
   "cell_type": "code",
   "execution_count": 27,
   "id": "f32f8726",
   "metadata": {},
   "outputs": [],
   "source": [
    "y_pred_RF = model.predict(X_test_scaled)"
   ]
  },
  {
   "cell_type": "code",
   "execution_count": 42,
   "id": "7ef85c02",
   "metadata": {},
   "outputs": [
    {
     "name": "stdout",
     "output_type": "stream",
     "text": [
      "[170.02809063  66.24095425  81.36634608  77.959964   159.95090471\n",
      "  72.01923871 331.68901229  89.03707909 136.17556779 192.87103118\n",
      "  85.03539796 150.39012776 261.78166939 132.06591009  83.69116863\n",
      " 261.93852513 146.49587845  86.17333114  90.90515684 109.49938472]\n",
      "[101.75731112  78.90857088  98.07742471  74.048057   141.18518431\n",
      "  47.0136358  354.52879438  77.91481006  83.34764433 157.96372973\n",
      "  70.53357729 155.61947767 299.73592625  97.70699294  51.6255444\n",
      " 299.01404651 139.72161564  77.94666983  93.28277638  75.25047457]\n"
     ]
    }
   ],
   "source": [
    "print(y_pred_RF[:20])\n",
    "print(y_test[:20])"
   ]
  },
  {
   "cell_type": "code",
   "execution_count": 40,
   "id": "38ab4073",
   "metadata": {},
   "outputs": [
    {
     "name": "stdout",
     "output_type": "stream",
     "text": [
      "MSE from RF:  1003.4653692344247\n",
      "MAE from RF:  21.64652902058078\n"
     ]
    }
   ],
   "source": [
    "mse_RF = mean_squared_error(y_test, y_pred_RF)\n",
    "mae_RF = mean_absolute_error(y_test, y_pred_RF)\n",
    "print('MSE from RF: ', mse_RF)\n",
    "print('MAE from RF: ', mae_RF)"
   ]
  },
  {
   "cell_type": "code",
   "execution_count": null,
   "id": "35af992d",
   "metadata": {},
   "outputs": [],
   "source": []
  },
  {
   "cell_type": "code",
   "execution_count": null,
   "id": "36378b86",
   "metadata": {},
   "outputs": [],
   "source": []
  }
 ],
 "metadata": {
  "kernelspec": {
   "display_name": "TMLCC",
   "language": "python",
   "name": "tmlcc"
  },
  "language_info": {
   "codemirror_mode": {
    "name": "ipython",
    "version": 3
   },
   "file_extension": ".py",
   "mimetype": "text/x-python",
   "name": "python",
   "nbconvert_exporter": "python",
   "pygments_lexer": "ipython3",
   "version": "3.7.9"
  }
 },
 "nbformat": 4,
 "nbformat_minor": 5
}
